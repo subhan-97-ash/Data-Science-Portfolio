{
 "cells": [
  {
   "cell_type": "markdown",
   "metadata": {},
   "source": [
    "<p style=\"font-size:36px;text-align:center\"> <b>Spam Detection</b> </p>"
   ]
  },
  {
   "cell_type": "markdown",
   "metadata": {},
   "source": [
    "##### Problem Statement\n",
    "- Detecting whether a text or content is spam or not."
   ]
  },
  {
   "cell_type": "code",
   "execution_count": 2,
   "metadata": {},
   "outputs": [],
   "source": [
    "import pandas as pd\n",
    "import matplotlib.pyplot as plt\n",
    "import warnings\n",
    "warnings.filterwarnings(\"ignore\")\n",
    "import numpy as np\n",
    "import seaborn as sns\n",
    "import re\n",
    "\n",
    "import nltk\n",
    "from nltk.corpus import stopwords\n",
    "import string\n",
    "string.punctuation\n",
    "from nltk.stem import PorterStemmer, SnowballStemmer\n",
    "from wordcloud import WordCloud\n",
    "\n",
    "\n",
    "from sklearn.preprocessing import LabelEncoder\n",
    "from sklearn.feature_extraction.text import CountVectorizer, TfidfVectorizer\n",
    "from sklearn.neighbors import KNeighborsClassifier\n",
    "from sklearn.metrics import precision_score, accuracy_score, f1_score\n",
    "from sklearn.linear_model import SGDClassifier\n",
    "from collections import Counter, defaultdict\n",
    "from sklearn.calibration import CalibratedClassifierCV\n",
    "from sklearn.naive_bayes import MultinomialNB, GaussianNB, BernoulliNB\n",
    "from sklearn.model_selection import train_test_split\n",
    "from sklearn.model_selection import GridSearchCV\n",
    "from sklearn.ensemble import RandomForestClassifier\n",
    "from sklearn.linear_model import LogisticRegression"
   ]
  },
  {
   "cell_type": "markdown",
   "metadata": {},
   "source": [
    "-----------------"
   ]
  },
  {
   "cell_type": "markdown",
   "metadata": {},
   "source": [
    "### DATA OVERVIEW ::"
   ]
  },
  {
   "cell_type": "code",
   "execution_count": 13,
   "metadata": {},
   "outputs": [
    {
     "data": {
      "text/html": [
       "<div>\n",
       "<style scoped>\n",
       "    .dataframe tbody tr th:only-of-type {\n",
       "        vertical-align: middle;\n",
       "    }\n",
       "\n",
       "    .dataframe tbody tr th {\n",
       "        vertical-align: top;\n",
       "    }\n",
       "\n",
       "    .dataframe thead th {\n",
       "        text-align: right;\n",
       "    }\n",
       "</style>\n",
       "<table border=\"1\" class=\"dataframe\">\n",
       "  <thead>\n",
       "    <tr style=\"text-align: right;\">\n",
       "      <th></th>\n",
       "      <th>v1</th>\n",
       "      <th>v2</th>\n",
       "      <th>Unnamed: 2</th>\n",
       "      <th>Unnamed: 3</th>\n",
       "      <th>Unnamed: 4</th>\n",
       "    </tr>\n",
       "  </thead>\n",
       "  <tbody>\n",
       "    <tr>\n",
       "      <th>0</th>\n",
       "      <td>ham</td>\n",
       "      <td>Go until jurong point, crazy.. Available only ...</td>\n",
       "      <td>NaN</td>\n",
       "      <td>NaN</td>\n",
       "      <td>NaN</td>\n",
       "    </tr>\n",
       "    <tr>\n",
       "      <th>1</th>\n",
       "      <td>ham</td>\n",
       "      <td>Ok lar... Joking wif u oni...</td>\n",
       "      <td>NaN</td>\n",
       "      <td>NaN</td>\n",
       "      <td>NaN</td>\n",
       "    </tr>\n",
       "    <tr>\n",
       "      <th>2</th>\n",
       "      <td>spam</td>\n",
       "      <td>Free entry in 2 a wkly comp to win FA Cup fina...</td>\n",
       "      <td>NaN</td>\n",
       "      <td>NaN</td>\n",
       "      <td>NaN</td>\n",
       "    </tr>\n",
       "    <tr>\n",
       "      <th>3</th>\n",
       "      <td>ham</td>\n",
       "      <td>U dun say so early hor... U c already then say...</td>\n",
       "      <td>NaN</td>\n",
       "      <td>NaN</td>\n",
       "      <td>NaN</td>\n",
       "    </tr>\n",
       "    <tr>\n",
       "      <th>4</th>\n",
       "      <td>ham</td>\n",
       "      <td>Nah I don't think he goes to usf, he lives aro...</td>\n",
       "      <td>NaN</td>\n",
       "      <td>NaN</td>\n",
       "      <td>NaN</td>\n",
       "    </tr>\n",
       "  </tbody>\n",
       "</table>\n",
       "</div>"
      ],
      "text/plain": [
       "     v1                                                 v2 Unnamed: 2  \\\n",
       "0   ham  Go until jurong point, crazy.. Available only ...        NaN   \n",
       "1   ham                      Ok lar... Joking wif u oni...        NaN   \n",
       "2  spam  Free entry in 2 a wkly comp to win FA Cup fina...        NaN   \n",
       "3   ham  U dun say so early hor... U c already then say...        NaN   \n",
       "4   ham  Nah I don't think he goes to usf, he lives aro...        NaN   \n",
       "\n",
       "  Unnamed: 3 Unnamed: 4  \n",
       "0        NaN        NaN  \n",
       "1        NaN        NaN  \n",
       "2        NaN        NaN  \n",
       "3        NaN        NaN  \n",
       "4        NaN        NaN  "
      ]
     },
     "execution_count": 13,
     "metadata": {},
     "output_type": "execute_result"
    }
   ],
   "source": [
    "df=pd.read_csv('spam.csv',sep=',',engine='python')\n",
    "df.head()"
   ]
  },
  {
   "cell_type": "code",
   "execution_count": 14,
   "metadata": {},
   "outputs": [
    {
     "data": {
      "text/plain": [
       "'Go until jurong point, crazy.. Available only in bugis n great world la e buffet... Cine there got amore wat...'"
      ]
     },
     "execution_count": 14,
     "metadata": {},
     "output_type": "execute_result"
    }
   ],
   "source": [
    "df.v2.iloc[0]"
   ]
  },
  {
   "cell_type": "code",
   "execution_count": 16,
   "metadata": {},
   "outputs": [
    {
     "data": {
      "text/plain": [
       "Index(['v1', 'v2', 'Unnamed: 2', 'Unnamed: 3', 'Unnamed: 4'], dtype='object')"
      ]
     },
     "execution_count": 16,
     "metadata": {},
     "output_type": "execute_result"
    }
   ],
   "source": [
    "df.columns"
   ]
  },
  {
   "cell_type": "code",
   "execution_count": 18,
   "metadata": {},
   "outputs": [],
   "source": [
    "df.drop(columns=['Unnamed: 2', 'Unnamed: 3', 'Unnamed: 4'],inplace=True)"
   ]
  },
  {
   "cell_type": "code",
   "execution_count": 19,
   "metadata": {},
   "outputs": [
    {
     "data": {
      "text/html": [
       "<div>\n",
       "<style scoped>\n",
       "    .dataframe tbody tr th:only-of-type {\n",
       "        vertical-align: middle;\n",
       "    }\n",
       "\n",
       "    .dataframe tbody tr th {\n",
       "        vertical-align: top;\n",
       "    }\n",
       "\n",
       "    .dataframe thead th {\n",
       "        text-align: right;\n",
       "    }\n",
       "</style>\n",
       "<table border=\"1\" class=\"dataframe\">\n",
       "  <thead>\n",
       "    <tr style=\"text-align: right;\">\n",
       "      <th></th>\n",
       "      <th>v1</th>\n",
       "      <th>v2</th>\n",
       "    </tr>\n",
       "  </thead>\n",
       "  <tbody>\n",
       "    <tr>\n",
       "      <th>0</th>\n",
       "      <td>ham</td>\n",
       "      <td>Go until jurong point, crazy.. Available only ...</td>\n",
       "    </tr>\n",
       "    <tr>\n",
       "      <th>1</th>\n",
       "      <td>ham</td>\n",
       "      <td>Ok lar... Joking wif u oni...</td>\n",
       "    </tr>\n",
       "  </tbody>\n",
       "</table>\n",
       "</div>"
      ],
      "text/plain": [
       "    v1                                                 v2\n",
       "0  ham  Go until jurong point, crazy.. Available only ...\n",
       "1  ham                      Ok lar... Joking wif u oni..."
      ]
     },
     "execution_count": 19,
     "metadata": {},
     "output_type": "execute_result"
    }
   ],
   "source": [
    "df.head(2)"
   ]
  },
  {
   "cell_type": "code",
   "execution_count": 20,
   "metadata": {},
   "outputs": [
    {
     "data": {
      "text/plain": [
       "v1                                                  ham\n",
       "v2    Go until jurong point, crazy.. Available only ...\n",
       "Name: 0, dtype: object"
      ]
     },
     "execution_count": 20,
     "metadata": {},
     "output_type": "execute_result"
    }
   ],
   "source": [
    "df.iloc[0]"
   ]
  },
  {
   "cell_type": "code",
   "execution_count": 21,
   "metadata": {},
   "outputs": [
    {
     "data": {
      "text/plain": [
       "(5572, 2)"
      ]
     },
     "execution_count": 21,
     "metadata": {},
     "output_type": "execute_result"
    }
   ],
   "source": [
    "df.shape"
   ]
  },
  {
   "cell_type": "code",
   "execution_count": 22,
   "metadata": {},
   "outputs": [
    {
     "data": {
      "text/html": [
       "<div>\n",
       "<style scoped>\n",
       "    .dataframe tbody tr th:only-of-type {\n",
       "        vertical-align: middle;\n",
       "    }\n",
       "\n",
       "    .dataframe tbody tr th {\n",
       "        vertical-align: top;\n",
       "    }\n",
       "\n",
       "    .dataframe thead th {\n",
       "        text-align: right;\n",
       "    }\n",
       "</style>\n",
       "<table border=\"1\" class=\"dataframe\">\n",
       "  <thead>\n",
       "    <tr style=\"text-align: right;\">\n",
       "      <th></th>\n",
       "      <th>target</th>\n",
       "      <th>text</th>\n",
       "    </tr>\n",
       "  </thead>\n",
       "  <tbody>\n",
       "    <tr>\n",
       "      <th>0</th>\n",
       "      <td>ham</td>\n",
       "      <td>Go until jurong point, crazy.. Available only ...</td>\n",
       "    </tr>\n",
       "    <tr>\n",
       "      <th>1</th>\n",
       "      <td>ham</td>\n",
       "      <td>Ok lar... Joking wif u oni...</td>\n",
       "    </tr>\n",
       "    <tr>\n",
       "      <th>2</th>\n",
       "      <td>spam</td>\n",
       "      <td>Free entry in 2 a wkly comp to win FA Cup fina...</td>\n",
       "    </tr>\n",
       "    <tr>\n",
       "      <th>3</th>\n",
       "      <td>ham</td>\n",
       "      <td>U dun say so early hor... U c already then say...</td>\n",
       "    </tr>\n",
       "    <tr>\n",
       "      <th>4</th>\n",
       "      <td>ham</td>\n",
       "      <td>Nah I don't think he goes to usf, he lives aro...</td>\n",
       "    </tr>\n",
       "  </tbody>\n",
       "</table>\n",
       "</div>"
      ],
      "text/plain": [
       "  target                                               text\n",
       "0    ham  Go until jurong point, crazy.. Available only ...\n",
       "1    ham                      Ok lar... Joking wif u oni...\n",
       "2   spam  Free entry in 2 a wkly comp to win FA Cup fina...\n",
       "3    ham  U dun say so early hor... U c already then say...\n",
       "4    ham  Nah I don't think he goes to usf, he lives aro..."
      ]
     },
     "execution_count": 22,
     "metadata": {},
     "output_type": "execute_result"
    }
   ],
   "source": [
    "df=df.rename(columns={'v1':'target','v2':'text'})\n",
    "df.head()"
   ]
  },
  {
   "cell_type": "markdown",
   "metadata": {},
   "source": [
    "-----"
   ]
  },
  {
   "cell_type": "markdown",
   "metadata": {},
   "source": [
    "### DATA CLEANING ::"
   ]
  },
  {
   "cell_type": "code",
   "execution_count": 23,
   "metadata": {},
   "outputs": [
    {
     "name": "stdout",
     "output_type": "stream",
     "text": [
      "<class 'pandas.core.frame.DataFrame'>\n",
      "RangeIndex: 5572 entries, 0 to 5571\n",
      "Data columns (total 2 columns):\n",
      " #   Column  Non-Null Count  Dtype \n",
      "---  ------  --------------  ----- \n",
      " 0   target  5572 non-null   object\n",
      " 1   text    5572 non-null   object\n",
      "dtypes: object(2)\n",
      "memory usage: 87.2+ KB\n"
     ]
    }
   ],
   "source": [
    "df.info()"
   ]
  },
  {
   "cell_type": "code",
   "execution_count": 24,
   "metadata": {},
   "outputs": [
    {
     "data": {
      "text/plain": [
       "ham     4825\n",
       "spam     747\n",
       "Name: target, dtype: int64"
      ]
     },
     "execution_count": 24,
     "metadata": {},
     "output_type": "execute_result"
    }
   ],
   "source": [
    "df.target.value_counts()"
   ]
  },
  {
   "cell_type": "code",
   "execution_count": 29,
   "metadata": {},
   "outputs": [
    {
     "data": {
      "text/plain": [
       "403"
      ]
     },
     "execution_count": 29,
     "metadata": {},
     "output_type": "execute_result"
    }
   ],
   "source": [
    "# check for duplicates\n",
    "df.duplicated().sum()"
   ]
  },
  {
   "cell_type": "code",
   "execution_count": 30,
   "metadata": {},
   "outputs": [],
   "source": [
    "df.drop_duplicates(keep='first',inplace=True)"
   ]
  },
  {
   "cell_type": "code",
   "execution_count": 31,
   "metadata": {},
   "outputs": [
    {
     "data": {
      "text/plain": [
       "0"
      ]
     },
     "execution_count": 31,
     "metadata": {},
     "output_type": "execute_result"
    }
   ],
   "source": [
    "df.duplicated().sum()"
   ]
  },
  {
   "cell_type": "code",
   "execution_count": 32,
   "metadata": {},
   "outputs": [
    {
     "data": {
      "text/plain": [
       "array([0, 0, 1, ..., 0, 0, 0])"
      ]
     },
     "execution_count": 32,
     "metadata": {},
     "output_type": "execute_result"
    }
   ],
   "source": [
    "# converting labels to numeric\n",
    "encoder=LabelEncoder()\n",
    "encoder.fit_transform(df['target'])"
   ]
  },
  {
   "cell_type": "code",
   "execution_count": 34,
   "metadata": {},
   "outputs": [
    {
     "data": {
      "text/html": [
       "<div>\n",
       "<style scoped>\n",
       "    .dataframe tbody tr th:only-of-type {\n",
       "        vertical-align: middle;\n",
       "    }\n",
       "\n",
       "    .dataframe tbody tr th {\n",
       "        vertical-align: top;\n",
       "    }\n",
       "\n",
       "    .dataframe thead th {\n",
       "        text-align: right;\n",
       "    }\n",
       "</style>\n",
       "<table border=\"1\" class=\"dataframe\">\n",
       "  <thead>\n",
       "    <tr style=\"text-align: right;\">\n",
       "      <th></th>\n",
       "      <th>target</th>\n",
       "      <th>text</th>\n",
       "    </tr>\n",
       "  </thead>\n",
       "  <tbody>\n",
       "    <tr>\n",
       "      <th>0</th>\n",
       "      <td>0</td>\n",
       "      <td>Go until jurong point, crazy.. Available only ...</td>\n",
       "    </tr>\n",
       "    <tr>\n",
       "      <th>1</th>\n",
       "      <td>0</td>\n",
       "      <td>Ok lar... Joking wif u oni...</td>\n",
       "    </tr>\n",
       "    <tr>\n",
       "      <th>2</th>\n",
       "      <td>1</td>\n",
       "      <td>Free entry in 2 a wkly comp to win FA Cup fina...</td>\n",
       "    </tr>\n",
       "    <tr>\n",
       "      <th>3</th>\n",
       "      <td>0</td>\n",
       "      <td>U dun say so early hor... U c already then say...</td>\n",
       "    </tr>\n",
       "    <tr>\n",
       "      <th>4</th>\n",
       "      <td>0</td>\n",
       "      <td>Nah I don't think he goes to usf, he lives aro...</td>\n",
       "    </tr>\n",
       "  </tbody>\n",
       "</table>\n",
       "</div>"
      ],
      "text/plain": [
       "   target                                               text\n",
       "0       0  Go until jurong point, crazy.. Available only ...\n",
       "1       0                      Ok lar... Joking wif u oni...\n",
       "2       1  Free entry in 2 a wkly comp to win FA Cup fina...\n",
       "3       0  U dun say so early hor... U c already then say...\n",
       "4       0  Nah I don't think he goes to usf, he lives aro..."
      ]
     },
     "execution_count": 34,
     "metadata": {},
     "output_type": "execute_result"
    }
   ],
   "source": [
    "df['target']=encoder.fit_transform(df['target'])\n",
    "df.head()"
   ]
  },
  {
   "cell_type": "code",
   "execution_count": 35,
   "metadata": {},
   "outputs": [
    {
     "data": {
      "text/plain": [
       "(5169, 2)"
      ]
     },
     "execution_count": 35,
     "metadata": {},
     "output_type": "execute_result"
    }
   ],
   "source": [
    "df.shape"
   ]
  },
  {
   "cell_type": "markdown",
   "metadata": {},
   "source": [
    "-----------------"
   ]
  },
  {
   "cell_type": "markdown",
   "metadata": {},
   "source": [
    "### EDA ::"
   ]
  },
  {
   "cell_type": "code",
   "execution_count": 36,
   "metadata": {},
   "outputs": [
    {
     "data": {
      "text/plain": [
       "0    4516\n",
       "1     653\n",
       "Name: target, dtype: int64"
      ]
     },
     "execution_count": 36,
     "metadata": {},
     "output_type": "execute_result"
    }
   ],
   "source": [
    "df.target.value_counts()"
   ]
  },
  {
   "cell_type": "code",
   "execution_count": 37,
   "metadata": {},
   "outputs": [
    {
     "data": {
      "image/png": "[encoded data removed]",
      "text/plain": [
       "<Figure size 432x288 with 1 Axes>"
      ]
     },
     "metadata": {},
     "output_type": "display_data"
    }
   ],
   "source": [
    "# its an imbalanced data set\n",
    "plt.pie(df.target.value_counts(),labels=['ham','spam'],autopct='%0.2f')\n",
    "plt.show()"
   ]
  },
  {
   "cell_type": "code",
   "execution_count": 50,
   "metadata": {},
   "outputs": [
    {
     "data": {
      "text/plain": [
       "0       Go until jurong point, crazy.. Available only ...\n",
       "1                           Ok lar... Joking wif u oni...\n",
       "2       Free entry in 2 a wkly comp to win FA Cup fina...\n",
       "3       U dun say so early hor... U c already then say...\n",
       "4       Nah I don't think he goes to usf, he lives aro...\n",
       "                              ...                        \n",
       "5567    This is the 2nd time we have tried 2 contact u...\n",
       "5568                Will Ì_ b going to esplanade fr home?\n",
       "5569    Pity, * was in mood for that. So...any other s...\n",
       "5570    The guy did some bitching but I acted like i'd...\n",
       "5571                           Rofl. Its true to its name\n",
       "Name: text, Length: 5169, dtype: object"
      ]
     },
     "execution_count": 50,
     "metadata": {},
     "output_type": "execute_result"
    }
   ],
   "source": [
    "df['text']"
   ]
  },
  {
   "cell_type": "code",
   "execution_count": 41,
   "metadata": {},
   "outputs": [],
   "source": [
    "# lets have a understanding of number of words and sentences text column contains\n",
    "df['num_characters']=df['text'].apply(len)"
   ]
  },
  {
   "cell_type": "code",
   "execution_count": 42,
   "metadata": {},
   "outputs": [],
   "source": [
    "df['num_words']=df['text'].apply(lambda x:len(nltk.word_tokenize(x)))"
   ]
  },
  {
   "cell_type": "code",
   "execution_count": 43,
   "metadata": {},
   "outputs": [
    {
     "data": {
      "text/html": [
       "<div>\n",
       "<style scoped>\n",
       "    .dataframe tbody tr th:only-of-type {\n",
       "        vertical-align: middle;\n",
       "    }\n",
       "\n",
       "    .dataframe tbody tr th {\n",
       "        vertical-align: top;\n",
       "    }\n",
       "\n",
       "    .dataframe thead th {\n",
       "        text-align: right;\n",
       "    }\n",
       "</style>\n",
       "<table border=\"1\" class=\"dataframe\">\n",
       "  <thead>\n",
       "    <tr style=\"text-align: right;\">\n",
       "      <th></th>\n",
       "      <th>target</th>\n",
       "      <th>text</th>\n",
       "      <th>num_characters</th>\n",
       "      <th>num_words</th>\n",
       "    </tr>\n",
       "  </thead>\n",
       "  <tbody>\n",
       "    <tr>\n",
       "      <th>0</th>\n",
       "      <td>0</td>\n",
       "      <td>Go until jurong point, crazy.. Available only ...</td>\n",
       "      <td>111</td>\n",
       "      <td>23</td>\n",
       "    </tr>\n",
       "    <tr>\n",
       "      <th>1</th>\n",
       "      <td>0</td>\n",
       "      <td>Ok lar... Joking wif u oni...</td>\n",
       "      <td>29</td>\n",
       "      <td>8</td>\n",
       "    </tr>\n",
       "    <tr>\n",
       "      <th>2</th>\n",
       "      <td>1</td>\n",
       "      <td>Free entry in 2 a wkly comp to win FA Cup fina...</td>\n",
       "      <td>155</td>\n",
       "      <td>37</td>\n",
       "    </tr>\n",
       "    <tr>\n",
       "      <th>3</th>\n",
       "      <td>0</td>\n",
       "      <td>U dun say so early hor... U c already then say...</td>\n",
       "      <td>49</td>\n",
       "      <td>13</td>\n",
       "    </tr>\n",
       "    <tr>\n",
       "      <th>4</th>\n",
       "      <td>0</td>\n",
       "      <td>Nah I don't think he goes to usf, he lives aro...</td>\n",
       "      <td>61</td>\n",
       "      <td>15</td>\n",
       "    </tr>\n",
       "  </tbody>\n",
       "</table>\n",
       "</div>"
      ],
      "text/plain": [
       "   target                                               text  num_characters  \\\n",
       "0       0  Go until jurong point, crazy.. Available only ...             111   \n",
       "1       0                      Ok lar... Joking wif u oni...              29   \n",
       "2       1  Free entry in 2 a wkly comp to win FA Cup fina...             155   \n",
       "3       0  U dun say so early hor... U c already then say...              49   \n",
       "4       0  Nah I don't think he goes to usf, he lives aro...              61   \n",
       "\n",
       "   num_words  \n",
       "0         23  \n",
       "1          8  \n",
       "2         37  \n",
       "3         13  \n",
       "4         15  "
      ]
     },
     "execution_count": 43,
     "metadata": {},
     "output_type": "execute_result"
    }
   ],
   "source": [
    "df.head()"
   ]
  },
  {
   "cell_type": "code",
   "execution_count": 44,
   "metadata": {},
   "outputs": [],
   "source": [
    "df['num_sentences']=df['text'].apply(lambda x:len(nltk.sent_tokenize(x)))"
   ]
  },
  {
   "cell_type": "code",
   "execution_count": 45,
   "metadata": {},
   "outputs": [
    {
     "data": {
      "text/html": [
       "<div>\n",
       "<style scoped>\n",
       "    .dataframe tbody tr th:only-of-type {\n",
       "        vertical-align: middle;\n",
       "    }\n",
       "\n",
       "    .dataframe tbody tr th {\n",
       "        vertical-align: top;\n",
       "    }\n",
       "\n",
       "    .dataframe thead th {\n",
       "        text-align: right;\n",
       "    }\n",
       "</style>\n",
       "<table border=\"1\" class=\"dataframe\">\n",
       "  <thead>\n",
       "    <tr style=\"text-align: right;\">\n",
       "      <th></th>\n",
       "      <th>target</th>\n",
       "      <th>num_characters</th>\n",
       "      <th>num_words</th>\n",
       "      <th>num_sentences</th>\n",
       "    </tr>\n",
       "  </thead>\n",
       "  <tbody>\n",
       "    <tr>\n",
       "      <th>count</th>\n",
       "      <td>5169.000000</td>\n",
       "      <td>5169.000000</td>\n",
       "      <td>5169.000000</td>\n",
       "      <td>5169.000000</td>\n",
       "    </tr>\n",
       "    <tr>\n",
       "      <th>mean</th>\n",
       "      <td>0.126330</td>\n",
       "      <td>78.977945</td>\n",
       "      <td>18.286129</td>\n",
       "      <td>1.961308</td>\n",
       "    </tr>\n",
       "    <tr>\n",
       "      <th>std</th>\n",
       "      <td>0.332253</td>\n",
       "      <td>58.236293</td>\n",
       "      <td>13.226400</td>\n",
       "      <td>1.432583</td>\n",
       "    </tr>\n",
       "    <tr>\n",
       "      <th>min</th>\n",
       "      <td>0.000000</td>\n",
       "      <td>2.000000</td>\n",
       "      <td>1.000000</td>\n",
       "      <td>1.000000</td>\n",
       "    </tr>\n",
       "    <tr>\n",
       "      <th>25%</th>\n",
       "      <td>0.000000</td>\n",
       "      <td>36.000000</td>\n",
       "      <td>9.000000</td>\n",
       "      <td>1.000000</td>\n",
       "    </tr>\n",
       "    <tr>\n",
       "      <th>50%</th>\n",
       "      <td>0.000000</td>\n",
       "      <td>60.000000</td>\n",
       "      <td>15.000000</td>\n",
       "      <td>1.000000</td>\n",
       "    </tr>\n",
       "    <tr>\n",
       "      <th>75%</th>\n",
       "      <td>0.000000</td>\n",
       "      <td>117.000000</td>\n",
       "      <td>26.000000</td>\n",
       "      <td>2.000000</td>\n",
       "    </tr>\n",
       "    <tr>\n",
       "      <th>max</th>\n",
       "      <td>1.000000</td>\n",
       "      <td>910.000000</td>\n",
       "      <td>219.000000</td>\n",
       "      <td>38.000000</td>\n",
       "    </tr>\n",
       "  </tbody>\n",
       "</table>\n",
       "</div>"
      ],
      "text/plain": [
       "            target  num_characters    num_words  num_sentences\n",
       "count  5169.000000     5169.000000  5169.000000    5169.000000\n",
       "mean      0.126330       78.977945    18.286129       1.961308\n",
       "std       0.332253       58.236293    13.226400       1.432583\n",
       "min       0.000000        2.000000     1.000000       1.000000\n",
       "25%       0.000000       36.000000     9.000000       1.000000\n",
       "50%       0.000000       60.000000    15.000000       1.000000\n",
       "75%       0.000000      117.000000    26.000000       2.000000\n",
       "max       1.000000      910.000000   219.000000      38.000000"
      ]
     },
     "execution_count": 45,
     "metadata": {},
     "output_type": "execute_result"
    }
   ],
   "source": [
    "df.describe()"
   ]
  },
  {
   "cell_type": "markdown",
   "metadata": {},
   "source": [
    "- we have a max of 910 characters, 219 words and 38 sentences...\n"
   ]
  },
  {
   "cell_type": "code",
   "execution_count": 46,
   "metadata": {},
   "outputs": [
    {
     "data": {
      "text/html": [
       "<div>\n",
       "<style scoped>\n",
       "    .dataframe tbody tr th:only-of-type {\n",
       "        vertical-align: middle;\n",
       "    }\n",
       "\n",
       "    .dataframe tbody tr th {\n",
       "        vertical-align: top;\n",
       "    }\n",
       "\n",
       "    .dataframe thead th {\n",
       "        text-align: right;\n",
       "    }\n",
       "</style>\n",
       "<table border=\"1\" class=\"dataframe\">\n",
       "  <thead>\n",
       "    <tr style=\"text-align: right;\">\n",
       "      <th></th>\n",
       "      <th>target</th>\n",
       "      <th>num_characters</th>\n",
       "      <th>num_words</th>\n",
       "      <th>num_sentences</th>\n",
       "    </tr>\n",
       "  </thead>\n",
       "  <tbody>\n",
       "    <tr>\n",
       "      <th>count</th>\n",
       "      <td>4516.0</td>\n",
       "      <td>4516.000000</td>\n",
       "      <td>4516.000000</td>\n",
       "      <td>4516.000000</td>\n",
       "    </tr>\n",
       "    <tr>\n",
       "      <th>mean</th>\n",
       "      <td>0.0</td>\n",
       "      <td>70.459256</td>\n",
       "      <td>16.957484</td>\n",
       "      <td>1.815545</td>\n",
       "    </tr>\n",
       "    <tr>\n",
       "      <th>std</th>\n",
       "      <td>0.0</td>\n",
       "      <td>56.358207</td>\n",
       "      <td>13.394052</td>\n",
       "      <td>1.364098</td>\n",
       "    </tr>\n",
       "    <tr>\n",
       "      <th>min</th>\n",
       "      <td>0.0</td>\n",
       "      <td>2.000000</td>\n",
       "      <td>1.000000</td>\n",
       "      <td>1.000000</td>\n",
       "    </tr>\n",
       "    <tr>\n",
       "      <th>25%</th>\n",
       "      <td>0.0</td>\n",
       "      <td>34.000000</td>\n",
       "      <td>8.000000</td>\n",
       "      <td>1.000000</td>\n",
       "    </tr>\n",
       "    <tr>\n",
       "      <th>50%</th>\n",
       "      <td>0.0</td>\n",
       "      <td>52.000000</td>\n",
       "      <td>13.000000</td>\n",
       "      <td>1.000000</td>\n",
       "    </tr>\n",
       "    <tr>\n",
       "      <th>75%</th>\n",
       "      <td>0.0</td>\n",
       "      <td>90.000000</td>\n",
       "      <td>22.000000</td>\n",
       "      <td>2.000000</td>\n",
       "    </tr>\n",
       "    <tr>\n",
       "      <th>max</th>\n",
       "      <td>0.0</td>\n",
       "      <td>910.000000</td>\n",
       "      <td>219.000000</td>\n",
       "      <td>38.000000</td>\n",
       "    </tr>\n",
       "  </tbody>\n",
       "</table>\n",
       "</div>"
      ],
      "text/plain": [
       "       target  num_characters    num_words  num_sentences\n",
       "count  4516.0     4516.000000  4516.000000    4516.000000\n",
       "mean      0.0       70.459256    16.957484       1.815545\n",
       "std       0.0       56.358207    13.394052       1.364098\n",
       "min       0.0        2.000000     1.000000       1.000000\n",
       "25%       0.0       34.000000     8.000000       1.000000\n",
       "50%       0.0       52.000000    13.000000       1.000000\n",
       "75%       0.0       90.000000    22.000000       2.000000\n",
       "max       0.0      910.000000   219.000000      38.000000"
      ]
     },
     "execution_count": 46,
     "metadata": {},
     "output_type": "execute_result"
    }
   ],
   "source": [
    "# ham/ not spam info\n",
    "df[df['target']==0].describe()"
   ]
  },
  {
   "cell_type": "code",
   "execution_count": 47,
   "metadata": {},
   "outputs": [
    {
     "data": {
      "text/html": [
       "<div>\n",
       "<style scoped>\n",
       "    .dataframe tbody tr th:only-of-type {\n",
       "        vertical-align: middle;\n",
       "    }\n",
       "\n",
       "    .dataframe tbody tr th {\n",
       "        vertical-align: top;\n",
       "    }\n",
       "\n",
       "    .dataframe thead th {\n",
       "        text-align: right;\n",
       "    }\n",
       "</style>\n",
       "<table border=\"1\" class=\"dataframe\">\n",
       "  <thead>\n",
       "    <tr style=\"text-align: right;\">\n",
       "      <th></th>\n",
       "      <th>target</th>\n",
       "      <th>num_characters</th>\n",
       "      <th>num_words</th>\n",
       "      <th>num_sentences</th>\n",
       "    </tr>\n",
       "  </thead>\n",
       "  <tbody>\n",
       "    <tr>\n",
       "      <th>count</th>\n",
       "      <td>653.0</td>\n",
       "      <td>653.000000</td>\n",
       "      <td>653.000000</td>\n",
       "      <td>653.000000</td>\n",
       "    </tr>\n",
       "    <tr>\n",
       "      <th>mean</th>\n",
       "      <td>1.0</td>\n",
       "      <td>137.891271</td>\n",
       "      <td>27.474732</td>\n",
       "      <td>2.969372</td>\n",
       "    </tr>\n",
       "    <tr>\n",
       "      <th>std</th>\n",
       "      <td>0.0</td>\n",
       "      <td>30.137753</td>\n",
       "      <td>6.893007</td>\n",
       "      <td>1.488910</td>\n",
       "    </tr>\n",
       "    <tr>\n",
       "      <th>min</th>\n",
       "      <td>1.0</td>\n",
       "      <td>13.000000</td>\n",
       "      <td>2.000000</td>\n",
       "      <td>1.000000</td>\n",
       "    </tr>\n",
       "    <tr>\n",
       "      <th>25%</th>\n",
       "      <td>1.0</td>\n",
       "      <td>132.000000</td>\n",
       "      <td>25.000000</td>\n",
       "      <td>2.000000</td>\n",
       "    </tr>\n",
       "    <tr>\n",
       "      <th>50%</th>\n",
       "      <td>1.0</td>\n",
       "      <td>149.000000</td>\n",
       "      <td>29.000000</td>\n",
       "      <td>3.000000</td>\n",
       "    </tr>\n",
       "    <tr>\n",
       "      <th>75%</th>\n",
       "      <td>1.0</td>\n",
       "      <td>157.000000</td>\n",
       "      <td>32.000000</td>\n",
       "      <td>4.000000</td>\n",
       "    </tr>\n",
       "    <tr>\n",
       "      <th>max</th>\n",
       "      <td>1.0</td>\n",
       "      <td>224.000000</td>\n",
       "      <td>44.000000</td>\n",
       "      <td>9.000000</td>\n",
       "    </tr>\n",
       "  </tbody>\n",
       "</table>\n",
       "</div>"
      ],
      "text/plain": [
       "       target  num_characters   num_words  num_sentences\n",
       "count   653.0      653.000000  653.000000     653.000000\n",
       "mean      1.0      137.891271   27.474732       2.969372\n",
       "std       0.0       30.137753    6.893007       1.488910\n",
       "min       1.0       13.000000    2.000000       1.000000\n",
       "25%       1.0      132.000000   25.000000       2.000000\n",
       "50%       1.0      149.000000   29.000000       3.000000\n",
       "75%       1.0      157.000000   32.000000       4.000000\n",
       "max       1.0      224.000000   44.000000       9.000000"
      ]
     },
     "execution_count": 47,
     "metadata": {},
     "output_type": "execute_result"
    }
   ],
   "source": [
    "# spam info\n",
    "df[df['target']==1].describe()"
   ]
  },
  {
   "cell_type": "code",
   "execution_count": 49,
   "metadata": {},
   "outputs": [
    {
     "data": {
      "text/plain": [
       "<seaborn.axisgrid.PairGrid at 0x2277a767a58>"
      ]
     },
     "execution_count": 49,
     "metadata": {},
     "output_type": "execute_result"
    },
    {
     "data": {
      "image/png": "[encoded data removed]",
      "text/plain": [
       "<Figure size 582.375x540 with 12 Axes>"
      ]
     },
     "metadata": {},
     "output_type": "display_data"
    }
   ],
   "source": [
    "# have a check at the relations\n",
    "sns.pairplot(df,hue='target')"
   ]
  },
  {
   "cell_type": "markdown",
   "metadata": {},
   "source": [
    "- Not much helpful needs"
   ]
  },
  {
   "cell_type": "markdown",
   "metadata": {},
   "source": [
    "-------------"
   ]
  },
  {
   "cell_type": "markdown",
   "metadata": {},
   "source": [
    "### DATA PREPROCESSING ::"
   ]
  },
  {
   "cell_type": "code",
   "execution_count": 51,
   "metadata": {},
   "outputs": [],
   "source": [
    "def transform_text(text):\n",
    "    text=text.lower()\n",
    "    text= nltk.word_tokenize(text)\n",
    "    \n",
    "    y=[]\n",
    "    for i in text:\n",
    "        if i.isalnum():\n",
    "            y.append(i)              \n",
    "    text=y[:]  \n",
    "    y.clear()\n",
    "    \n",
    "    for i in text:\n",
    "        if i not in stopwords.words('english') and i not in string.punctuation:\n",
    "            y.append(i)\n",
    "    text=y[:]  \n",
    "    y.clear()\n",
    "    \n",
    "    ps=PorterStemmer()\n",
    "    \n",
    "    for i in text:\n",
    "        y.append(ps.stem(i))   \n",
    "        \n",
    "    return \" \".join(y)"
   ]
  },
  {
   "cell_type": "code",
   "execution_count": 52,
   "metadata": {},
   "outputs": [
    {
     "data": {
      "text/plain": [
       "\"I'm gonna be home soon and i don't want to talk about this stuff anymore tonight, k? I've cried enough today.\""
      ]
     },
     "execution_count": 52,
     "metadata": {},
     "output_type": "execute_result"
    }
   ],
   "source": [
    "df['text'].iloc[10]"
   ]
  },
  {
   "cell_type": "code",
   "execution_count": 53,
   "metadata": {},
   "outputs": [
    {
     "data": {
      "text/plain": [
       "'gon na home soon want talk stuff anymor tonight k cri enough today'"
      ]
     },
     "execution_count": 53,
     "metadata": {},
     "output_type": "execute_result"
    }
   ],
   "source": [
    "transform_text(df['text'][10])"
   ]
  },
  {
   "cell_type": "code",
   "execution_count": 54,
   "metadata": {},
   "outputs": [],
   "source": [
    "df['transformed_text']=df['text'].apply(transform_text)"
   ]
  },
  {
   "cell_type": "code",
   "execution_count": 55,
   "metadata": {},
   "outputs": [
    {
     "data": {
      "text/html": [
       "<div>\n",
       "<style scoped>\n",
       "    .dataframe tbody tr th:only-of-type {\n",
       "        vertical-align: middle;\n",
       "    }\n",
       "\n",
       "    .dataframe tbody tr th {\n",
       "        vertical-align: top;\n",
       "    }\n",
       "\n",
       "    .dataframe thead th {\n",
       "        text-align: right;\n",
       "    }\n",
       "</style>\n",
       "<table border=\"1\" class=\"dataframe\">\n",
       "  <thead>\n",
       "    <tr style=\"text-align: right;\">\n",
       "      <th></th>\n",
       "      <th>target</th>\n",
       "      <th>text</th>\n",
       "      <th>num_characters</th>\n",
       "      <th>num_words</th>\n",
       "      <th>num_sentences</th>\n",
       "      <th>transformed_text</th>\n",
       "    </tr>\n",
       "  </thead>\n",
       "  <tbody>\n",
       "    <tr>\n",
       "      <th>0</th>\n",
       "      <td>0</td>\n",
       "      <td>Go until jurong point, crazy.. Available only ...</td>\n",
       "      <td>111</td>\n",
       "      <td>23</td>\n",
       "      <td>2</td>\n",
       "      <td>go jurong point avail bugi n great world la e ...</td>\n",
       "    </tr>\n",
       "    <tr>\n",
       "      <th>1</th>\n",
       "      <td>0</td>\n",
       "      <td>Ok lar... Joking wif u oni...</td>\n",
       "      <td>29</td>\n",
       "      <td>8</td>\n",
       "      <td>2</td>\n",
       "      <td>ok lar joke wif u oni</td>\n",
       "    </tr>\n",
       "    <tr>\n",
       "      <th>2</th>\n",
       "      <td>1</td>\n",
       "      <td>Free entry in 2 a wkly comp to win FA Cup fina...</td>\n",
       "      <td>155</td>\n",
       "      <td>37</td>\n",
       "      <td>2</td>\n",
       "      <td>free entri 2 wkli comp win fa cup final tkt 21...</td>\n",
       "    </tr>\n",
       "    <tr>\n",
       "      <th>3</th>\n",
       "      <td>0</td>\n",
       "      <td>U dun say so early hor... U c already then say...</td>\n",
       "      <td>49</td>\n",
       "      <td>13</td>\n",
       "      <td>1</td>\n",
       "      <td>u dun say earli hor u c alreadi say</td>\n",
       "    </tr>\n",
       "    <tr>\n",
       "      <th>4</th>\n",
       "      <td>0</td>\n",
       "      <td>Nah I don't think he goes to usf, he lives aro...</td>\n",
       "      <td>61</td>\n",
       "      <td>15</td>\n",
       "      <td>1</td>\n",
       "      <td>nah think goe usf live around though</td>\n",
       "    </tr>\n",
       "  </tbody>\n",
       "</table>\n",
       "</div>"
      ],
      "text/plain": [
       "   target                                               text  num_characters  \\\n",
       "0       0  Go until jurong point, crazy.. Available only ...             111   \n",
       "1       0                      Ok lar... Joking wif u oni...              29   \n",
       "2       1  Free entry in 2 a wkly comp to win FA Cup fina...             155   \n",
       "3       0  U dun say so early hor... U c already then say...              49   \n",
       "4       0  Nah I don't think he goes to usf, he lives aro...              61   \n",
       "\n",
       "   num_words  num_sentences                                   transformed_text  \n",
       "0         23              2  go jurong point avail bugi n great world la e ...  \n",
       "1          8              2                              ok lar joke wif u oni  \n",
       "2         37              2  free entri 2 wkli comp win fa cup final tkt 21...  \n",
       "3         13              1                u dun say earli hor u c alreadi say  \n",
       "4         15              1               nah think goe usf live around though  "
      ]
     },
     "execution_count": 55,
     "metadata": {},
     "output_type": "execute_result"
    }
   ],
   "source": [
    "df.head()"
   ]
  },
  {
   "cell_type": "code",
   "execution_count": 81,
   "metadata": {},
   "outputs": [
    {
     "data": {
      "text/plain": [
       "'go jurong point avail bugi n great world la e buffet cine got amor wat  ok lar joke wif u oni  u dun say earli hor u c alreadi say  nah think goe usf live around though  even brother like speak treat like aid patent  per request mell oru minnaminungint nurungu vettam set callertun caller press copi friend callertun  gon na home soon want talk stuff anymor tonight k cri enough today  search right word thank breather promis wont take help grant fulfil promis wonder bless time  date sunday  oh k watch  eh u rememb 2 spell name ye v naughti make v wet  fine thatåõ way u feel thatåõ way gota b  serious spell name  go tri 2 month ha ha joke  pay first lar da stock comin  aft finish lunch go str lor ard 3 smth lor u finish ur lunch alreadi  ffffffffff alright way meet sooner  forc eat slice realli hungri tho suck mark get worri know sick turn pizza lol  lol alway convinc  catch bu fri egg make tea eat mom left dinner feel love  back amp pack car let know room  ahhh work vagu rememb feel like lol  wait still clear sure sarcast x want live us  yeah got 2 v apologet n fallen actin like spoilt child got caught till 2 wo go badli cheer  k tell anyth  fear faint housework quick cuppa  yup ok go home look time msg xuhui go learn 2nd may lesson 8am  oop let know roommat done  see letter b car  anyth lor u decid  hello saturday go text see decid anyth tomo tri invit anyth  pl go ahead watt want sure great weekend abiola  forget tell want need crave love sweet arabian steed mmmmmm yummi  see  great hope like man well endow lt gt inch  call  get hep b immunis nigeria  fair enough anyth go  yeah hope tyler ca could mayb ask around bit  u know stubborn even want go hospit kept tell mark weak sucker hospit weak sucker  think first time saw class  gram usual run like lt gt half eighth smarter though get almost whole second gram lt gt  k fyi x ride earli tomorrow morn crash place tonight  wow never realiz embarass accomod thought like sinc best could alway seem happi sorri give sorri offer sorri room embarass  know mallika sherawat yesterday find lt url gt  sorri call later meet  tell reach  sehwag odi seri  gon na pick 1 burger way home ca even move pain kill  ha ha ha good joke girl situat seeker  part check iq  sorri roommat took forev ok come  ok lar doubl check wif da hair dresser alreadi said wun cut v short said cut look nice  today dedic song u dedic send ur valuabl frnd first rpli  plane give month end  wah lucki man save money hee  finish class  hi babe im home wan na someth xx  perform  u call  wait machan call free  that cool gentleman treat digniti respect  like peopl much shi pa  oper lt gt  still look job much ta earn  sorri call later  call ah  ok way home hi hi  place man  yup next stop  call later network urgnt sm  real u get yo need 2 ticket one jacket done alreadi use multi  ye start send request make pain came back back bed doubl coin factori got ta cash nitro  realli still tonight babe  ela il download come wen ur  yeah stand close catch someth  sorri pain ok meet anoth night spent late afternoon casualti mean done stuff42moro includ time sheet sorri  smile pleasur smile pain smile troubl pour like rain smile sum1 hurt u smile becoz someon still love see u smile  havent plan buy later check alreadi lido got 530 show e afternoon u finish work alreadi  watch telugu abt u  see finish load loan pay  hi wk ok hol ye bit run forgot hairdress appoint four need get home n shower beforehand caus prob u ham  pleas text anymor noth els say  okay name ur price long legal wen pick u ave x am xx  still look car buy gone 4the drive test yet  wow right mean guess gave boston men chang search locat nyc someth chang cuz signin page still say boston  umma life vava umma love lot dear  thank lot wish birthday thank make birthday truli memor  aight hit get cash  would ip address test consid comput minecraft server  know grumpi old peopl mom like better lie alway one play joke  dont worri guess busi  plural noun research  go  ok wif co like 2 tri new thing scare u dun like mah co u said loud  wa ur openin sentenc formal anyway fine juz tt eatin much n puttin weight haha anythin special happen  enter cabin pa said happi boss felt special askd 4 lunch lunch invit apart went  goodo ye must speak friday ratio tortilla need  hmm uncl inform pay school directli pl buy food  new address pair malarki  go sao mu today done 12  ìï predict wat time finish buy  good stuff  know yetund sent money yet sent text bother send dont involv anyth impos anyth first place apologis  room  hey girl r u hope u r well del r bak long time c give call sum time lucyxx  much cost  home  dear call accomod  first answer question  haf msn yiju  call meet  check room befor activ  got c lazi type forgot lect saw pouch like v nice  k text way  sir wait mail  swt thought get tire littl thing 4 lovabl littl thing occupi biggest part gud ni8  know pl open back  ye see ya dot  what staff name take class us  call check life begin qatar pl pray hard  delet contact  sindu got job birla soft  wine flow  yup thk cine better co need 2 go 2 plaza mah  ok ur typic repli  everywher dirt floor window even shirt sometim open mouth come flow dream world without half chore time joy lot tv show see guess like thing must exist like rain hail mist time done becom one  aaooooright work  leav hous  hello love get interview today happi good boy think miss  keep safe need miss alreadi envi everyon see real life  new car hous parent new job hand  love excit day spend make happi  place ur point e cultur modul alreadi  hi frnd best way avoid missunderstd wit belov one  great escap fanci bridg need lager see tomo  ye complet form clark also utter wast  sir need axi bank account bank address  thk sure got time hop ard ya go 4 free abt muz call u discuss liao  time come later  bloodi hell cant believ forgot surnam mr ill give u clue spanish begin  well gon na finish bath good fine night  let know got money carlo make call  u still go mall  turn friend stay whole show wo back til lt gt feel free go ahead smoke lt gt worth  text doesnt repli let know log  hi spoke maneesha like know satisfi experi repli toll free ye  lift hope offer money need especi end month approach hurt studi anyway gr8 weekend  lol u trust  gentleman treat digniti respect  guy close  go noth  hello handsom find job lazi work toward get back net mummi boytoy miss  haha awesom minut  got xma radio time get  ju reach home go bath first si use net tell u finish k  sorri join leagu peopl dont keep touch mean great deal friend time even great person cost great  hi final complet cours  stop howev suggest stay someon abl give or everi stool  hope settl new school year wishin gr8 day  gud mrng dear hav nice day  u got person stori  hamster dead hey tmr meet 1pm orchard mrt  hi kate even hope see tomorrow bit bloodi babyjontet txt back u xxx  found enc lt gt  sent lt gt buck  hello darlin ive finish colleg txt u finish u love kate xxx  account refil success inr lt decim gt keralacircl prepaid account balanc rs lt decim gt transact id kr lt gt  goodmorn sleep ga  u call alter 11 ok  ìï say like dat dun buy ericsson oso oredi lar  aight yo dat straight dogg  pleas give us connect today lt decim gt refund bill  shoot big load get readi  bruv hope great break reward semest  home alway chat  k k good studi well  yup noe leh  sound great home  final match head toward draw predict  tire slept well past night  easi ah sen got select mean  take exam march 3  yeah think use gt atm regist sure anyway help let know sure readi  ok prob take ur time  os call ubandu run without instal hard disk use os copi import file system give repair  u say leh cours noth happen lar say v romant ju bit lor thk e nite sceneri nice leh  would realli appreci call need someon talk  hey compani elama po mudyadhu  life strict teacher bcoz teacher teach lesson amp conduct exam life first conduct exam amp teach lesson happi morn  dear good morn  get gandhipuram walk cross cut road right side lt gt street road turn first right  dear go rubber place  sorri batteri die yeah  ye tv alway avail work  print oh lt gt come upstair  ill littl closer like bu stop street  wil reach  new theori argument win situat lose person dont argu ur friend kick amp say alway correct  tomarrow final hear laptop case cant  pleassssssseeeee tel v avent done sportsx  okay shine meant sign sound better  although told u dat baig face watch realli like e watch u gave co fr thanx 4 everyth dat u done today touch  u rememb old commerci  late said websit dont slipper  ask call ok  kalli wont bat 2nd inning  didnt work oh ok goodnight fix readi time wake dearli miss good night sleep  ranjith cal drpd deeraj deepak 5min hold  wen ur lovabl bcum angri wid u dnt take coz angri childish n true way show deep affect care n luv kettoda manda nice day da    up 3day also ship compani take 2wk way usp take week get lag may bribe nipost get stuff  back lem know readi  necessarili expect done get back though headin  mmm yummi babe nice jolt suzi  lover need  park next mini come today think  yup  anyway go shop co si done yet dun disturb u liao  luton 0125698789 ring ur around  dint come us  wana plan trip sometm  sure yet still tri get hold  evo download flash jealou  come mu sort narcot situat  night end anoth day morn come special way may smile like sunni ray leav worri blue blue bay  usf guess might well take 1 car  object bf come  thanx  tell rob mack gf theater  awesom see bit  sent type food like  done hand celebr full swing yet  got call tool  u miss someon  ask money far  oki  yeah think usual guy still pass last night get ahold anybodi let know throw  k might come tonight class let earli    hi babi im cruisin girl friend r u 2 give call hour home that alright fone fone love jenni xxx  life mean lot love life love peopl life world call friend call world ge  dear shall mail street shall updat look edukkukaye raksha good one real sens  hey told name gautham ah  haf u found feel stupid da v cam work  oop 4 got bit  much buzi  accident delet messag resend pleas  unless situat go gurl would appropri  hurt teas make cri end life die plz keep one rose grave say stupid miss nice day bslvyl  cant pick phone right pl send messag  need coffe run tomo ca believ time week alreadi  awesom rememb last time got somebodi high first time diesel v  shit realli shock scari cant imagin second def night u think somewher could crash night save taxi  oh way food fridg want go meal tonight  womdarful actor  yup remb think book  jo ask u wana meet  lol ye friendship hang thread caus u wo buy stuff  garag key bookshelf  today accept accept brother sister lover dear1 best1 clos1 lvblefrnd jstfrnd cutefrnd lifpartnr belovd swtheart bstfrnd rpli mean enemi  say give call friend got money definit buy end week  hi way u 2day normal way real ur uniqu hope know u 4 rest mylif hope u find wot lost  made day great day  advanc happi pongal  hmmm guess go 4 kb n power yoga haha dunno tahan power yoga anot thk got lo oso forgot liao  realli dude friend afraid  coffe cake guess  merri christma babe love ya  hey dont go watch x men lunch haha  cud u tell ppl im gona b bit l8 co 2 buse hav gon past co full im still waitin 4 pete x  would great guild could meet bristol road somewher get touch weekend plan take flight good week  problem  hi da today class  say good sign well know track record read women  cool text park  read text sent meant joke read light  apo movi  mayb could get book tomo return immedi someth  chanc might evapor soon violat privaci steal phone number employ paperwork cool pleas contact report supervisor  home babe still  cool come havent wine dine  surf  u call right call hand phone  ok great thanx lot  take post come must 1000 text happi read one wiv hello carolin end favourit bless  u hide stranger  interest like  sister clear two round birla soft yesterday  gudnit practic go  di yiju ju saw ur mail case huim havent sent u num di num  one small prestig problem  check realli miss see jeremiah great month  nah ca help never iphon  car hour half go apeshit  today sorri ever angri ever misbehav hurt plz plz slap urself bcoz ur fault basic good  yo guy ever figur much need alcohol jay tri figur much safe spend weed  lt gt ish minut 5 minut ago wtf  thank say happi onam fine rememb met insur qatar insha ex tata aig join tissco tayseer  actor work work even sleep late sinc unemploy moment alway sleep late unemploy everi day saturday  hello got st long way cold keep post  ha ha cool cool chikku chikku  oh ok  check audrey statu right  busi tri finish new year look forward final meet  good afternoon sunshin dawn day refresh happi aliv breath air smile think love alway  well know z take care worri  wat uniform get  cool text readi  hello boytoy geeee miss alreadi woke wish bed cuddl love  spoil bed well  go bath msg next lt gt  cant keep talk peopl sure pay agre price pl tell want realli buy much will pay  say happen  could seen recognis face  well lot thing happen lindsay new year bar ptbo blue heron someth go  keep payasam rinu bring  taught ranjith sir call sm like becau he verifi project prabu told today pa dont mistak  guess worri must know way bodi repair quit sure worri take slow first test guid ovul relax noth said reason worri keep followin  yeah sure give coupl minut track wallet  hey leav big deal take care  hey late ah meet  took mr owl 3 lick  custom place call  mm time dont like fun  yup lunch buffet u eat alreadi  huh late fr dinner  hey sat go intro pilat kickbox  morn ok  ye think offic lap room think that last day didnt shut  pick bout time go  perform award calcul everi two current one month  actual sleep still might u call back text gr8 rock si send u text wen wake  alway put busi put pictur ass facebook one open peopl ever met would think pictur room would hurt make feel violat  good even sir al salam happi grace god got offer tayseer tissco allah meet visitor india  hmmm k want chang field quickli da wan na get system administr network  dear chechi talk  hair cream ship  none happen til get though  yep great loxahatche xma tree burn lt gt start hour  haha get use drive usf man know lot stoner  well slightli disastr class pm fav darl hope day coffe wld good ca stay late tomorrow time place alway  hello good week fanci drink someth later  headin toward busetop  messag text sender name miss date miss u lot that everyth miss sent via  come room point iron plan weekend  co want thing  oki go yan jiu skip ard oso go cine den go mrt one blah blah blah  bring home wendi  whatsup dont u want sleep  alright new goal  alright head minut text meet  ye last week take live call  siva hostel aha  send ur friend receiv someth ur voic speak express attitud lt gt lt gt repli  guess    pain urin thing els  7 mind give lift co got car  wnt buy bmw car vri hv shortag lt gt sourc arng di amt lt gt prob  home watch tv lor  usual take fifteen fuck minut respond ye question  book ticket pongal  avail like right around hillsborough amp lt gt th  messag sent askin lt gt dollar shoul pay lt gt lt gt  ask g iouri told stori like ten time alreadi  long applebe fuck take  hi hope u get hasnt gd 50 min late think  like love arrang  realli told kalli best cricket sachin world tough get  suppos wake gt  oic saw tot din c found group liao  hey wereth monkeespeopl say monkeyaround howdi gorgeou  sorri batteri die come get gram place  well done blimey exercis yeah kinda rememb wot hmm  wont get concentr dear know mind everyth  lol made plan new year  10 min later k  hank lotsli  thank hope good day today  k k detail want transfer acc enough  ok tell stay yeah tough optimist thing improv month  si si think ill go make oreo truffl  look ami ure beauti intellig woman like u lot know u donåõt like like donåõt worri  hope result consist intellig kind start ask practicum link keep ear open best ttyl  call cost guess isnt bad miss ya need ya want ya love ya  go thru differ decis cope heal everyth believ  u go phone gon na die stay  great never better day give even reason thank god  sorri call later ok bye  ok way railway  great princess love give receiv oral doggi style fave posit enjoy make love lt gt time per night  put stuff road keep get slipperi  go ride bike  yup need ju wait 4 e rain 2 stop  mani compani tell languag  long sinc scream princess  noth meant money enter account bank remov flat rate someon transfer lt gt account lt gt dollar got remov bank differ charg also sure trust 9ja person send account detail co  nice line said broken plz cum 1 time infront wise trust u good 9t  ok gon na head usf like fifteen minut  love u  tension ah machi problem  k pick anoth 8th done  guy get back g said think stay mcr  almost see u sec  yo carlo friend alreadi ask work weekend  watch tv lor  thank babi cant wait tast real thing  chang fb jaykwon thuglyf falconerf  win realli 1 side long time  dear reach railway happen  depend qualiti want type sent boy fade glori want ralph mayb 2  think fix send test messag  sorri man account dri would want could trade back half could buy shit credit card  sorri meet call later  class lt gt reunion  free call  got meh  nope think go monday sorri repli late  told accentur confirm true  kate jackson rec center 7ish right  dear reach room  fight world easi u either win lose bt fightng some1 close u dificult u lose u lose u win u still lose  come  check nuerologist  lolnic went fish  wait e car dat bore wat co wait outsid got noth 2 home stuff watch tv wat  mayb westshor hyde park villag place near hous  know anthoni bring money school fee pay rent stuff like that need help friend need  signific  opinion jada kusruthi lovabl silent spl charact matur stylish simpl pl  8 latest g still scroung ammo want give new ak tri  heart sori  lol ok forgiven  chang tat  competit  way transport less problemat sat night way u want ask n join bday feel free need know definit no book fri  usual person unconsci children adult may behav abnorm call  ebay might less elsewher  shall come get pickl  gon na go get taco  rude campu  hi wo b ard 4 christma enjoy n merri  ye pretti ladi like singl  jay say    late  call hope l8r malaria know miss guy miss bani big pl give love especi great day  good afternoon love goe day hope mayb got lead job think boytoy send passion kiss across sea  probabl gon na see later tonight lt  mayb fat finger press button know  ummmmmaah mani mani happi return day dear sweet happi birthday dear  tirupur da start offic call  famou quot develop abil listen uncondit without lose temper self confid mean  go colleg els ill come self pa  4 oclock mine bash flat plan  girl stay bed girl need recoveri time id rather pass fun coop bed  special  know need get hotel got invit apologis cali sweet come english bloke weddin  sorri took long omw  wait lt gt  ok give 5 minut think see btw alibi cut hair whole time  imagin final get sink bath put pace mayb even eat left also imagin feel cage cock surround bath water remind alway own enjoy cuck  hurri like three day  sure get acknowledg astoundingli tactless gener faggi demand blood oath fo  everi night take warm bath drink cup milk see work magic still need loos weight know  look fri pan case cheap book perhap silli fri pan like book  well uv caus mutat sunscreen like essenti theseday  lunch onlin  know friend alreadi told  hi princess thank pic pretti  aiyo u alway c ex one dunno abt mei repli first time u repli fast lucki workin huh got bao ur sugardad ah  hi msg  thanx 4 e browni v nice  geeeee love much bare stand  fuck babe miss alreadi know ca let send money toward net need want crave  ill call u 2mrw ninish address icki american freek wont stop callin 2 bad jen k eh  oooh bed ridden ey think  anyway go gym whatev love hope ok good day babe miss much alreadi  love daddi make scream pleasur go slap ass dick  wot u wan na missi  yar lor wait 4 mum 2 finish sch lunch lor whole morn stay home clean room room quit clean hee  know lab goggl went  open door  wait call  nope wait sch 4 daddi  tire argu week week want  ìï wait 4 sch finish ard  arngd marriag u r walkin unfortuntli snake bite bt love marriag danc frnt snake amp sayin bite bite  huh dinner outsid izzit  ok anyway need chang said  abl kid want kid one day  scotland hope show jjc tendenc take care live dream  tell u headach want use 1 hour sick time  dun thk quit yet hmmm go jazz yogasana oso go meet em lesson den  pleas ring meiv hardli gotani  ya srsli better yi tho  meet call later  still grand prix  met stranger choos friend long world stand friendship never end let friend forev gud nitz  great  gud mrng dear nice day  exhaust train morn much wine pie sleep well  go buy mum present ar  mind tsunami occur rajnik stop swim indian  u send home first ok lor readi yet  speak cash yet  happi come noon  meet lunch la  take care n get well soon  meant say cant wait see u get bore bridgwat banter  neva mind  fine imma get drink somethin want come find  valentin game send di msg ur friend 5 answer r someon realli love colour suit best rpli  mani depend  thanx4 today cer nice 2 catch ave 2 find time often oh well take care c u  call said choos futur  valentin know earli hundr handsom beauti wish thought finish aunti uncl 1st  like v shock leh co tell shuhui like tell leona also like dat almost know liao got ask abt ur reaction lor  famili  come n pick come immedi aft ur lesson  let snow let snow kind weather bring ppl togeth friendship grow  dear got lt gt dollar hi hi  good word word may leav u dismay mani time  make sure alex know birthday fifteen minut far concern  sorri got thing may pub later  nah straight bring bud drink someth actual littl use straight cash  haha good hear offici paid market 8th  mani lick take get center tootsi pop  yup thk r e teacher said make face look longer darren ask 2 cut short  pleas dont say like hi hi hi  thank u  oh forward messag thought send  got seventeen pound seven hundr ml hope ok  n funni  sweetheart hope kind day one load reason smile biola  login dat time dad fetch home  shower babi  askd u question hour answer  well imma definit need restock thanksgiv let know  said kiss kiss ca sound effect gorgeou man kind person need smile brighten day  probabl gon na swing wee bit  ya nice readi thursday  allo brave buse taken train triumph mean jolli good rest week  watch cartoon listen music amp eve go templ amp u  mind ask happen dont say uncomfort  prob send email  that cool sometim slow gentl sonetim rough hard  gon na say sorri would normal start panic time sorri see tuesday  wait know wesley town bet hella drug  fine miss much  tell drug dealer get impati  sun cant come earth send luv ray cloud cant come river send luv rain cant come meet u send care msg gud evng  doesnt make sens take unless free need know  sea lay rock rock envelop envelop paper paper 3 word  mum repent  sorri go home first daddi come fetch later  leav de start prepar next  ye babi studi posit kama sutra  en chikku nang bakra msg  carlo minut still need buy  pay lt decim gt lakh  good even ttyl  u receiv msg  ho ho big belli laugh see ya tomo  ditto wo worri say anyth anymor like said last night whatev want peac  got lt gt way could pick  dont knw pa drink  mayb say hi find got card great escap wetherspoon  piggi r u awak bet u still sleep go 4 lunch  caus freaki lol  miss call caus yell scrappi miss ca wait u come home lone today  place talk explain  ìï log 4 wat sdryb8i  xy go 4 e lunch  want ask wait 4 finish lect co lect finish hour anyway  finish work yet  everi king cri babi everi great build imprtant u r today u wil reach tomorw gud ni8  dear case u r come cochin pl call bfore u shall also reach tell day u r engag an holiday  thank love torch bold  farm open  sorri troubl u buy 4d dad 1405 1680 2 big 1 small sat n sun thanx  sister law hope great month say hey abiola  purchas stuff today mail po box number  ah poop look like ill prob send laptop get fix cuz gpu problem  good good job like entrepreneur  aight close still around alex place  meet corpor st outsid gap see mind work  mum ask buy food home  also dont msg repli  much r will pay  import prevent dehydr give enough fluid  that bit weird even suppos happen good idea sure pub  true sat pray even felt sm time  think get away trek long famili town sorri  wan na gym harri  quit late lar ard 12 anyway wun b drivin  height confid aeronaut professor wer calld amp wer askd 2 sit aeroplan aftr sat wer told dat plane ws made student dey hurri bt 1 didnt move said made student  seem like weird time night g want come smoke day shitstorm attribut alway come make everyon smoke  save stress person dorm account send account detail money sent  also know lunch menu da know  stuff sell tell  book lesson msg call work sth go get spec membership px3748  macha dont feel assum one even wonder plan life begin anytim  oh send address  anytim best  wondar full flim  ya even cooki jelli  world run feel admit correct let call keep run world may u r also run  got look scrumptiou daddi want eat night long  co lar ba dao ok 1 pm lor u never ask go ah said u would ask fri said u ask today  alright omw got ta chang order half8th  exactli anyway far jide studi visit  dunno u ask  spring come earli yay  lol wo feel bad use money take steak dinner  even u dont get troubl tel twice tel neglect msg dont c read dont repli  leav qatar tonit search went add ur prayer  one talk  thank look realli appreci  wish  haha mayb u rite u know well da feel like someon gd lor u faster go find one gal group attach liao  ye glad made  well littl time thing good time ahead  got room soon put clock back til 8 shout everyon get realis wahay anoth hour bed  may free gym  men like shorter ladi gaze eye  dunno ju say go lido time 930  promis take good care princess run pleas send pic get chanc ttyl  reason spoken year anyway great week best exam  monday next week give full gist  dont gim lip caveboy  get librari  reali recognis number confus r u pleas  didnt holla  cant think anyon spare room top head  faith make thing possibl hope make thing work love make thing beauti may three christma merri christma  u made appoint  call phone vibrat act might hear text  grandma oh dear u still ill felt shit morn think hungov anoth night leav sat  noth ju tot u would ask co u ba gua went mt faber yest yest ju went alreadi mah today go ju call lor  wish famili merri ma happi new year  nt goin got somethin unless meetin 4 dinner lor haha wonder go ti time  lol know dramat school alreadi close tomorrow appar ca drive inch snow suppos get  get anywher damn job hunt  lol u drunkard hair moment yeah still 4 tonight wat plan  idc get weasel way shit twice row  wil lt gt minut got space  thank pick trash  go tell friend sure want live smoke much spend hour beg come smoke  kate love see tonight ill phone tomorrow got sing guy gave card  happi new year dear brother realli miss got number decid send text wish happi abiola  mean get door  hmmm thought said 2 hour slave 3 late punish  beerag  dont think turn like randomlli within 5min open  suppos could make still town though  time fix spell sometim get complet diff word go figur  hope enjoy game yesterday sorri touch pl know fondli bein thot great week abiola  e best 4 ur drive tmr  u dogbreath sound like jan c thatåõ al  omg want scream weigh lost weight woohoo  gener one uncount noun u dictionari piec research  realli get hang around  boy wherear friendsar thekingshead come canlov  ok msg u b4 leav hous  gim lt gt minut ago  appt lt time gt fault u listen told u twice  k 4  dled 3d imp  sure make sure know ai smokin yet  boooo alway work quit  take half day leav bec well  ugh wan na get bed warm  lt gt  ring come guy costum gift futur yowif hint hint  borrow ur bag ok  boytoy miss happen  lot use one babe model help youi bring match  also bring galileo dobbi  respond  babe u enjoyin yourjob u seem 2 b gettin well hunni hope ure ok take care iåõllspeak 2u soonlot lovem  good afternoon starshin boytoy crave yet ach fuck miss babe  road cant txt  hmm bit piec lol  brain dear  hey got mail  sorri light turn green meant anoth friend want lt gt worth may around  thank yesterday sir wonder hope enjoy burial mojibiola  hi mate rv u hav nice hol messag 3 say hello coz havenåõt sent u 1 age start drive stay road rvx  thank much skype wit kz sura didnt get pleasur compani hope good given ultimatum oh countin aburo enjoy messag sent day ago  sure result offer  good morn dear great amp success day  sir late pay rent past month pay lt gt charg felt would inconsider nag someth give great cost didnt speak howev recess wont abl pay charg month henc askin well ahead month end pleas help thank  luv u soo much u donåõt understand special u r 2 ring u 2morrow luv u xxx  pl send comprehens mail pay much  prashanthettan mother pass away last night pray famili  go  meanwhil shit suit xavier decid give us lt gt second warn samantha come play jay guitar impress shit also think doug realiz live anymor  stomach thru much trauma swear ca eat better lose weight  offic what call break  yeah bare enough room two us x mani fuck shoe sorri man see later  u reach orchard alreadi u wan 2 go buy ticket first  real babi want bring inner tigress  da run activ full version da  poor babi hope urfeel bettersn luv probthat overdos work hey go care spk 2 u sn lot lovejen  stop stori told return say order  go take babe  hai ana tomarrow come morn lt decim gt ill sathi go rto offic repli came home  spoon okay  say somebodi name tampa  work go min  brother geniu  sorri guess whenev get hold connect mayb hour two text  u find time bu coz need sort stuff  dude ive see lotta corvett late  consid wall bunker shit import never play peac guess place high enough matter  well offici philosoph hole u wan na call home readi save  go good still need littl experi understand american custom voic  text drop x  ugh long day exhaust want cuddl take nap  talk atleast day otherwis miss best friend world shesil lt gt  castor need see someth  see knew give break time woul lead alway want miss curfew gon na gibe one midnight movi gon na get til need come home need getsleep anyth need b studdi ear train  love give massag use lot babi oil fave posit  dude go sup  yoyyooo u know chang permiss drive mac usb flash drive  gibb hussey  like talk pa abl dont know  dun cut short leh u dun like ah fail quit sad  unbeliev faglord  knew time murder exactli  ask princess  great princess think  nutter cutter ctter cttergg cttargg ctargg ctagg ie  ok noe u busi realli bore msg oso dunno wat colour choos 4 one  g class earli tomorrow thu tri smoke lt gt  superb grate u dont everyth u want mean u still opportun happier tomorrow u  hope good week check  use hope agent drop sinc book thing year whole boston nyc experi  thursday night yeah sure thing work  probabl money worri thing come due sever outstand invoic work two three month ago  possibl teach  wonder phone batteri went dead tell love babe  love smell bu ai tobacco  get worri derek taylor alreadi assum worst  hey charl sorri late repli  give plu said grinul greet whenev speak  white fudg oreo store  love come took long leav zaher got word ym happi see sad left miss  sorri hurt  ca feel nauseou piss eat sweet week caus today plan pig diet week hungri  ok lor earli still project meet  call da wait call  could ask carlo could get anybodi els chip  actual send remind today wonder weekend  peopl see msg think iam addict msging wrong bcoz know iam addict sweet bslvyl  hey gave photo regist drive ah tmr wan na meet yck  dont talk ever ok word  u wana see  way school pl send ashley number  shall fine avalarr hollalat  went attend anoth two round still reach  actual delet old blog  k wait send aftr lt gt min  diet ate 1 mani slice pizza yesterday ugh alway diet  k give kvb acc detail  oh come ah  realli sorri wo b abl 2 u find yr term go ok  congratul ore mo owo wa enjoy wish mani happi moment fro wherev go  samu shoulder yet  time think need know near campu  dun wear jean lor  sinc side fever vomitin  k colleg  better made friday stuf like pig yesterday feel bleh least writh pain kind bleh  sell ton coin sell coin someon thru paypal voila money back life pocket  theyr lot place hospit medic place safe  also sorta blown coupl time recent id rather text blue look weed  sent score sopha secondari applic school think think appli research cost also contact joke ogunrind school one less expens one  cant wait see photo use  hey book kb sat alreadi lesson go ah keep sat night free need meet confirm lodg  chk ur belovd ms dict  time want come  awesom lem know whenev around  shb b ok lor thanx  beauti truth read care heart feel light someon feel heavi someon leav good night  also rememb get dobbi bowl car  sorri c ur msg yar lor poor thing 4 one night tmr u brand new room 2 sleep  love decis feel could decid love life would much simpler less magic  welp appar retir  sort code acc bank natwest repli confirm sent right person    u sure u ca take sick time  yo chad gymnast class wan na take site say christian class  better still catch let ask sell lt gt  sure night menu know noon menu  u want come back beauti necklac token heart give wife one give call wait till come  will go aptitud class  wont b tri 2 sort hous ok  yar lor wan 2 go c hors race today mah eat earlier lor ate chicken rice u  haha awesom omw back  yup thk e shop close lor  account number  eh u send wrongli lar  hey ad crap nite borin without ya 2 boggi u bore biatch thanx u wait til nxt time il ave ya  ok shall talk  dont hesit know second time weak like keep notebook eat day anyth chang day sure noth  hey pay salari de lt gt  anoth month need chocol weed alcohol  start search get job great potenti talent  reckon need town eightish walk carpark  look fuckin time fuck think  yo guess drop  carlo say mu lt gt minut  offic call lt gt min  geeee miss alreadi know think fuck ca wait till next year togeth  yun ubi one say wan call 67441233 look got ubi cre ubi tech 1st 5wkg  ugh got ta drive back sd la butt sore  26th juli  hi im relax time ever get 7am everi day parti good night get home tomorrow 5ish  ìï wan come come lor din c stripe skirt  xma stori xma msg xma miracl hav bless month ahead amp wish u merri xma  ca number  chang e one next escal  yetund class run water make pl  lot happen feel quiet beth aunt charli work lot helen mo  wait 4 bu stop aft ur lect lar dun c go get car come back n pick  aight thank comin  heard abt  lt gt think say syllabu  umma say anyth  give sec think think  quit know still ca get hold anyon cud pick bout see pub  poyyarikatur kolathupalayam unjalur post erod di lt gt  dear hero leav qatar tonit apt keep touch lt email gt kerala  lol would mom would fit tell whole famili crazi terribl  got home babe still awak  dunno close oredi ìï v fan  buy pizza meat lover suprem u get pick  ya ask wat matter  dear regret cudnt pick frm ctla cochin mobil style ishtamayoo happi bakrid  shall send exe mail id  nope watch tv home go v bore  check  good afternoon gloriou anniversari day sweet j hope find happi content prey think send teas kiss across sea coax imag fond souveni  still tonight  may call later pl  pattern recent crap weekend  sore throat scratch talk  ye da plm ur offic  around still asleep v  lol forgot eh ye bring babe  good find way  use foreign stamp countri good lectur  yup bath liao  happi new year man  oh mr sheffield wan na play game okay boss nanni give rais give one  zoe hit 2 im fuck shitin il defo tri hardest 2 cum 2morow luv u million lekdog  hello babi get back mom set comput fill belli goe loverboy miss alreadi  blanket suffici thx  naughti littl thought better flirt flirt n flirt rather love someon n gettin hurt hurt n hurt gud nyt  edison rightli said fool ask question wise man know us speechless gm  talk that de wont  today go colleg abl atten class  class holla later  mmm that better got roast iåõd b better drink 2 good indian  come round  1 thing chang sentenc want 2 concentr educ career im leav  walk hour 2 c u doesnåõt show care wont u believ im seriou  avail soire june 3rd  u noe wat time e place dat sell 4d close  got anoth job one hospit data analysi someth start monday sure thesi got finish  jay get realli impati belliger  hiya comin 2 bristol 1 st week april le got rudi new yr eve drunk u bak colleg yet work send ink 2 bath  work pleas call  u drive lor  ard 515 like dat  tell femal v throw decid get  work technic support voic field  might come kerala 2 prepar take leav finalis plan travel finish urgent work  sure time tho sure get librari class tri see point good eve  fine bitch later  mum went 2 dentist  free call sir wait  meet u work tel shall work tomorrow  ju finish bath  alright make sure car back tonight  lul im gettin juici gossip hospit two nurs talk fat gettin one think she obes oyea  aight ill get fb coupl minut  oi ami parchi na kicchu kaaj kort iccha korch na phone ta tul na plz plz  download clear movi dvd copi  yep pretti sculptur  convey regard  watch surya movi 6 pm vijay movi pokkiri  tell happen dont behav like ok need say  u get pic msg phone  send someon els  wat make peopl dearer de happi dat u feel u meet de pain u feel u miss dem  love start feel need everi time around first thing come would start day end everi time everi breath life happen around life name would cri give happi take readi fight anyon love craziest thing proov anyon girl beauti ladi whole alway sing prais start make chicken curri end maki beauti get everi morn thank god day would like say tell  like needl clock though v r clock v r nt abl 2 met evn v meet itz 4few second bt v alwi stay conect gud 9t  think spatula hand  never noth  goodmorn today late lt decim gt min  pleas da call mistak side sorri da pl da goto doctor  r meet  well weather cali great complex great need car move freeli tax outrag great place sad part miss home  reach home tire come tomorro  ryder gibb  fret buy ovul test strip send wont get til like march send postal  gift tri get throw cliff someth  ne thing interest good birthday u wrking nxt start uni today  busi come point figur tomorrow  yeah go bore depress sittin waitin phone ring hope wind drop though scari  black shirt n blue jean thk c  aiyah sorri lor watch tv watch forgot 2 check phone  hen night go swing  good afternoon love goe day woke earli onlin wait hmmm italian boy onlin see  someon smoke everi time smoke last two week call text want smoke  get headach tri figur u trust math promis  rock  ok ill tell compani  awesom think get 8th usf time tonight  mean still think teju  good movi ok leav hourish  kalli home home town durban  let make saturday monday per conveni  hey time drive fri go evalu fri  go 4 lunch wif famili aft dat go str 2 orchard lor  cancel cheyyamo get money back  ur today plan  good morn princess  aiyar sorri lor forgot 2 tell u  tonight mate catch sleep new number way  height shit situat guy throw luv letter gal fall brother head who gay  check error difficulti correct  howz pain hope u r  u wake alreadi thanx 4 e tau sar piah quit nice  k need login anyth  lol busi  u wear  oh usual vijay film differ  good day mine realli busi much tomorrow night  way send shade stuff wonder  realli tot ur paper end long ago wat u copi ju got use u happi lar still haf 2 studi  babe lost  ok help ask work tmr  drive rain get caught e mrt station lor  drop tank  said text one time  ok go chang also  u find sitter kaitlyn sick slept day yesterday  sorri man accident left phone silent last night check til got  someth came last think wun sign hee  adult would learn experi real danger dont like peep use drug dont need comment  hey veggi pizza  yun buy school got offer 2000 plu  sure neighbor didnt pick  sent  well im computerless time make oreo truffl  haha yeah see sec  number sir  lol hot air balloon  ok bu come soon come otherwis tomorrow  msg r time silent say think u right also make u think least 4 moment gd drm shesil  yeah probabl swing roommat finish girl  happi new year melodi  ìï dun need pick ur gf  yay better told 5 girl either  horribl u eat mac eat u forgot abt alreadi rite u take long 2 repli thk toot b4 b prepar wat shall eat  say fantast chanc anyth need bigger life lift lose 2 live think would first person 2 die n v q  nw came hme  outsid island head toward hard rock run  day class class  chennai velacheri  flippin shit yet  k give sec break lt gt cstore  much bad avoid like  yo around got car back  annoy  goodmorn today late lt gt min  point hangin mr right makin u happi  come correct good look figur  case guess see campu lodg  done  come home one last time wont anyth trust  night worri appt shame miss girl night quizz popcorn hair  ok c ya  said matter mind say matter  al moan n e thin goe wrong fault al de argument r fault fed himso bother hav 2go  neft transact refer number lt gt rs lt decim gt credit beneficiari account lt gt lt time gt lt gt  otherwis part time job  know call  also da feel yesterday night wait til 2day night dear  thank understand tri tell sura  whole car appreci last two dad map read semi argument apart thing go p  need strong arm  also maaaan miss  bday real april  guessin ai gon na 9  ok come ur home half hour  yo game almost want go walmart soon  yeah probabl sure ilol let u know person wuldnt bother ur goin mite well  text creepi like wo think forgot  would good phone tomo lunchtim shall organis someth  damn make tonight want wait til tomorrow  also fine complet cours  true passabl get high score appli phd get 5year salari make life easier  prakesh know  teach app da come colleg  rofl betta invest anti age product  sir receiv account anoth 1hr time sorri delay  submit da project tmr rite  ju an lar u noe later  want send someth sell fast lt gt k easi money  got thing may pub later  1 finish meet call  lol snatch purs  edrunk sorri iff pthi make dancc 2 drum n basq ihav fun 2nhite x ro  much get  ur paper e morn aft tmr  dear reliev westonzoyland go plan end  hope great new semest wish best made great  oh ye speak txt 2 u hmm u get email  want show world princess europ  nobodi decid eat dad want chines  shoot doc wait room  go 4 dinner  hello site download song urgent pl  know u mean king havin credit goin2b night night sweet only1mor sleep  horribl gal sch stuff come u got mc  hi hun im comin every1 im sorri 4 hope u ava goodtim oli rang melnit ifink mite b sort il explain everythin  yeah like goe like friend imma flip shit like half hour  mum say wan go go shun bian watch da glass exhibit  plan pongal  wait till end march el nino get oh  yet room nw  also cbe pay  honey boo miss u  sent jd custom servic cum account execut ur mail id detail contact us  yo parent gettin cash good news pick downstem  thank much skype wit kz sura didnt get pleasur compani hope good given ultimatum oh countin aburo enjoy  wahala rememb friend need  see half hour  im inperialmus listening2th weirdest track ever byåóleafcutt like insect molest someon plumb remix evil men acid  sorri didntgiv ya bellearli hunni  serious tell exact word right  tee hee lectur cheeri bye bye  sorri chikku cell got problem tht nt abl repli u msg  still havent collect dough pl let know go place sent get control number  ok  let know contact settl room let know ok  wot u 2 u weirdo  lor  dont put phone silent mode ok  meet 4 depend wan 2  wait 4 tv show 2 start lor u leh still busi ur report  oh ho first time u use type word  one stalk profil  ever green quot ever told jerri cartoon person irrit u alway one love u vri much fail express gud nyt  ye thought thank  drinkin ok  wonder other took  night end anoth day morn come special way may smile like sunni ray leav worri blue blue bay gud mrng  dog must alway wait till end day word run time cell alreadi  happi new year u  hey great deal farm tour 9am 5pm 50 deposit 16 may  eat jap done oso aft ur lect wat ìï got lect 12 rite  hey babe saw came onlin second disappear happen  da birthdat certif april real date today dont publish shall give special treat keep secret way thank wish  happi birthday may ur dream come true  aiyah u ok alreadi lar e nydc wheellock  tell said eat shit  sure drive reach destin soon  k much 8th fifti  daili text favour time  great hear settl well happenin wit ola  cocksuck make feel better ipad worthless garbag novelti item feel bad even want one  tot u reach liao said  fran decid 2 go n e way im complet broke knacker got bout 3 c u 2mrw love janx dad fone credit  right make appoint right  design softwar develop may get chennai  jokin oni ìï busi wun disturb  ok care text drive  alway even spirit get bb soon tri sure need  u r much close heart u go away shatter plz stay  love u 2 babe r u sure everyth alrit idiot txt bak girli  abt make pic bigger  got got 2 colour lor one colour quit light n e darker lor actual done style hair  whenevr ur sad whenevr ur gray remembr im 2 listn 2 watevr u wan na say ju walk wid littl amp promis bring back ur smile  noth ok anyway give treat  correct work today  sent scream moan bed princess  wake long ago alreadi dunno thing  oh get even u u  thk 50 shd ok said plu minu leav line paragraph  call plz number show coveragd area urgnt call vasai amp reach clock call plz  yeah jay sort fuck retard  sorri bathroom sup  exam februari wish great day  dont know come ask question like dont mistak  aight rush ask jay  good morn plz call sir  ok lar u sleep earli nite  oh icic k lor den meet day  oh half hour much longer syria canada eh wow must get much work done day us extra time  sometim put wall around heart safe get find care enough break wall amp get goodnoon  sweet may may go 4u meet carlo gaug patti interest  buy today ìï need c meh  aight sorri take ten year shower plan  everi week vl  might ax well im  chill anoth 6hr could sleep pain surgic emerg see unfold okay  yeah tri scroung someth  crazi ar marri ìï like gd look guy fren like say korean leona fave dun thk aft think mayb prob go  somewher fredericksburg  que pase un buen tiempo someth like  ok stay night xavier sleep bag get tire  doesnt need test  noth much chillin home super bowl plan  bugi oso near wat  yo there class tmrw right  let ur heart ur compass ur mind ur map ur soul ur guid u never loos world sent via  goodnight sleep well da pleas take care pleas  baaaaab misss youuuuu go teach class 5  u ned convinc tht possibl witot hurt feel main  good afternoon loverboy goe day luck come way think sweeti send love across sea make smile happi  start send blackberri torch nigeria find buyer like 4a month tell dad buy bb anyon oh  lt gt pple marri lover becz hav gud undrstndng dat avoid problem sent di 2 u u wil get gud news friday person like tomorrow best day life dont break chain break suffer send lt gt frnd lt gt min whn u read  yo dude guess got arrest day  shuhui say chang 2 suntec steamboat u noe r u  danc river  yetund sorri moji seem busi abl go shop pleas find way get want us get pleas forgiv repli free via yahoo messeng  hey realli pretti late want go lesson first join reach tp mrt  bbq sat mine 6ish ur welcom 2 come  know thing wrong everyso often panick start goin bout bein good enough  alright good night  tri make anoth butt  hope feel great pl fill abiola  though shd go n fun bar town someth sound ok  1 go write msg 2 put dictionari mode 3 cover screen hand 4 press lt gt 5 gentli remov ur  final readi fyi  aunti huai juan never pick phone  ya tel wat ur  dnt wnt tlk wid u  spend day wait ideal path appear front forget made goodnight  ok arm feel weak cuz got shot go anoth time  pleas reserv ticket saturday eve chennai thirunelvali tirunelvali chennai sunday eve alreadi see ticket want book ticket tackl  storm msg wen u lift phne u say u knw wt real mean hello name u knw dat girl margaret girlfrnd f grahmbel invnt telphon moral one 4get name person  pop ask bout someth said around tonght wen girl come  e best 4 ur exam later  hope ur head hurt 2 much plough way pile iron stay chinki tonight come round like  oh think wi nz player unsold  haha got fast lose weight thk muz go 4 month den got effect gee later go aust put bk e weight  wonder got onlin love gone net cafe get phone recharg friend net think boytoy  haha kid papa need drug  thk shld b ya wana go 4 lesson haha go one whole stretch  oh  r still meet 4 dinner tonight  that cool gentleman treat digniti respect  shall start hear  wait 4 u lor need 2 feel bad lar  check got detail messag  regist sinco paye log enter urn lt gt confirm bewar fraud share disclos urn anyon  decid peopl care stuff vote care stuff loser  kaiez enjoy ur tuition gee thk e second option sound beta go yan jiu den msg u  cool fun practic make babi  actual get readi leav hous  special today  got ta  got ten buck jay noncomitt  hungri  pl speak custom machan  somewher beneath pale moon light someon think u dream come true goodnit amp sweet dream  wat ur opinion abt abt charact  jay snicker tell x total fuck chord speak  hour hair cut  wonder co dun rem see silver car thk saw black one  lmao take pic send  feel word better silenc gud mrng  current scotland  work week  lol great im get hungri  saw  mu like lt gt second  thing r good thanx got exam march ive done revis fran still boyf ive got ta interviw 4 exet bit worri x  tell make littl spreadsheet track whose idea smoke determin entir month februari  look back build coat want get sick hurri home wear coat gym  pain person alway tri keep everybodi happi time nobodi recognis  thank love wish rock  intrepid duo great time see soon  ask sen come chennai search job  dad went oredi  ju hope true missin co realli missin done anyth feel guilti yet  wat late still earli mah juz go 4 dinner lor aiya dunno  arm fine cardiff uni  fact leav think addi goe back school tue wed  cool breez bright sun fresh flower twitter bird wait wish u amp nice  ya go  askd u knw tht  duck chinchilla  marriag function  look like u wil b get headstart im leav bout u r desper compani could head goin meet rummer  give fli monkey wot think certainli mind friend mine  say thanks2  msg rajini come  ya take ure practic lesson start  good need drug  possibl  decid faster co si go home  u sleep go take got spi onlin check n repli mail  yalru lyfu astn bt innu mundh lyf ali halla ke bilo marriag program edha lyf nt yet ovr vargu lyfu meow meow  kinda first one get twelv aah speak tomo  ok good later come find c lucki told go earlier later pple take finish  wat make u thk fall actual thk quit prone 2 fall lucki dad home ask come n fetch alreadi  wont touch permiss  7 wonder world 7th 6th ur style 5th ur smile 4th ur person 3rd ur natur 2nd ur sm 1st love good morn dear  take small dose tablet fever  oh u must taken real valentin shop first  sent email address incomm right  gon na blake night might abl get littl earli  friendship game play word say start march end may tomorrow yesterday today e  nice wait text right gon na pay ticket ya know  watch lotr w si di aft u wan 2 meet 4 dinner nite  keep away like  think far find check googl map place dorm  trip ok quit tire lor uni start today ok 4 co take modul ju concentr final yr project  alway say welp  guy browsin compulsori  puriti friendship two smile read forward smile see name gud evng musthu  add realli care ca least get dude fuck hey money want  hello lover goe new job happi think wake slave send teas kiss across sea  told number  tell need investig anywher  ok juz  cant believ said mani thing morn realli want say good morn love beauti morn see librari later  end might still vomit okay everyth come  money money aint thing sha  everyth weather keep extra warm cold noth seriou pl lot vitamin c  hey anyon u go e drive centr tmr  alway yahoo messeng send messag get may send mobil mode sha get repli  put readi lt time gt  time n smile r two crucial thing life sometim time make us forget smile sometim someon smile make us forget time gud noon  idp linux system  da what plan  ill lt gt ok  oh god almost home  total video convert free download type googl search  sound like someth someon test would sayi  u love someon dont make love u much u love much dont want love anyon except gud nit  pete phone still jenni colleg  oop sorri check mind pick tomo half eight station would ok  hey sweet wonder moment might come want send file someon wo go yahoo connect suck rememb set page go download format disc could tell know way download big file download stuff directli internet help would great prey  how champ leav glasgow  k best congrat  wonder get text  need come home give good lovin  shall ask one thing dont mistak  check wid corect spele sarcasm  angri happen dear  thk u dun haf 2 hint e forum alreadi lor co told ron n darren go 2 tell shuhui  yup ok thanx  hi ct employe  pl pl find aunt nike  wow love sooo much know bare stand wonder day goe well love think miss  scream mean  hey happen de alright  pick receipt someth earlier  think chennai well settl  oh dang mean send lol  unfortun found pick sister airport even think go tri go one th  horribl bf v hungri  rememb  feel real valentin yo valentin even tho u hardli play  sound good finger make difficult type  midnight earliest  sure tri make xavier smoke want smoke told smoke much  k come nordstrom done  u konw waht rael friendship im gving yuo exmpel jsut ese tih evrey splle tih msg bt sitll yuo ra wihtuot ayn goodnight amp nice  press confer da  complet degre use join financ  good afternoon love job prospect miss lazi bleak hmmm happi fill love  shant disturb u anymor jia  bishan lar nearer need buy earli co buy got ta park car  dont know oh  dude sux snake got old raiden got buff  say hi get ass back south tampa prefer kegger  e msg ju u said thank gift  u  ok dear call chechi  yeah tote u wan na  ok found di pierr cardin one look normal cost 20 sale  good sleep rhythm person establish rhythm bodi learn use want know  wat r u  messag truro hospit ext phone phone side  singl line big mean anyth 4 ur best  got ga money chanc gang want go grand natur adventur  dnt worri use ice piec cloth take 2 tablet  dude saw park car sunroof pop sux  get readi put excel sub face  tmrw im finish 9 door  lt gt g saw day ago guy want sell wifi lt gt 3g lt gt blank  late  whatev im pretti piss  dont much imag class  got rumour go buy apart chennai  near kalainar tv  si catch e show e afternoon watch w c u wan 2 watch today tmr lor  sound gd haha wah u yan jiu fast liao  nosi guess idk react freak  rememb hurt day satan impost pay price destini keep go u said pray get mind get  make girl happi difficult make girl happi u need friend companion lover chef lt gt good listen lt gt organ lt gt good boyfriend lt gt clean lt gt sympathet lt gt athlet lt gt warm lt gt courag lt gt determin lt gt true lt gt depend lt gt intellig lt gt psychologist lt gt pest extermin lt gt psychiatrist lt gt healer lt gt stylist lt gt driver aaniy pudunga  princess bet brotha chase  shall book chez jule half eight ok  hhahhaahahah rofl wtf nig leonardo room someth  yep derek hous see sunday lt 3  cool let know kick around lt gt day  wonder would okay call uncl john let know thing nigeria r lt gt dollar 2year sent know strain plan pay back everi dime give everi dime expect anyth practic someth like  charg transfer charg withdraw anyhow like  dont search love let love find that call fall love bcoz u dont forc u fall u know smeon hold u bslvyl  let go bill miller  love set soul fire spark flame big rawr flame xoxo  somewhr someon sure made 4 god decid perfect time make u meet dat person till den enjoy ur  honeymoon outfit  help propos go back tomorrow  never blame day ur life good day give u happi bad day give u experi essenti life god bless good morn  pl confirm time collect chequ  daddi take good care  yeah probabl still got ta check leo  special  carlo take sweet time usual let know patti smoke tell haul ass  ok noth problem  heard job go wildlif talk tonight u want2com that2worzel wizzl whatev  god pick flower dippeditinadew lovingli touch itwhichturnedinto u gift tomeandsaid friend 4u  came hostel  ok prob come lunch  ju tell u dat b leav 4 shanghai 21st instead haf time 2 meet cya  freez home yet rememb kiss mom morn love think miss yet  readi big day tomorrow  probabl around mu lot  645  thnx dude u guy 2nite  sef dey laugh meanwhil darl anji  mm food da  k make sens btw carlo difficult guy gon na smoke go pick second batch get ga  u download fring app  2 oz guy kinda flaki one friend interest pick lt gt worth tonight possibl  friend u stay fb chat  fuck babe miss sooooo much wish sleep bed lone go sleep dream love  live love also laugh win tooo gud nte  ah well confus thing  hi dear call urgnt know what problem want work problem least tell wate repli  dear ok  ye princess want make happi  sound like mani talent would like go dinner date next week  go film 2day da 6pm sorri da  watch movi alreadi xy want 2 shop shop w  hello littl parti anim thought buzz friend remind love send naughti ador kiss  yesterday go home  come life brought sun warm heart put constant smile face make feel love care  shit surpris went spent even french guy met town fool around bit let fuck  great stop laugh da  alright set text man  hi keen go kind feel go tomo mind  sleep nt feel well  u switch fone dammit  india take lead  post l8r class  tht wat wright brother  even v good somewhat event laden fill worri head ok throat wreck see six  u laugh realli u talk u dont care other u probabl dear amp best goodeven  laptop take  dont file work call tell find anyth room  wan earli lei outsid wun b home earli neva mind  bugi juz wat walk home oredi ìï late repli oso saw top dat like din buy r  7 go ok na  ye post coupl pic fb still snow outsid wake  one good partnership go take lead  yeah class  send bec templ na  come home class right need work shower  mostli like  ìï v fan  dunno co v late n reach insid alreadi ate spageddi lor e gal r laugh lor  guess spent last night phase fourth dimens  dad gon na call get work ask crazi question  said  hurt n meaning line ever compromis everyth love  lmao nice 1  glad see repli  nah dub je still buff  pain thought happi toughest thing earth  yeah fine get ok  lol u come idea  mani peopl seem special first sight remain special till last maintain till life sh ja  okay wait ah  lei  hi babe u r like bed im sorri tonight realli wan na see u tomorrow call love xxx  alreadi squat new way walk  want bold 2 bb torch  cramp stop go back sleep  nan sonathaya soladha boss  bring tat cd forget  know rape dude poker  weightloss girl friend make load money ebay someth give thank god  gr8 see messag r u leav congrat dear school wat r ur plan  ìï eatin later eatin wif fren lei ìï go home first  finish alreadi yar keep say mushi embarrass ok  sorri man stash ran dri last night ca pick sunday  hai priya right doctor said  pleas ask mummi call father  come room come hous co hous still messi haha  lost 10 kilo today  tast fish curri  might accid tookplac somewher ghodbandar rd traffic move slove plz slip amp worri  yun wkg btw go nu sc ìï wana specialis wad  ye one woman man pleas tell like dislik bed  test earlier appreci call tomorrow  loverboy keep come queen hmmm ach speak miss despar  u meet fren dun wan meet ah muz b guy rite  promis though even gotten dinner yet  got back dislik bed  turn stereo love mi phone unknown album  yeah see  ask u knw nt may ur frnd classmat  sorri earlier put around talk 9 actual life lol  missionari hook doggi hook stand  u better go dun disturb u u wake msg  watch hous entertain get whole hugh lauri thing even stick inde especi stick  thought prap meant anoth one goodo look tomorrow  hi jon pete ive bin 2 spain recent hav sum dinero left bill said u ur åôrent mayb interest hav around tb jame  bold 2 lt gt  know shall speak lt gt minut  hunni wot u 2 2nite didnt end goin town ju da pub instead ju chillin da mo bedroom love jen  went project centr  per request alaipayuth set callertun caller press copi friend callertun  lol yeah point guess  project w fren lor  lol well qualiti aint bad aint complain  k happen tonight  think go finn come  tire special  come tomorrow di  k go sleep well take rest  u guy never invit anywher  want pleas insid outsid bedroom  calm downon itxt u co iwana know wotu r doin haventcn u ur up4 neth j  love wine dine ladi  iåõm cool ta luv 2 caus doin load plan wk got social servic inspect nurseri take care spk sn x  know account ask mom send mom reach  think u wrong number  feel alway slowli becom habit amp final becom part follow happi morn amp happi day  b late love mum  got panren  think chuckin ur red green n black trainner 2 save carryin bac train  give one miss number pleas  ju came back fr lunch wif si u leh  schedul next week town weekend  realli good dhanush rock  lmao ok wont need u hair anymor  miss ya need ya want ya love ya  sorri free  u ever get song stuck head reason wo go away til u listen like 5 time  nt yet abt u  got ur mail muchand look forward lot support less contact rememb one venugop late shall tri come till dear  sometim heart remembr someon much forget someon soon bcoz heart like everyon like one rememb everytim bslvyl  joy father john john name joy father mandan  hi yiju regard 3230 textbook intro algorithm second edit sell 50  k want us come  littl difficult simpl way enter place  ha us e thing got tv 2 watch u thk 2 go tonight u alreadi haf smth mind  dont show far put new pictur facebook  watch tv got new job  good afternoon sexi bun goe job search wake first thought alway love wish fine happi know ador  come whatev want  ok chikku 1 favourit  u see post facebook  oh well c u later  uncl atlanta wish guy great semest  dear free messag without recharg hi hi hi  dun believ thk u told  know god creat gap one made come amp fill gap hold hand  ye sura sun tv lol  arun u transfr amt  takin shower yeah leav done  work eye philosophi text u later bit free chat  u havenåõt lost ill alway b didnåõt intend 2 hurt u never knew u felt thatåõ itried2tel careabout u  bad girl still rememb  much gave morn  hope alright babe worri might felt bit despar learn job fake wait come back love  hey tell blake address carlo want meet got lost answer phone  get opinion someth first  one week leav put know time  hit move  excel spent lt gt year air forc iraq afghanistan stabl honest like travel  wan na watch movi  ok lor thanx ìï school  class get text  bu leav lt gt  god good sleep dear pray  nice day today love dearli  aiyo bit pai seh noe scare dun rem die hee becom better lookin oredi leh  aight ask roommat  what hous beer  wan 2 meet n combin part da rest da project go  ticket 4 walsal tue 6 th march mate get sat ill pay treat want 2 go txt bak  ye chat  hi jess dont know work call u im home eve xxx  sian aft meet supervisor got work 2 liao u work  go write ccna exam week  well watch shrek 3d b  much dirti fellow  dunno dat wat told ok lor  probabl tomorrow even later tonight someth go  could say die man feel sad go want know would probabl gone late night  think lift one  u dun wan u dun like alreadi ah wat u still eat  sent ur email id soon  dude teresa hope okay didnt hear peopl call receiv packag sinc dec lt gt thot like know fantast year best read plu realli realli bam first aid usml work done  hey gorgeou man work mobil number good one babe squishi mwah  way stay oh  thanx take call got job start monday  time ur flight tmr  come  rather promin bite mark right cheek  septemb  wet right  husband  norm tomorrow finish co st test need sort librari stuff point tomo got letter today access til end march better get move  yeah got list u joanna feel realli anti social  offic na  comingdown later  super da good replac murali  da good good unsold  hi u want join st later meet five call u class  engalnd telli decid wo let watch mia elliot kiss damn  dont want hear philosophi say happen  got job wipro get everi thing life 2 3 year  cant get da laptop matric card wif lei  dunno da next show aft 6 toa payoh got 650  made payment dont much sorri would want fedex way  play one day last year know even though good like india  girl wait recept ah  say god love amp need clean heart ten special peopl amp u c miracl tomorrow pl pl  hate turn fun shop trip annoy day everyth would look hous  sir wait call  want come onlin  could work reach consensu next meet  aiyah wait lor u entertain hee  last thing ever want hurt think would laugh embarass delet tag keep go far knew even fact even felt like would hurt show realli know messi wednesday bad problem time clean choos skype take pictur sleep want go mind thing make bed throw laundri top ca friend hous embarass underwear bra strewn bed pillow floor someth els use good least make bed  let know kick  call ok said call  call number avail appoint ask connect call wahe fathima  go buy wif meet later  mmmm fuck fair know weak belli pull head forget know  today system sh get well also deep well  mom want know  aight text back  dont know support ass srt thnk think ps3 play usb  oh ok didnt know meant yep babi jontin  pen thing beyond joke wont biro master ca ever  parti alex nichol  see miss call dear brother gr8 day  ìï finish soon  sorri ca help  come slave go shell unconsci avoid make unhappi  love ass enjoy doggi style  think ask gym excus lazi peopl jog  way home long dri spell season would  got ta collect da car 6 lei  ok knacker came home went sleep good full time work lark  probabl earlier station think  uh head much left  tot u outsid co darren say u come shop cours nice wat ju went sim lim look mp3 player  aight sound good want come  wat would u like 4 ur birthday  love work home  miss vday parachut doubl coin u must know well  sister got place birla soft da  wah oki oki muz make use e unlimit haha  peopl mu tabl lambda  stop old man get build snowman snow angel snowbal fight  ello babe u ok  hello beauti r u ok kinda ad row wiv walk pub want night wiv u miss u  u go ikea str aft dat  becoz lt gt jan whn al post ofic holiday cn go fr post ofic got duffer  lol grr mom take forev prescript pharmaci like 2 minut away ugh  real tho suck ca even cook whole electr hungri  want go  time month mid time  fffff text kadeem far gone  leav yet ok lor go elsewher n eat u thk  fujitsu seri lifebook good  yar want 2 scold u yest late alreadi got zhong se qing u ask b4 ask go w u lor n u still act real  dont know bring food  current food alon also  sch fr dun haf da book sch home  hello go villag pub 8 either come accordingli ok  ok  call like lt gt time oh give us hypertens oh  dont give monkey wot think certainli mind friend mine sleep wiv wud annoyin  omg could snow tonit  carri disturb  pa tell went bath  ju finish avatar nigro  r u scratch  hope great day  either idea know anyplac someth  plan usual stop hella weed  fact clean show know upset prioriti constantli want  excel readi moan scream ecstasi  dude avatar 3d imp one point thought actual fli room almost tri hittng one reflex  k k cant come search job  got lousi sleep kept wake everi 2 hour see cat want come worri cold  yeah leav coupl minut amp let know get mu  call make sure dat woken  hey go jazz power yoga hip hop kb yogasana  batteri mr adewal uncl aka egbon  wait 2 bu stop  oh ic thought meant mari jane  haha realli oh deduct lesson tmr  nah im goin 2 wrk j wot bout u  eat shit wait ur monkey face bitch u asshol  good night go sleep  aight grab someth eat text back mu  take someth pain move howev side next 6hr see doctor  lol oh babe wont slide place midnight thank invit  howz person stori  lol would awesom payback  honeybe said sweetest god laugh amp said u havnt met person read moral even god crack joke  thank tesco quit nice gone speak soon  featheri bowa someth guy know  even cant close eye vava play umma  2 laptop noe infra slow lar wan fast one  nvm ok  enjoy ur life good night  ye meet town co go gep home could text bu stop worri finish march ish  that cool cum  delhi chennai still silent  lol alright thinkin haha  boat still mom check yo half nake  shhhhh nobodi suppos know  sorri call later meet thing relat trade pleas call arul lt gt  hey late amk need drink tea coffe  length e e top shorter n got fring thk go liao lazi dun wan 2 distract u also  num corrct dane  basket gettin full might tonight  hi darlin ive got back realli nice night thank much lift see u tomorrow xxx  valentin huh proof fb page ugh glad realli watch rupaul show tool  eh den sat u book e kb liao huh  practis curtsey  lol boo hope laugh  def up4 someth sat  well leav class babe never came back hope nice sleep love  lmao fish memori need  b go 2 sch mon si need 2 take smth  idea soon get convert live  india go draw seri mani year south african  goodmorn today late lt decim gt min  ca take major role commun outreach rock mel  shop lor rain mah hard 2 leav orchard  hi birth 8lb 7oz mother babi brilliantli  see forward messag proof  ca keep go never intent run choos rather keep room clean say visitor mayb best choic ye want embarass mayb feel feel friend want drop buy say happen morn tri everyth know els  dunno lei thk mum lazi go neva ask yet  whatev want know rule talk earlier week start happen show respons yet everi week bend rule way way whatev tire thia argument everi week lt gt movi doesnt inlud preview still get 1  beauti truth read care heart feel light someon feel heavi someon leav goodmorn  u arun dha  read shame tell take run blame u 4 ever realli 4 ever long time  princess kitti shave natur  better bb wont use wife doctor  ya came ago  tomorrow onward eve 6 3 work  anyth lor toa payoh got place 2 walk meh  anybodi number still thought tact way ask alex  movi theatr go watch unlimit movi pay  u lunch alon bore  ye obvious potato speak soon  nah man car meant cram full peopl  got new job bar airport satsgettin hour mean lie keep touch  kalli readi bat 2nd inning  thanx birthday alreadi  ugh ca u apolog admit u wrong ask take u back  noe la u wana pei bf oso rite k lor day den  ye small boost secret  im gon na miss u much  avatar suppos subtoitl  simpli sit watch match  jot thing want rememb later  oh sorri pleas  hey go lo lesson gym  dont pack buy cereal must pack food pack gari someth 9ja miss  alway make thing bigger  ìï dun wan watch infern affair  wake 4 afternoon sup  send pic like  okay book alreadi includ one bugi  aight fuck get later  de call time ill tell k  dont use hook  much blackberri bold2 nigeria  hi home calicut  hey pick u colleg u tell wen 2 love pete xx  oh thkin goin yogasana 10 den nd go 3 den rush parco 4 nb oki lor u call readi  late need go n get da laptop  sir wait mail  charg mobil get morn  noth got msg frm tht unknown  ugh fuck resub eve  see shadow get earli spring yay  one slice one breadstick lol  hey want crave miss need love ahmad saeed al hallaq  train tomorrow  pass di ur contact n see wat u get red luv wid blue u put smile face purpl u r reali hot pink u r swt orang thnk lyk green reali wana go wid yelow wnt u bck black jealou brown miss nw plz giv one color  co daddi arrang time c wat time fetch mah  eldest know  say hi drugdeal  hard believ thing like say lie think twice say anyth  good night sleepwel amp take care  wondarful song  yar lor actual quit fast co da ge slow wat haha  must come normal bath da afternoon  trust even  hey goin 2 meet want 2go 4a meal donyt feel like cuz 2 get last bu home he sweet latelyxxx  take like noon  open mca  aight wat happen side  done oredi  sweet well princess pleas tell like dislik bed  wish great semest  moji love word rich day  dude like buff wind  babe  ca give everyth want need actual could better yor got money ca get work ca get man ca pay rent ca even fill fuck ga tank ye stress depress even call home thanksgiv cuz tell noth  kalli wont play first two odi  get cash togeth text jason  oh love soooo good hear omg miss much today sorri problem provid thank tming  probabl want pick  done  cutest girl world  dice art class 6 thru 9 thank though idea time come tomorrow  oh howda gud math en samachara chikku  thk 530 lor dunno get ticket wat u  audri lousi autocorrect  site simul test give tough question test readi  anyway serious hit back otherwis light armand alway shit vomit  fetch yun u fetch  thank like well  hmmm imagin come home rub feet make dinner help get readi date sure readi kind life  lara said loan lt gt  spare power suppli  yar quit clever aft mani guess lor got ask 2 bring thk darren will 2 go aiya thk leona still attach wat  yeah go bed back midnight  well avail washob nob last night ask nickey platt instead  time week ryan  wish u mani mani return happi birthday  hope know still mad  argh 3g spotti anyway thing rememb research provinc sterl place look  xam hall boy ask girl tell start term di answer den manag lot hesit n lookin around silent said intha ponnungal ipaditan  know result  sorri im get feel realli total reject kinda thing  got shitload diamond though  favor pl convey birthday wish dnt forget today birthday shija  well go aunti  mine like fr china noisi  later guess needa mcat studi  train manual show tech process password reset troubleshoot  spoke uncl john today strongli feel need sacrific keep go call beg listen dont make promis make clear thing easi need pleas let us work thing long keep expect help creativ stifl pl keep happi promis part  carlo took leav minut  well done luv ya  came hostel  k still love  juz rememb got ta bath dog  drug abl eat  alright took morphin back yo  see requir pleas  stayin troubl stranger saw dave day heåõ sort still bloke u gona get girl mr ur mum still think get 2getha  collect ur laptop  later show around want cld drink wld prefer spend money nosh mind nxt wk  get home  waaaat lololo ok next time  tabl occupi wait tree  sure dont forgot come alway touch  hi kindli give us back document submit loan stapati  dont shall buy one dear  oh god happi see messag 3 day  year mani mile  hey cuti goe wale kinda like hill shit still avent kill  sad stori man last week wife wish parent forgot n kid went work even colleagu wish enter cabin pa said happi boss felt special askd 4 lunch lunch invit apart went said u mind go bedroom minut sed sexi mood came 5 minut latr wid cake n wife parent kidz friend n colleagu surpris wait nake  think go honesti road call bank tomorrow tough decis make us great peopl  specialis work slave labor look month sha co shakara 4 beggar  repli boy chang phone number  hi darlin im way london smash anoth driver big dent im realli miss u u xxx  noth realli make sure everybodi speed  come home 4 dinner  thank way lost  good crickit mind  thx well month  pleas come imin urgoin outl8r  wont wat wit guy  yavnt tri yet never play origin either  hiya good day spoken sinc weekend  see thought  get readi moan scream  oh k got job what  think need go late school night especi one class one miss last wednesday probabl fail test friday  pop lt gt ibuprofen help  babe goe day sip cappuccino think love send kiss across sea  ok  ps u ur grown right  chinatown got porridg claypot rice yam cake fishhead beehoon either eat cheap den go cafe n tok go nydc somethin  know peopl hit fuck ye  puriti friendship two smile read forward smile see name gud evng  anyth specif regard jaklin idk fuck  oh god gon na googl nearbi cliff  yup shd haf ard 10 page add figur ìï got mani page  ooh 4got gon na start belli danc moseley wed u want 2 join cafe  thankyou much call appreci care  congrat treat mail 2 mail mother mail  call one pick e phone ask alreadi said ok  hi email address chang  happi advanc  much textin bout  bring got  movi call 4 wat  sure stomach  haha dinner cousin  boy late 2 home father  man carlo definit come mu tonight excus  soon real thing princess make wet  favour pl convey birthday wish nimya pl today birthday  haha leg neck kill amigo hope end night burn think could swing like hour  usual bodi take care buy make sure doesnt progress pl continu talk saturday  hmm well night night  want say holi shit guy kid bud  gettin bit arti collag mo well tryin 2 ne way got roast min love shall enjoy  one day billion class right  goodmorn today late 2hr back pain  ok let noe later n ask call u tmr  ok walik ard u wan 2 buy anyth go ur hous  two carton u pleas shelv  nice talk pleas dont forget pix want see  realli quit funni lor wat u shd haf run shorter distanc wat  notic like look shit mirror your turn right freak  great get worri know wonder care person like best life know u r wonder god love  prefer free day tue wed fri oso ìï ask workin lor  alrit jod how revis goin keri bin doin smidgin n e way u wan na cum colleg xx  beliv come home  oh take test  exact intent  haha money leh later got go tuition haha look empti slot drive lesson  hey thk juz go accordin wat discuss yest lor except kb sun co nt much lesson go attend kb sat  k wen ur free come home also tel vikki hav sent mail better come even il free today aftr  noth get msg di name wit differ  room number wan na make sure knock right door  listened2th plaid gd new air1 boughtåóbraindanceåóa aphexåõ abel  pl tell nelson bb longer comin money expect aint come  give someth drink take vomit temp might drop unmit howev let know  think sent text home phone cant display text still want send number  everi day use sleep lt gt  k call close  u buy newspap alreadi  nope wif si lor aft bath dog bath look like go 2 rain soon  boo way mom make tortilla soup yummmm  manag puzzel  find way includ detail  like spoil  get threat sale execut shifad rais complaint offici messag  hope thing went well remind still need u c littl thing left loung  den wat e schedul b lk sun  lol enjoy role play much  watch tv  lov line truth  check head drop stuff  got lot hair dresser fr china  sad stori man last week wife wish parent forgot n kid went work even colleagu wish  ill call even ill idea  show wot say could u c 4 dust  take lt gt min  finish liao u  haha think  u know watchin lido  life spend someon lifetim may meaningless moment spent someon realli love mean life  haha awesom 4u coupl time come  cold dont sad dear  think could stop like hour roommat look stock trip  telli brdget jone  hello r u im bore inev thought id get bore tv tell someth excit happen anyth  hmm bad news hype park plaza 700 studio taken left 2 900  sorri call later meet  r comin back dinner  hav almost reach call unabl connect u  wait yesterday  reach home safe n sound liao  velli good ye pleas  hi wkend ok journey terribl wk good huge back log mark  two letter copi co one messag speak soon  alex know guy sell mid south tampa think could set like 8  dont messag offer  hey babe u doin wot u 2 2nite love anni x  remind get shall  v romant  hello damn christma thing think decid keep mp3 doesnt work  hi darlin im missin u hope good time u back time u give call home jess xx  draw va dont think  dont pick call someth import tell hrishi  nothin come mind ìï help buy hanger lor ur laptop heavi  lt gt guess easi enough  make babi yo tho  tell friend come round til like lt gt ish  friendship poem dear dear u r near hear dont get fear live cheer tear u r alway dear gud ni8  still area restaur ill tri come back soon  aight work thank  2 sleep bag 1 blanket paper phone detail anyth els  guy  also chat awesom make regular unless see person  signific dont worri  caus old live high  waqt se pehl naseeb se zyada kisi ko kuch nahi milta zindgi wo nahi jo hum socht hai zindgi wo hai jo ham jeetey hai  way offic  place want da  pain could come wors time  stalk u  sorri dude dont know forgot even dan remind sorri hope guy fun  ok lor  app class varaya elaya  day ask anand number  surf onlin store offer want buy thing  long beach lor expect u dinner  home way  fine thank  happen tell truth  like italian food  weird know one point  must nearli dead well jez iscom todo workand whilltak forev  tell friend plan valentin day lt url gt  alright see bit  cheer messag zogtoriu iåõv stare phone age decid whether text  take care financi help  tell dear happen talk like alian  hi yiju meet u 11 tmr  posibl dnt live lt gt centuri cm frwd n thnk differ  dint slept afternoon  seem unnecessarili affection  yar els thk sort funni thing  that cool day  r go lt gt bu  hello love went day alright think sweet send jolt heart remind love hear scream across sea world hear ahmad al hallaq love own passion  join today  okay well thank clarif  talk other probabl come earli tomorrow  money issu weigh thank breath easier make sure dont regret thank  hi sorri miss call pl call back  ok need tell anyth go sleep good night  ok tri week end cours coimbator  v nice 2 sheffield tom 2 air opinion categori 2 b use 2 measur ethnic next censu busi transcrib  r home come within 5 min  boy love gal propsd bt didnt mind gv lv lttr bt frnd threw thm boy decid 2 aproach gal dt time truck speed toward gal wn 2 hit girl boy ran like hell n save ask cn u run fast boy repli secret n instantli girl shout n thi live happili 2gthr drink boost evrydi moral stori hv free msg gud ni8  day say cut ur hair paragon call hair sens noe much hair cut  hmm mani unfortun pic obvious arent hot cake kinda fun tho  watch tv lor funni bluff 4 wat izzit thk imposs us  dunno lei neva say  thanx 4 2day u r goodmat think ur rite sari asusu 1 u cheer love u franyxxxxx  way home went chang batt 4 watch go shop bit lor  hi mobil lt gt ad contact list great place send free sm peopl visit  good even sir hope nice day want bring notic late pay rent past month pay lt gt charg felt would inconsider nag someth give great cost didnt speak howev recess wont abl pay charg month henc askin well ahead month end pleas help thank everyth  let want hous 8am  best line said love wait till day forget u day u realiz u forget gn  reach ten morn  pussi perfect  happend  also piec  wiskey brandi rum gin beer vodka scotch shampain wine yarasu dhina vaazhthukk  boo thing back home littl bore alreadi  first gain lt gt kg sinc took second done blood sugar test ok blood pressur within normal limit worri  pick ur fone u dumb  thank da thangam feel happi dear also miss da  okey doke home dress co lay around ill speak later bout time stuff  run away frm u walk slowli amp kill u care enough stop  babe back come back  well told other marri  r u  yo yo yo byatch whassup  oh kay sat right  hi roger cl  oh oh wast den muz chiong sat n sun liao  jesu christ bitch tri give drug answer fuck phone  pleas give 2 pick tuesday even 8 ok  meet darren  one best dialogu cute die  solv case man found murder lt decim gt lt gt afternoon 1 wife call polic 2 polic question everyon 3 wife sir sleep murder took place cook pick veget went 2 post offic went 2 play went 2 marriag polic arrest murder immedi repli reason u r brilliant  dear reach  aww first time u said u miss without ask miss u first love  ok thanx gd nite 2  come right ahmad  lol pleas actual send pic right wan na see pose comb hair dryer someth  fp  huh mean comput scienc like dat one push n  could read love answer  oh lk tt den take e one tt end cine lor dun wan yogasana oso  madam regret receiv refer check dlf rakhesh kerala  oic better quickli go bath n settl  err cud go 8pm got way contact  bloo bloo bloo miss first bowl  lmao fun  oh k k big good  hey almost forgot happi babe love ya  think move lt gt week  find sent offlin messag know anjola  txting drive  good let thank god pleas complet drug lot water beauti day  realli dun bluff leh u sleep earli nite  indian r poor india poor countri say one swiss bank director say lt gt lac indian money deposit swiss bank use budget lt gt yr give lt gt crore job indian villag delhi 4 lane road forev free power supli lt gt social project everi citizen get monthli lt gt lt gt yr need world bank amp imf loan think money block rich politician full right corrupt politician itna forward karo ki pura india  uncl boy need movi oh guid plu know torrent particularli legal system slow gr8 day plu start co dont meet onlin honey moon  oh ya ya rememb da  btw regard realli tri see anyon els 4th guy commit random dude  busi juz dun wan 2 go  rightio well arent bright earli morn  great church holla get  back brum thank put us keep us happi see soon  donno scorabl  lt gt great loxahatche xma tree burn updat total see star  ye dont care need bad princess  guy kadeem sell sinc break know one guy paranoid fuck like sell without ca til late tonight  tmr brin lar aiya later come n c lar mayb neva set properli got da help sheet wif  u knw di lt gt  dun believ wat  back thank  know complain num directli go bsnl offc nd appli  okay seen pick friday  much pay suganya  left dessert u wan 2 go suntec look 4 u  abeg make profit start use get sponsor next event  onum ela normal  sister kid  cool text way  nope meanwhil talk say make greet  cant talk call keep call  anyth lar  rose need water season need chang poet need phone need ur sm need ur love frndship forev  good afternoon babe goe day job prospect yet miss love  pick drop  think wast  world famamu  come friday leav pongal get news work place  lol well without could big sale togeth  way  eat old airport road 630 oredi got lot pple  sri ca talk phone parent  ok lor wat time finish  princess like make love lt gt time per night hope that problem  mm way railway  done sorri hope next space give everyth want rememb furnitur around move lock lock leav key jenn  yet like keep touch easiest way barcelona way ru hous  even da urgent  pansi live jungl two year drive worri  mm kanji dont eat anyth heavi ok  promis get soon text morn let know made ok  lol differ go tri find everi real life photo ever took  dont thnk wrong call us  k ill need sr model pl send mail id pa  aiyah e rain like quit big leh drizzl least run home  2 doc appoint next week tire shove stuff ugh could normal bodi  dun b dun thk abt alreadi concentr ur paper k  greet consid excus  drama enough famili struggl hot sun strang reason ego go invit actual necess seriou reppurcuss  releas anoth italian one today cosign option  mu tri figur much money everyon ga alcohol jay tri figur weed budget  hcl chennai requir fresher voic english upto lt gt lt gt telephon interview  dai send resum id  know lt gt around 5  yup finish c  rememb ask alex pizza  also  ola would get back mayb today told direct link us get car bid onlin arrang ship get cut u partnership u invest money ship take care rest u wud b self reliant soon dnt worri  fwiw reason around time smoke ga afford around someon tell appar happen somebodi want light  hello boytoy made home constant thought love hope nice visit ca wait till come home  congrat treat maga  u talk  yup  u wake alreadi wat u u pick us later rite take sq825 reach ard 7 smth 8 like dat u check e arriv time c ya soon  yunni walk citylink faster come hungri  er yep sure prop  hiya u pay money account thank got pleasant surpris check balanc c get statement 4 acc  ok ill send lt decim gt ok  bognor splendid time year  offic da  ask abt e movi u wan ktv oso  misplac number send text old number wonder heard year best mcat got number atlanta friend  dunno lei might b eatin wif fren wan eat wait 4 lar  u noe 2 send file 2 comput  mmmmm love wake word morn miss love hope day goe well happi wait us togeth  jay say put lt gt  come sec somebodi want see  sun anti sleep medicin  happen gotten job begun registr perman resid  yup ok  glad went well come 11 plenti time clair goe work  ok enjoy r u home  pl pl send mail know rel come deliv know cost risk benefit anyth els thank  like  haf combin n c lor  monthli amount terribl pay anyth till 6month finish school  hmmm mani player select  said gon na snow start around 8 9 pm tonit predict inch accumul  dont send plu mode  aiyo pleas got time meh  packag program well  belong 2 hope pray 4 fate 4 shoranur train incid let hold hand togeth amp fuell love amp concern prior 2 grief amp pain pl join di chain amp pass stop violenc women  guy ask get slipper gone last year  compani terrif food realli nice  honestli made love cup tea promptli drop key burnt finger get  yup studi surf lor e lazi mode today  pleas sen kind advic pleas come tri  done c  oh fine tonight  ìï give time walk  reach ard 20 min ok  fuck babe happen come never came back  friend want drive em someplac probabl take  also thk fast xy suggest one u dun wan go 2 rain leh got gd  still get good  mayb pressi  yeah leav mayb 7ish  told dr appt next week think gon na die told check noth worri listen  room need  dont want hear anyth  hey leav friday wait ask superior tell  ultim tor motiv tui achiev korli  5 2 work time  worri finish march ish  hous water dock boat roll newscast dabbl jazz flute behind wheel  that go ruin thesi  sch neva mind u eat 1st  hey what u sleep morn  erm thought contract ran the4th octob  dunno let go learn pilat  yup elabor safeti aspect  goodmorn today late 1hr  hi happi birthday hi hi hi hi hi hi hi  outsid offic take  respond imma assum still asleep imma start call n shit  aight see bit  superior tell friday leav depart except leav way call wahe fathima hr conform  lol take member said aunt flow visit 6 month caus develop ovarian cyst bc way shrink  still work go small hous  friend got say up order gram got lt gt get  tmr timin still da wat co got lesson 6  thing ape u fight death keep someth minut u let go that  gon na abl late notic home week anyway plan  got fujitsu ibm hp toshiba got lot model say  oki thanx  gosh pain spose better come  fine happi amp  oki  gon na get rimac access  arestaur eat squid wan na dosometh late  call time job today ok umma ask speed  wen u finish fanci meetin wiv u tonit need break dabook 4 hr last today wrk  r u sam p eachoth meet go 2 hous  yeah lol luckili star role like  hello madam  awesom text restock  ye innoc fun  thank send mental abil  sir hope day go smoothli realli hope wont bother bill ca settl month extra cash know challeng time also let know  2marrow wed lt gt 2 aha  went ur hon lab one  hey pple 700 900 5 night excel locat wif breakfast hamper  come  lol nah bad thank good b home quit realiti check how ur day u anyth websit  ok lor  come home 4 dinner  r lt gt  unni thank dear  know lack particular dramastorm detail part worri  haha cant tmr forfeit haha  hey glad u r better hear u treat urself digi cam good r 9pm fab new year c u coupla wk  way go back  cal sir meet  love hear v see sundayish  sorri da thangam sorri held prasad  tiwari bang kochi  thank god bed  cancer mom make big deal regular checkup aka pap smear  gobi art colleg  want talk  pandi join 4w technolog got  tri get lost fact tee hee  friend use call  em olowoyey great time argentina sad secretari everyth bless  taxt massag argh ok lool  hi pleas get lt gt dollar loan pay back mid februari pl  might want pull case plan spend much confid derek taylor money manag  like shake booti danc floor  text get call phone problem  need drug anymor  sorri da thought call lot time lil call  scarcasim  great run ttyl  feel like tri kadeem v  dai lt gt naal eruku  yet abt u  want final lunch today  know dad back  remain bro amongst bro  r u meet da ge nite tmr  nice day impress sensibl went home earli feel fine bore ca rememb  de look good  ye repli mail go manag offic later plu bank later wednesday  cool come like lt gt ish  super msg da nalla time  good afternoon boytoy feel today better hope good boy obedi slave pleas queen  6 good combin  sick needi want want slave want  train back northampton afraid  abj serv stay dad alon  playng 9 door game gt race phone lol  da bu go home  got call landlin number ask come anna nagar go afternoon  okay chase dream good next  yupz oredi book slot 4 weekend liao  r mani ericson also lt gt luk good bt forgot modl  ye know cheesi song frosti snowman  ya ok vikki vl c witin lt gt min il repli  hey tmr meet bugi 930  nice new shirt thing wear nudist theme mu  hey sexi bun day word morn ym think  whenev see still hook  nope go home go pump petrol lor like go 2 rain soon  use foreign stamp whatev send  oh babi hous come dont new pictur facebook  feb lt gt love day send di ur valu evn 3 come back u gt marri person u luv u ignor di u lose ur luv 4 evr  hiya sorri hav signal seen heard neither unusu put case get sort hug snog  omw back tampa west palm hear happen  yup alreadi thanx 4 print n hand  mean come chase state watch mani movi want  took tablet reaction morn  nah perpetu dd  sorri de went shop  hey still want go yogasana coz end cine go bath hav steam bath  nope drivin neva develop da photo lei  think go reg pract flung haha wat time u go  cool lt gt inch long hope like big  murder coz man murder lt gt th public holiday close includ post    go n buy juz buy get lar  work technic support voic process  justbeen overa week sinc broke alreadi brain go mush  tund wish great day abiola  nope c  medic mission nigeria  movi laptop  havent next mon  mm feel sleepi today shall get dear  dare stupid wont tell anyth hear wont talk  noe ben go  mag meet avo point  meant middl left right  realli crash cuddl sofa  hi chachi tri call u unabl reach u pl give miss cal u c tiz msg kanagu  sent price mean lt gt g  noth  work ring u thing whole hous scream brat pull hair love u  famili respond anyth room went home diwali one call come make feel like die  tick tick tick babe  r go 4 today meet  k da mani page want  ya roast  send number give repli tomorrow morn said like ok  said problem let know  ok tell half hr b4 u come need 2 prepar  play w comput aiyah tok 2 u lor  sat right okay thank  derp wors dude alway want parti dude file complaint three drug abus live  ok chines food way get fat pay lipo  r outsid alreadi  good trip watch rememb get back must decid easter  yo watch movi netflix  time prob 3  meh thgt clash realli ah dun mind dun seen lost weight gee  arr birthday today wish get oscar  open rebtel firefox load put plu sign user name place show two number lower number number pick number pin display okay  pick variou point  wow v v impress fun shop  way ur home  problem talk later  ur si  still custom place  dude u knw also gud  confirm eat esplanad  send id password  kind took garag centr part exhaust need replac part order n take fix tomo morn  well might come  long quit get like 5 minut day  like call mittelschmertz googl dont paracetamol dont worri go  well right gon na get check today steam text want come get  arriv see coupl day lt 3  k wat tht incid  yeah get unlimit  cthen thk shd b still got conclus n content pg n b da content pg n cover  forgot take 3 year shower sorri phone dead yet  ìï got wat buy tell us need come  god bring success  r stayin extra week back next rugbi weekend hi c u soon ham  campu librari  affidavit say lt gt e twigg st divis g courtroom lt gt lt time gt doubl check text tomorrow  creep  get ten billion call text help god  told return order  murder coz man murder lt gt th public holiday close includ post  depend u go lor  smile right go world wonder smile think crazi keep away  lil fever fine  think still car    ye princess want catch big strong hand  oh yeah forgot u take 2 shop  mm ask call radio  thinkin someon good drug  enjoy shower possess pour u ur love one bcoz world lie golden gift love  alright sure let know leav  last much 2 hour might get lucki  geniu brother pl send number skype  thk em find wtc far weiyi goin e rest dunno yet r ur goin 4 dinner den might b abl join  forget own privat properti good boy alway  oh teeth pain  u ask darren go n pick u lor oso sian tmr haf 2 meet lect  need buy lunch eat maggi  oh right make sure load work day got realli nasti cough today dri n shot realli help  thanx 4 send home  normal hot mail com see  u sick still go shop  ya well bbd pooja full becom quit ur rite cold wear  work  1 reach home call  tri find chines food place around  easi mate guess quick drink bit ambiti  babe miiiiiiissssssssss need crave geeee sad without babe love  ok thanx  tunji queen wish great day abiola  today iz yellow rose day u love frndship give 1 misscal amp send ur frndz amp see mani miss call u get u get 6miss u marri ur lover  class hour sorri  wat time u finish ur lect today  fine good hear dear happi new year oh  go wipro interview today  tall princess  doubt could handl 5 time per night case  haha hope hear receipt sound gd luck  gon na death gon na leav note say rob fault aveng  japanes proverb one u none u must indian version one let none leav final kerala version one stop none make strike  today workin free oso gee thgt u workin ur fren shop  life face choic toss coin becoz settl question coin air u know heart hope gudni8  want kiss feel next  happi say  ok would b love u r sure think wot u want drinkin dancin eatin cinema u wot  say explicitli told nora know someon probabl gon na bother  smith wast wan na gayl  mum sent mani mani messag sinc got want know actual get enjoy rest day  aight tomorrow around lt gt  actual first time went bed long spoke woke night  see  dont understand messag  crucifi c told earlier  idk keep say sinc move keep but head freedom respons tire much shit deal bare keep togeth get ad  fuck cedar key fuck come anyway tho  twenti past five said train durham alreadi coz reserv seat  u still paint ur wall  printer cool mean groovi wine groovi  hi harish rent transfr ur acnt  anyth lor come  cbe realli good nowaday lot shop showroom citi shape good  ìï still attend da talk  prob hon u doinat mo  k take care  take phone callon friday assum wo year  batteri low babe  shuhui bought ron present swatch watch  yeah quit bit left swing tomorrow get  babe said 2 hour almost 4 internet  k sure get noon see  k k yesterday cbe  went ganesh dress shop  ìï collect ur laptop go configur da set izzit  aight 8 latest probabl closer jay tyler two trip  come aftr lt decim gt clean hous  bill letter expect one orang bill may still say orang  tell pain de  hi darlin hope nice night wish come cant wait see love fran ps want dirti anal sex want 10 man gang bang  ha know either clever simpl thing pear day perfect christma  helloooo wake full gud  alrit  must sit around wait summer day celebr magic sight world dress white oooooh let snow  guy go see movi side  tell think plu go stop run  kindli send one flat lt decim gt today  noth lor bit bore dun u go home earli 2 sleep today  time tell friend around  ye fine love safe  thank gud nyt  xy ur car u pick  thanx 4 time weåõv spent 2geva bin mint ur babi want u xxxx  yo way could pick someth tonight  sent send  fine simpli sit  tht god gift bird human hav natur gift frm  come day class  im done studyn librari  ok u enjoy ur show  anyth  wuld without babi thought alon mite break donåõt wan na go crazi everyboy need ladi xxxxxxxx  wat dear sleep ah  hi test lt gt rd  2 student solv cat question lt gt lt gt lt gt tell answer u r brilliant got answr  yo know anyon lt gt otherwis abl buy liquor guy flake right get hold somebodi 4 loko night  yup n fren lor meet fren 730  yeah got one line us  stop wonder ever go stop tm whenev want mine  lol yep yesterday alreadi got fireplac anoth icon sit  hey book pilat yoga lesson alreadi haha  happen behav like  supervisor find 4 one lor thk student havent ask yet tell u aft ask  hello news job make wait fifth week yeah im woozl weasel exet still home 3  hey babe sorri get sooner gari come fix caus think know go far ptbo say cost lt gt buck know might cheaper find someon second hand machin right let know want babe  make 3 4 fuck sake x  leav u alway ignor  nope b go 2 sch fri quit earli lor co my si got paper da morn  bruce b down amp fletcher  said would woke  hey free call  tell who pl  think might give miss teach til twelv lectur two damn work thing  id check like 1 bowl worth left  ye mani sweet  would still cozi exhaust last went school work everyth close  buzzzz buzz ass buzz chest buzz cock keep phone vibrat feel shake  sir send group mail check  da intro cover energi trend n pro n con brief descript nuclear fusion n oso brief histori iter n jet got abt 7 n half  nowher ikno doesdiscount  dont know jabo abi  yet sapna aunti maneg full weak swalpa black  good babi  mostli sport footbl  head dey swell oh thank make day  u make fb list  sari need tim bollox hurt lot tol  happi new year princess  text carlo let know hang  worri easi ingredi  love u 2 littl poci bell sorri love u  ok omw castor  yar lor keep rain non stop u wan 2 go elsewher  u mean u almost done done wif sleep tot u go take yup send liao pick ard 4 smth  tonight yeah  eat fo lunch senor  said right giggl saw u would possibl first person2di nvq think much could  break time one come n get stuff fr  see ca see mayb reboot ym seen buzz  still grinder  see k  list buyer  idea guess work hour suppos leav sinc usual nobodi interest figur shit last second  mm entir sure understood text hey ho weekend  releas vday shirt u put make bottom half nake instead white underwear  watch film  b4 thursday  oh phone phone disconnect  id onluy matter get offcampu  excel see riley plan  ew one  also hi wesley  ah see lingo let know wot earth finish make  imagin life without fast u search l alway disturb  hm good morn headach anyon  yeah prob last night obvious catch speak soon  might go 2 sch yar e salon v bore  lt gt min stop somewher first  lt gt fast approach wish u happi new year happi sankranti happi republ day happi valentin day happi shivratri happi ugadi happi fool day happi may day happi independ day happi friendship mother father teacher children day amp happi birthday 4 happi ganesh festiv happi dasara happi diwali happi christma lt gt good morn afternoon even night rememberi first wish u raj  one joy lifei wake daywith thought somewheresomeon care enough tosend warm morn  get second half messag  wat time u wan 2 meet later  thank much selfless love plenti  film ill call later  dare chang ring  bad girl ladi  love ya tri budget money better babe gari would freak knew  part understand  finish lunch alreadi u wake alreadi  still game  got tallent wast  record one night  also sir sent email log usc payment portal send anoth messag explain thing back home great weekend  gon na let know co come bak holiday day come number  jokin lar depend phone father get lor  aight lem know  get readi lt gt inch pleasur  feel like john lennon  co darren say consid mah ask  bother trust answer pl  one day crab run sea wave came n clear footprint crab ask frnd r u clear beauti footprint wave repli fox follow ur footprint catch that clear frndsship never let u dwn gud  aight time want come  slaaaaav must summon time wish come anymor  bill 3 that bad  let know chang next 6hr even appendix age rang howev imposs chill let know 6hr  hello yeah got bath need hair come done yeah  weather  much though h friday cant wait dunno wot hell im gon na anoth 3 week becom oh wait alreadi done  die e toot fring  lol know awesom phone could click delet right want  awesom question cute answer someon ask boy ur life smile amp answer fine gudnit  pleas leav tell  pl send correct name da  happen yo date  webpag avail  woke yeesh late fall asleep til lt gt  dear know lt gt th lt gt th birthday love gopalettan plan give small gift day like particip welcom pleas contact admin team detail  tomorrow onward start ah  u talk bout earli morn almost noon  fine rememb  mani buy  sound good keep post  april cant wait  boy best get yo ass quick  ay wana meet sat wkg sat  wait till 2 bu pick  apart one told yesterday  ok lor buy wat  somebodi go andro steal ice  know msg recent  take us shop mark distract  mum hope great day hope text meet well full life great day abiola  sens foot peni  okay thought expert  miss realli surpris gone net cafe yet get miss  thinl role like stand other hit  great trip india bring light everyon project everyon lucki see smile bye abiola  importantli discuss u  train process  ok lor ned 2 go toa payoh 4 2 return smth u wan 2 send wat  da car park  wish hold tightli make see import much mean much need life  ask anthoni dad bf  wana fal luv vth book bed fal luv vth yen madodu nav pretsorginta nammanna pretsovru import alwa gud  go take bath ill place key window  dear take care reach u lot    emigr someth ok mayb bit hope  olol print forum post guy exact prob fix gpu replac hope dont ignor  walk mom right stagwood pass right winterston left victor hill address lt gt  yo jp hungri like mofo  creepi crazi  ok din get ur msg  pathaya enketa maraikara pa  even friend priest call  u lousi run alreadi come back half dead hee  said bad dat e gal know u wat u  remind hr  hope would send messag rent due dont enough reserv complet gone loan need hope could balanc lt gt way could get till mid march hope pay back  hi happi new year dont mean intrud pl let know much tuition paid last semest much semest thank  hello hun ru way im good 2 date guy met walkabout far meet soon how everyon els  lol gon na last month cash left lt gt case collect week caus announc blog  short cute good person  decid yet eh  wat time liao still got  ye watch footi worri go blow phil nevil  wait 4 insid da car park  uncl abbey happi new year abiola  free call pa  r u say order slipper co pay return  stop know well  good even roger  small problem auction punj ask tiwari  tell tell one treat hi hi hi  u come 2 pick  that cool like photo sexi  would u fuckin believ didnt know thur pre book cancel need b sack  haha better late ever way could swing  finish 6  bar b q store life twat orang dungere came ask want deck got first punch  messag food  ok go sleep hope meet  let know detail fri u find co tom mention chines thank  right think  wat r u  ur lectur  custom place call  plan yet go join compani jan 5 know happen  boy love u grl hogolo boy gold chain kodstini grl agalla boy necklac madstini grl agalla boy hogli 1 mutai eerulli kodthini grl love u kano  haha heard text around  get tomorrow send  thasa bit mess  oh that late well good night give u call tomorrow iam go go sleep night night  u tex mecaus u werebor yeah okden hunni r uin wk sat soundåõ likeyour havin gr8fun j keep updat countinlot lovem  sorri meet call later  yo howz u girl never rang india l  yeah wors  tag friend seem count friend  long time rememb today  havent shop lor juz arriv  thank better work caus feel use otherwis  challeng know  much ur hdd case cost  mysteri solv open email sent anoth batch sweeti  ca describ lucki actual awak noon  cheer card time year alreadi  ugh hope asu ppl dont randomli reformat  seen facebook huh lol  mah b pick tomorrow  still otsid come 2morrow  u still plumber tape wrench could borrow  vl bcum  havent still waitin usual ìï come back sch oredi  meet da call  k k watch film  cinema plu drink appeal tomo fr thriller director like mac  size eleph tablet u shove um ur ass  mani peopl seem special first sight remain special till last maintain till life take cr da  parent kidz friend n colleagu surpris wait nake  dunno juz askin co got card got 20 4 salon call hair sens tot da one cut ur hair  good morn pooki pie lol hope wake u  mayb woke fuck 3 would problem  happi birthday lot nri  x2 lt gt go get  hi neva worri bout da truth coz truth lead 2 ur heart itåõ least uniqu person like u deserv sleep tight morn  ur paper today e morn aft  lick everi drop readi use mouth well  expect whenev text hope goe well tomo  great p diddi neighbor come toothpast everi morn  av new number wil u use one ta  poke man everyday teach canada abi say hi  7 lor chang 2 suntec wat time u come  see onlin shop ask  curiou cuz ask  okay lor wah like def wont let us go haha say term condit  haha yup hope lose kg mon hip hop go orchard weigh  good r u work  oh ye littl weather kind coccoon home  home also  phone weirdest auto correct  oop phone die even know yeah like better  havent mu ask u 1st wat meet 4 lunch den u n meet alreadi lor u wan 2 go ask da ge 1st confirm w asap  said u mind go bedroom minut sed sexi mood came 5 minut latr wid cake n wife  oh yeah hav great time postcard 1 look girl im gone u know 1im talkin bout xx  got divorc lol  ur pin  babe got enough money pick bread milk give back get home  want snow freez windi  come mahal bu lt decim gt  know week go tirunelvai da  babi promis treat well bet take good care  like hotel dusk game think solv puzzl area thing  hi love goe day fuck morn woke drop cell way stair seem alright miss  well must pain catch  sorri da mistak  need coz never go  rose red red blood blood heart heart u send ti ur includ u like u get back r poor relat need 1 support r frnd 2 mani luv u some1 pray god marri tri  feel like dick keep sleep text facebook messag sup town  plm come da way  guess want alon time could show watch  height recycl read peopl spend time earn money money spent spend time good keep smile  yup comin  ye princess toledo  aight text back mu swing need somebodi get door  ron say fri leh n said ding tai feng cant make reserv said wait lor  good swimsuit allow  okay soon best  cute thought friendship necessari share everi secret ur close frnd  ok sent u da latest version da project  pl accept one day beg chang number  squeeeeez christma u lik frndshp den hug u get 3 u r cute 6 u r luvd 9 u r lucki none peopl hate u  ok anybodi ask abt u tel  funni fact nobodi teach volcano 2 erupt tsunami 2 aris hurrican 2 sway aroundn 1 teach hw 2 choos wife natur disast happen  gon na ring weekend wot  also track lighter find  babe need advic  leav around four ok  come medic colleg 7pm forward da  k good go  make lasagna vodka  hi kate u give ring asap xxx  peopl tour thought sofa thing sent curiou sugar  told go got drunk  fuck chicken messag would late woould buzz hear word  alway look excus citi  yup still coffe wif fren fren drove give lift  shore takin bu  u gon na get deu ex  send email mind lt gt time per night  tap spile seven pub ga st broad st canal ok  ok come n pick u engin  never want tell short late  raviyog peripher bhayandar east  k actual guy meet sunoco howard right way  moon come color dream star make music sm give warm peac sleep good night  finish eat got u plate leftov time  thanx lot  hurri home u big butt hang last caller u food done starv ask cook  lol right diet everyday cheat anyway meant fatti  great day beauti one  happen interview  badrith chennai sure pick us competit  tot group mate lucki havent repli wat time need leav  hey around got enough half ten owe  hey tmr mayb meet yck  alrit sam nic checkin ur  make easi pay back lt gt yr say pay back earlier get  worri sure get  ga station like block away hous drive right sinc armenia end swann take howard  tuition hm go 1120 1205 one mind  smoke peopl use smoke justifi ruin shit  dear good morn feel dear  littl med say take everi 8 hour 5 pain back took anoth hope die  beauti tomorrow never come alreadi hunt beauti tomorrow wast wonder goodmorn  dunno lei decid lor abt leona oop tot ben go n msg  hi move in2 pub would great 2 c u u cud come  ever easier  stop call everyon say might cancer throat hurt talk ca answer everyon call get one call babysit monday  tough  im gonnamissu much would say il send u postcard butther abouta much chanc merememberin asther ofsi breakin contract luv yaxx  ee msg na poortiyagi odalebeku hanumanji 7 name ee 7 name lt gt janarig ivatt kalisidar next saturday olag ondu good news keluviri maretar ind 1 dodda problum nalli siguviri idu matra lt gt neglet  hi darlin finish 3 u 1 2 pick meet text back number luv kate xxx  set place heart mind mind easili forget heart alway rememb wish happi valentin day  surpris still guess right lor  oki wan meet bishan co bishan drive today  hi darlin work u get troubl ijust talk mum morn realli good time last night im goin soon call u  know serv mean  huh hyde park mel ah opp got confus anyway tt e best choic den juz take  oh gei happend tron mayb ill dl 3d  know girl alway safe selfish know got thank good night  worri hope photo shoot went well spif fun workag  freez crave ice fml  kay sinc alreadi  eh sorri leh din c ur msg sad alreadi lar watch tv u still offic  yo im right yo work  ok darlin supos ok worri film stuff mate babysit call  wake sinc check stuff saw true avail space pl call embassi send mail  nope juz work  huh fast dat mean u havent finish paint  number u live 11  put parti 7 day week studi lightli think need draw custom checkbox know hardcor  sac score big set batsman  send yetti number pl  much cost approx per month  ok theori test go book think 21 may coz thought wan na go jiayin isnt free  fine give call know want question  sorri got late start way  u go back urself lor  ga station go  k u bore come  babe love face  like made throw smoke friend car one time awesom  still check da  go walmart stay  forgotten might coupl buck send tomorrow k love ya  oh great disturb talk  revers cheat mathemat  u welcom caught u use broken english  problem babi good time talk call left messag  oh brand  sorri cant take call right happen r 2waxsto wat want come ill get medic insur abl deliv basic care current shop right medic insur give til friday morn that see major person guid right insur  time come  call say come today ok tell fool like ok  email yifeng part get fr  r u sure understand wine good idea slurp  minimum walk 3mile day  ok problem get taxi c ing tomorrow tuesday tuesday think r go cinema  brainless babi vehicl sariyag drive madok  pleas attend phone  hate call didnt accept even singl call mine even messag  messag phone hold  free  yo trip got postpon still stock  wait call sir  hey repli  hey elain today meet still  sorri gone place tomorrow realli sorri  tiim let hug break tear  tomorrow go theatr come wherev u call tell come tomorrow  electr went fml  look like found someth smoke great job  also andro ice etc etc    good afternon love today hope good mayb interview wake miss babe passion kiss across sea  yup wun believ wat u realli neva c e msg sent shuhui  how watch resiz  dear umma call  finish miss plenti  well meant oppos drunken night  k must book huh go yoga basic sunday  ok  oop mum somerset bit far back tomo see soon x  u workin overtim nigpun  kalli dismissi 2nd test  guess got screwd  r u cook dinner  bull plan go float ikea without care world live mess anoth day  buy  heehe funni tho  simpl arithmet percentag  yeah would leav hour least 4 sound  thank honey great day  amaz quot life difficult decid what wrong lie bring smile truth bring tear  ask dad pick lar ìï wan 2 stay 6 meh  ju chillaxin  da cool iknow 2 wellda peril studentfinanci crisi spk 2 u  what come hill monster hope great day thing r go fine busi though  joy father john john joy father u an th hav lt gt iq ti ia question tri answer  ill obey  didnt search onlin let know  need go get  pic pleas  uhhhhrmm isnt tb test bad your sick  haf enuff space got like 4 mb  true easier  sure sinc parent work tuesday realli need cover stori  haha okay today weekend leh  darlin youphon im athom youwanna  know jack shit anyth someth help want pretend text whatev respons hypotheticalhuagauahahuagahyuhagga  alway braini one  yeah get random dude need chang info sheet parti lt gt never studi safe  christma occas celebr reflect ur valu desir affect amp tradit ideal christma  send greet joy happi gr8 even  darlin cantdo anythingtomorrow mypar aretak outfor meal u free  india win level seri mean record  plan  good hear  awesom deal gate charl told last night uh yeah  time thinkin goin  board work fine issu overh also reslov still softwar inst pend come around clock  ye care caus know  mon oki lor haha best cheap n gd food la ex oso oki depend whether wana eat western chines food den u prefer  sit ard noth lor u leh busi w work  lt gt k oh send home sale  sorri mail  ya tell abt tht  ye outsid like 2 hour call whole famili wake caus start 1  ugh got outta class  nowaday peopl notixiqu laxinorf opportun bambl entrop ever oblising opt ur book masteriast amplikat fidalf champlaxig think wotz ur opinion junna  need lar ju test e phone card dunno network gd thk wait 4 si 2 finish bath bath dun disturb u liao u clean ur room  right later  lunch come quickli open door  back bit long co accid a30 divert via brilliant weekend thank speak soon lot love  yan jiu liao sat go 4 bugi vill one frm 10 3 den hop parco 4 nb sun go cine frm 1030 2 den hop orc mrt 4 hip hop 4  seek ladi street freak sheet  phone  haha figur well found piec priscilla bowl  actual fuck whatev find excus tampa point januari though  yay final lol miss cinema trip last week  day work day except saturday  heart empti without mind empti without eye r empti without dream amp life empti without alwi touch good night amp sweet dream  think wait bu inform get ever get  get back time soon  thing quick question  probabl come everybodi done around lt gt right  got new year co yetund said want surpris didnt see money return mid januari lt gt day return period end  ask around lot term mid  sure check yahoo email sent photo yesterday  look  wherr boytoy  hello love goe day wish well fine babe hope find job prospect miss boytoy teas  tell bad charact u dnt lik tri chang lt gt add tat 2 new year resolut wait ur frank good morn  yeah probabl earlier  chang window logoff  also came room  huh got lesson 4 lei n thinkin go sch earlier n tot parkin kent vale  reach offic around lt decim gt amp mobil problem get voic call asa free  cool text head  happi birthday may u find ur princ charm soon n dun work hard  oh grand bit parti mention cover charg probabl first come first serv  said went back bed ca sleep anyth  hope arnt piss id would realli like see tomorrow love xxxxxxxxxxxxxx  say lt gt year old man money last lt gt still wait check  come ur home  free day finish 6 mon n thur  food  life all mone eppolum oru pole allalo  nite  two fundament cool life  camera quit good pixel 3optic 5digit doom love holiday safe hope hav good journey happi new year see coupl week  hi petey noiåõm ok want 2 chat coz avent spoken 2 u 4 long ur doin good nit js love ya  saw ron burgundi captain parti boat yeah  seriou money base  alreadi one guy love  staff placement train amrita colleg  alway chat fact need money rais  job profil seem like  well give co said one nighter persev found one cheap apologis advanc somewher sleep isnt  think actual talk call boss morn went place last year told could go get car fix cheaper kept tell today much hope would come back alway regret get number etc  will go app class  hang brother famili  reach 9 tell dont know  hey go quit soon xuhui work till end month  im sorri bout last nite wasnåõt ur fault spous pmt sumthin u 4give think u shldxxxx  tri neva mate  yeah pretti much best case scenario  free today haf 2 pick parent tonit  babe far 2 2 spk da mo dead 2 da wrld sleep da sofa day  send naughti pix  tyler get 8th leav long 9 get like hour  prepar pound everi night  actual mobil full msg work onlin need send lt gt sent msg wil explain u later  good even  home pleas call  oic co n si got lunch today dad went dunno whether 2 eat sch wat  mmmmm sooooo good wake word morn love mmmm fuck love lion kiss across  pleas inform applic airtel broadband process success instal happen within 3 day  happen dear silent tens  get 3 unless guy want come time sooner  cough noth  ìï come lt 25 n pass lar  e person e sm survey  lol ok ill tri send warn sprint dead slow prolli get tomorrow  thank meet monday  th gower mate r u man good wale ill b back åômorrow c u wk msg 4 åð random  got like lt gt get later though get whatev feel like  dad want talk apart got late start omw  love  lol u still feel sick  din tell u ju 420  eye philosophi  ok lor town lei  ask  da vijay go talk jaya tv  lol know hey someon great inperson flea forum love  still chanc search hard get tri  alway celebr ny famili  know taj mahal symbol love lesser known fact mumtaz shahjahan 4th wife 7 wife shahjahan kill mumtaz husband marri mumtaz die lt gt th deliveri marri mumtaz sister question aris hell love great  home vl nice meet v  sent de webadr gete salari slip  fine send greet  dint touch  yup leav right back soon  yeah sure leav min  one teach ship car  sign matur start say big actual start understand small thing nice bslvyl  yeah confirm stay weekend  said dun haf passport smth like juz send email  multipli number independ count decim point divis push decim place like show  love night wake see messag hope smile know great morn  ard 4 lor  right meanwhil project twin comin  sent maga money yesterday oh  ride equal unev mani peski cyclist around time night  free give otherwis nalla adi entey nattil kittum  sent wife text buy tell relax go get wkend  escap theatr go watch kavalan minut  much would cost hire hitman  anyth lor  huh cant go 2 ur hous empti hand right  good morn princess happi new year  aight head  wat r u busi wif work  know mood today  jay told alreadi  cp caus outag conserv energi  sure check happen around area  hey morn come ask pa  jordan got vote last nite  mean got epi fine  idea  pl come quick cant bare  call unabl cal let meet bhaskar deep  meet librari  k roommat also want dubsack anoth friend may also want plan bring extra tell know sure  depend individu lor e hair dresser say pretti parent say look gong u also dunno wat collect  ok c  enjoy watch play footbal basketbal anyth outdoor  pleas ask macho price rang want someth new use plu interfu blackberri bold lt gt bb  sorri sent blank msg yup tri 2 seriou studi  hey check da list da  meant apolog text get drug lt gt night  mean februari april get place stay hustl back forth audit season sinc sister move away harlem  goin workout lor muz lose e fat  damn poor zac stand chanc  want tel u one thing u mistak k messag sent  yeah right bring tape measur fri  head straight  thank princess sexi  oooh got plenti  hui xin da lib  big differ lt gt versu lt gt everi lt gt hr  make cri stuff happen top everyth els push edg underdtand often cri sorri sorri life  2 babe feel let 4get tri fit soo muchxxlov u  know hook mean right  wat da model num ur phone  realli skateboard despit fact get thrown wind bandag shit arm everi five minut  hous e sky quit dark liao rain got excus 2 run alreadi rite hee  sorri left phone upstair ok might hectic would bird one fell swoop date  thought see  carlo say pick later yeah set  hey babe friend cancel still visit  hmm ill think ok forgiven  hope get away 7 langport still town tonight  want send virtual hug need one  probabl still go stuff  issu right ill fix tomorrow  come peopl  senthil group compani apnt 5pm  oh realli make air talent  studi free next weekend  r u yet wear blue shirt n black pant  come lt gt min  reach ur home lt gt minut  well great weekend  langport sorri probabl bed 9pm suck ill xma go2sri lanka  frnd juz word mere relationship silent promis say forevr gudnyt  huh 6 also mani mistak  ha u ju ate honey ar sweet  turn phone mom tell everyon cancer sister wo stop call hurt talk ca put see u u get home love u  honey sweetheart darl sexi bun sugar plum loverboy miss boytoy go gym  thank love rock  yeah imma come caus jay want drug  ok thanx take care  yup thk u oso bore wat  came look flat seem ok 50 away alot wiv work got woman come  moji inform save live thank  who class  hey r still onlin finish format  great attract brotha  lol happen vega stay vega  hello hello hi lou sorri took long 2 left mobil friend lancast got bak neway im sorri couldnåõt make ur båõday 2 hun  use soc use home ìï dunno 2 type word ar  dad say hurri hell  wake lt gt morn  get class bsn like lt gt minut know advis  great shoot big load get readi  meet lobbi  still come tonight  happen dear tell  sir wait call free pleas call  text finish long time ago shower  ok im sure time finish tomorrow wan na spend even co would vewi vewi lubli love xxx  hello per request lt gt transfer  tirupur call da  catch put  noe specifi da domain nusstu ìï still sch  oh ask fun haha take care  shall get pouch  hey loverboy love tell look pictur ach feel leg fuck want need crave  boy sweet word left morn goe day love start studi  kent vale lor ìï wait 4 ar  good make money  read gud nan bari hudgi yorg pataistha ertini kano  aight still want get money  town import  sorri pa dont knw ru pa  wat u  meet rite go home lor dun feel like comin ok  oh get paid outstand one commerci hasbro august made us jump mani hoop get paid still  late call tomorrow care sweet dream ummifi bye  network technic support associ  gon na rip uteru  cool like swim pool jacuzzi hous  yeah gang readi  blank blank wat blank lol  movi collect car oredi  left alreadi orchard  noth abt u whr ru  chikku nt ya free  aldrin rakhesh ex rtm  search 4 happi 1 main sourc unhappi accept life way come u find happi everi moment u live  guess could good excus lol  frnd neces life imagin urself witout hw u feel ur colleg wat u wth ur cell wat abt function thnk abt event esp care miss amp irrit u 4wrd frnd wthout u cant jst goodmorn  old orchard near univ  4 taco 1 raja burrito right  get ok  how street end librari walk  plz note anyon call mobil amp ask u type lt gt lt gt disconnect call coz iz attempt make use sim card itz confirmd nokia n motorola n verifi cnn ibn  stop get ice cream go back  stitch trouser  hey bore think u wat r u  nah wednesday bring mini cheeto bag  nobodi name peni girl name stori add  aight let know gon na around usf  lip sync shangela  ìï neva tell noe home da aft wat  bit ur smile hppnss drop ur tear sorrow part ur heart life heart like mine wil care u forevr goodfriend  buzz hey love think hope day goe well sleep miss babe long moment togeth  haha sound crazi dunno tahan anot  u earli  ya one slow poo  gloucesterroad uup later  lol ouch wish stay bit longer  god ask forgiv littl child gave love repli  join lt gt bu  ask keep one mayb get messag sent glo  send lt gt min  would smoke help us work difficult time  lookin strong  sir goodmorn free call  call  love girl offic may wonder smile sore  hi wlcome back wonder got eaten lion someth noth much  uncl timi help clear car  came hostel go sleep plz call class hrishi  ok bag  ok lor msg b4 u call  fishrman woke earli mrng dark wait amp found sack ful stone strtd throwin thm in2 sea 2 pass time atlast ju 1stone sun rose amp found tht r nt stone diamond moral wake earli mrng good night  ur physic get  dear friend sorri late inform today birthday love detail log face book see number lt gt dont miss delici treat  r go send  onlin transact  dear got train seat mine lower seat  let know need anyth els salad desert someth mani beer shall get  whore unbeliev  sure mean  love know feel make belli warm wish love shall meet dream ahmad  love want flood pretti pussi cum  hey angri repli dr  short cute good person  also rememb bead come ever  thread wishlist section forum ppl post nitro request start last page collect bottom  first time histori sold price lt gt lt gt lt gt shesil lt gt  actual nvm got hella cash still lt gt ish  ok least armand still around  da happi sit togeth na  yup song bro creativ neva test qualiti said check review onlin  dude frnd got money tht reffer u member wit mail link u vl credit lt gt rs il geti lt gt draw acc wen lt gt  dude makin weirdi browni sister made awesom cooki took pic  pl dont restrict eat anythin like next two day  mm ask come enough  funer home audrey dad  aight text address  excel wish togeth right  yep fine ice age  pl wont beliv jesu  dunno wat get 4  yet wat abt tht guy stop irrit msging  long take get  number  sorri brah finish last exam  got arrest possess shit lt time gt pm  right though ca give space want need realli start becom issu go suggest set definit move still greec mayb readi  normal  pleas protect sib never ask sensit inform like password pin thru email never share password anybodi  miss much despar record messag left day listen hear sound voic love  hi alway onlin yahoo would like chat someday  goodmorn grandfath leav today  yuou work get pc mom find spot would work need  sure see come bit  agre stop thinkin ipad pleas ask macho question  let pool money togeth buy bunch lotto ticket win get lt gt u get lt gt deal  watch tv lor nice one like lor  think chennai forgot come  come n pick 530 ar  earli bird purchas yet  went pay rent go bank authoris payment  erm ill pick give enough time get park  hey mate how u honey u ave good holiday gimmi de goss x  howz come said medicin  chile pleas lt decim gt hour drive come time sublet audit season  ye amma take lot turn sit tri hold steer  yeah thought lem know anyth goin later  mmmm cant wait lick  pl go today lt gt dont want excus  plz tell an bslvyl sent via  u town alon  look forward sex two sleep  rounder requir  u knw di lt gt  dont worri 1 day big lambu ji vl enjoy batchlor parti  oh ya got hip hop open haha think go jazz zoom cine actual tonight free leh kb lesson tonight  part tomorrow  found diff farm shop buy chees way back call  r u still work  yep like pink furnitur tho  custom place wil cal u sir  pure heart person wonder smile make even enemi feel guilti catch world goodmorn amp smiley  thatåõ alrit girl u know gail neva wrong take care sweet donåõt u l8tr hun love yaxxx  theoret yeah could abl come  alright hook guy  know peopl still town  let math good  oh ok wait 4 lect havent finish  yeah usual guy town definit peopl around know  join today keep talk later  happi sad one thing past good morn  multimedia messag  oki scare u say fat u dun wan alreadi  u get messag  sorri sir call tomorrow  need person give na  left vagu said would inform person account delay rent discuss hous agenc rent anoth place check onlin place around usc lt gt  hi juan im come home fri hey cours expect welcom parti lot present ill phone u get back load love nicki x x x x x x x x x  gumbi special lt gt chees pizza 2 know doin tonight  like person size  great aunt anniversari parti tarpon spring  cab pick drop door step  ok  unlimit text limit minut  problem spend lot qualiti time togeth  heard week  ye last practic  thank wonder  ìï mean confirm tot juz say oni ok  depend would like treat  right brah see later  wait e car 4 mum lor u leh reach home alreadi  went fast asleep care  mean fat head  sound like plan cardiff still still cold sit radiat  seriou like proper tongu  good wonder wont say hi smile cope long distanc  noe da car later c lar wear short  yeah whatev lol  ard 530 lor ok messag lor  c u  eh ur laptop got stock lei say mon muz come take look c got  need ke qi ìï bore izzit suddenli thk  wish think gon na snow much flurri usual get melt hit ground eek snow sinc lt gt even born  oh realli perform write paper go movi home midnight huh  okay lor still let us go ah coz know later drop card box right  izzit still rain  enough troubl sleep  havent add yet  lol realli need rememb eat drink appreci keep compani night babe  babe lost tri reboot  ye nigh cant aha  thk got ta go home urself co b go shop 4 fren present  nooooooo gon na bore death day cabl internet outag  so amount get pl  playin space poker u  come guoyang go n tell u told  need get  r give second chanc rahul dengra  yeah fact ask need anyth like hour ago much  first strike red one bird antelop begin toplay fieldof selfindepend believ flower content  wan go c doctor  daddi bb  borderlin yeah whatev  545 lor ya go 4 dinner togeth  gentl princess make sweet gentl love  u doin babi girl hope u okay everi time call ure phone miss u get touch  sorri went bed earli nightnight  like think alway possibl pub later  hmm yeah groov im look forward pound special  got video tape pple type messag lor u free wan 2 help hee co noe u wan 2 watch infern affair ask u along ask shuhui oso  hi dude hw r u da reali mise u today  hungri buy food good lei mum n yun dun wan juz buy littl bit  probabl wo eat today think gon na pop weekend u miss  knew u slept v late yest wake late  haha dont angri take practic real thing  one day train  could kiss feel next  nice day dear  sent lanr fakey eckankar detail mail box  dad back ph  ask say pleas messag  e time go w u lor  callin say hi take care bruv  u turn heater heater set lt gt degre  thank messag realli appreci sacrific sure process direct pay find way back test tomorrow class wonder day  troubl class go well due dodgey one expect mine tomo see recoveri time place  wot u 2 j  night night see tomorrow  roger probabl go rem 20  u think girl propos u today se ur bloodi funki shit fuck face asssssholeee  wish u feel alon  reason team budget avail last buy unsold player base  ceri u rebel sweet dreamz littl buddi c ya 2moro need bloke  huh cant thk oredi mani page  fren go lor alon wif mum n si lor  nationwid auto centr someth like newport road like  hey miss tm last night phone charg meet friend shortli  whatev juliana whatev want  hello sort town alreadi dont rush home eat nacho let know eta  ok lor anyway thk cant get ticket co like quit late alreadi u wan 2 go look 4 ur fren darren wif  dizzamn aight ask suitem get back  nimbomson yep phone know one obvious co that real word  love cuddl want hold strong arm right  r u contin  pay like lt gt yr difficult  k k give treat  gon na worri noth wo give money use  get gift year didnt get anyth bad  well pattern emerg friend tell drive come smoke tell weed smoke thing see hesit  ow u paid told u would call  im fine babe aint 2 much tho saw scari movi yest quit funni want 2mrw afternoon town mall sumthin xx  reach home 5 min  forgot work today wan na chat thing ok drop text free bore etc ring hope well nose essay xx  ha must walk everywher take tram cousin said walk vic market hotel  discuss mother ah  sorri ca text amp drive coher see twenti  place get room cheap  eek lot time especi sinc american pie like 8 minut long ca stop sing  onlyfound afew day  univers southern california  pick rayan macleran  u gd lor go shop got stuff u wan 2 watch infern affair come lar  well ball time make call  wat time wan today  lt gt mca conform  oh wat ur email  ye princess go make moan  lol ok rememb til last nite  anyway mani good even u  cool text  sorri vikki watch olav mandara movi kano trishul theatr wit  happi babe woo hoo parti dude  take italian food pretti dress panti  wot u 2 thout u gon na call txt bak luv k  hold  dont flatter tell man mine two pint carlin ten minut pleas  hope scare  home n readi  time u get  liter bed like lt gt hour  ye reg ciao  mean websit ye  lol could starv lose pound end day  yeah impress got  ok ok take care understand  motiv behind everi dark shine light wait find behind everi best friend alway trust love bslvyl  ya ok dinner  slept  dont make ne plan nxt wknd coz want us come ok  school start stay weather like food social support system like friend school thing import  ha ha nan yalrigu kothi chikku u share mani thing wit far told bodi even utter word abt ur trust much tell plz nxt time dont use word chikku  noic text  hi di yiju meet 7 pm esaplanad tonight  aight set free think could text blake address occur quit sure thought  hi dear saw dear happi batteri low  age abj  prof pass paper sem congrat student enna prof gud mrng  dont kick coco  fyi gon na call sporad start like lt gt bc doin shit  hope youåõr much fun without see u tomorrow love jess x  ok wont call disturb one know avoid burden  reach home n bath liao u call  actual exam harder nbme  lot sick thing go round take easi hope u feel better soon lol  hey sathya till dint meet even singl time saw situat sathya  gam gone outstand inning  play smash bro lt gt religi  sir good morn hope good weekend call let know abl rais lt gt dad howev said would make rest avail mid amount still quit short hope would help good day abiola  hurri home soup done  good afternoon love good see word ym get tm smart move slave drink coffe await  quit ok bit ex u better go eat smth els feel guilti  lem know  need stop go bed make fuck deal  love brother time talk english say hey muhommad penni say hello across sea  hey doc pl want get nice shirt hubbi nice fite one budget lt gt k help pl load card abi hw keep post luv 2 mj  remain unconvinc elabor test willpow  noth wen v get life everyth wen v miss someth real valu peopl wil realiz absenc gud mrng  miss  ai answerin phone actual pretti reason hour sleepi  hey rite u put åè10 evey mnth  go bed prin  think see tomo  u dun drive go 2 sch  home lei  u hav frnd name ashwini ur colleg  ju finish lunch way home lor tot u dun wan 2 stay sch today  k 2marrow come class  pl send address sir  want lick pussi  yo gon na still stock tri get dubsack  see prolli yeah  thought could go dinner treat seem ok  stand away heart ach without wonder crave  sorri never hear unless book one kinda joke thet realli look skinni white girl one line much camera someth like cast look  sure thing big man hockey elect 6 go longer hour though  watch lor saw swatch one thk quit ard 116 need 2nd opinion leh  hiya u like hlday pic look horribl took mo how camp amrca thing speak soon serena  babe goe day miss alreadi love love hope everyth goe well  yunni goin late  doc prescrib morphin caus pain med enough wait mom bring med kick fast gon na tri later  cool want go kappa meet outsid mu  hey sexi bun told ador loverboy hope rememb thank sister law meatbal love babe  may b approv panalam  workin get job  done mean  ur luck love someon ur fortun love one love  hi babi ive got back work want see u allday hope didnt piss u phone today u give call xxx  yahoo boy bring perf legal  need say anyth know outsid  ever one foot  got lt gt  good need done ye pleas tell number could ring  leav wif lar ìï wan carri meh heavi da num 98321561 familiar  beauti truth express face could seen everyon depress heart could understood love gud ni8  infact happi new year see  shame mayb cld meet hr tomo  lol would despit cramp like girl  canåõt wait cornwal hope tonight isnåõt bad well itåõ rock night shite anyway iåõm go kip good night speak soon  pl help tell sura expect batteri hont pl send messag download movi thank  found way get anoth app phone eh go net cafe take job geeee need babe crave see  work mon thur sat cant leh book liao day u free  ìï comin fetch us oredi  nanni address  haf u eaten wat time u wan 2 come  yo call get chanc friend mine want ask big order  singl singl answer fight plu said broke didnt repli  certainli put thing perspect someth like happen  got tv 2 watch meh u work today  felt convey ese  go got excit karaok type activ plan debat whether play footbal eve feel lazi though  told come wednesday  ok call mom instead fun  well desper call armand  work right  heard anyth answer text guess flake said jb fantast  mmmmmm love much ahmad ca wait year begin everi second take closer side happi new year love  pl full name joke school co fee univers florida seem actual lt gt pl holla back  ok said got wisdom teeth hidden insid n mayb need 2 remov  pl pl drink plenti plenti water  queen go royal wed  lag sad part keep touch thank skype  ok lor go tog lor  two team wait player  send copi da report  swhrt u dey hope ur ok tot u n care  ok da alreadi plan wil pick  realli need shit tomorrow know wo awak like 6  good regist vote  hmm ok stay like hour co eye realli sore  dear got bu directli calicut  mm umma ask vava also come tell play later togeth  well gener price lt gt let know much want  moment day bring hope afternoon bring faith even bring luv night bring rest wish u find morn  lt gt w jetton ave forgot  ok come home  use foreign stamp countri  sorri lot stuff talk actual guy want buy  wyli updat weed dealer carlo went freedom class lunsford  happi babi alright take job hope fine send kiss make smile across sea  c movi juz last minut decis mah juz watch 2 lar tot interest  enjoy semest take care brother  get door  let use next week princess  go home first lar wait 4 put stuff  want kfc tuesday buy 2 meal gravi 2 mark 2  da stupid send like believ mental  oi gon na ring  attend noth  ard 530 like dat lor juz meet mrt station dun haf come  dear sleep  er mw im fill tuth aight  offic around 4 pm go hospit  actual wait 2 week start put ad  anyth lor go go lor  u free sat rite u wan 2 watch infern affair wif n darren n mayb xy  yo around friend mine lookin pick later tonight  stupid auto correct phone  doubl evict week spiral michael good riddanc  world suffer lot violenc bad peopl silenc good peopl  ok that cool either raglan rd edward rd behind cricket ground gim ring ur closebi see tuesday  buy one egg  start skye  bookedth hut also time way  sever sir  u realli pig leh sleep much dad wake 10 smth 2 eat lunch today  love hope anyth drastic dare sell pc phone  life style garment account pleas  lol wtf random btw lunch break  sez how u de arab boy hope u r good give love 2 evry1 love ya eshxxxxxxxxxxx  lay man let know miss thought great day send bimbo ugo number ill appreci safe  detroit home snow enjoy  aight chillin friend room text way  toshiba porteg m100 gd  well welp sort semiobscur internet thing  loosu go hospit de dont let careless  much eighth  omg joanna freak look thru friend find photo ask stuff myspac even log like year  send ur birthdat month year tel u ur life partner name method calcul repli must  juz havent woke bit blur blur dad went liao cant cum oso  cloth jewelri trip  aah cuddl would lush need lot tea soup kind fumbl  plan famili set stone  pl dont forget studi  never believ actual got taunton wow  den weekday got special price haiz cant eat liao cut nail oso muz wait finish drivin wat lunch still muz eat wat  broke list reason nobodi town ca tell sarcast faggi  lt decim gt common car better buy china asia find less expens holla  greatest test courag earth bear defeat without lose heart tc  sorri im stil fuck last nite went tobe 430 got 4 work 630  hey what plan sat  beauti sleep help ur pimpl  great hope use connect mode men also co never know old friend lead today  get  kind miss train co asthma attack nxt one half hr drive sure park  ball move spin last difficult bat  haiyoh mayb hamster jealou million  pleas send aunti number  glad follow dream  reach home final  wn u r hurt prsn close 2 u fight wit dem coz somtim di fight save relat bt quiet leav nothin gud  u call  scienc tell chocol melt sunlight pleas walk sunlight bcoz want loss sweet friend  ye come nyc audiit tri reloc  pock  congrat great want tell tell score co might make relax motiv thank share  wud never mind u dont miss u dont need u wil realli hurt wen u need amp u dont tell take care  hey mr what name bill brison book one languag word  okay good problem thanx  inform ikea spell cap yell thought left sit bed among mess came said go got home class pleas tri bullshit make want listen less  call u done    best watch say caus get drunk motherfuck  erm woodland avenu somewher get parish magazin telephon number  ta job avail let know pleas co realli need start work  aiyar hard 2 type u later free tell call n scold n tell u  yup free  good good billi mate gone jog enjoy concert  yo come carlo soon  awww dat sweet think someth nice time tonight ill probabl txt u later co im lone xxx  guess useless call u 4 someth import  ha ha pop loo hello  dint tell anyth angri told abi  happen r 2waxsto wat want come ill get medic insur abl deliv basic care current shop right medic insur give til friday morn that see major person guid right insur  keep ten rs shelf buy two egg  well babe swollen gland throat end  ur chang 2 da report big co alreadi made chang 2 da previou report  captain room  ca speak bcaz mobil problem listen listen voic call later  hiya stu wot u much trubl home moment evon hate even u wot hell av done wont u tell text bck pleas luv dan  take mokka player  still play gautham  hey mr go sea view coupl gay mean game give bell ya finish  k jason say gon na around around lt gt  sorri abl get see morn  aight well keep inform  search good dual sim mobil pa  seem unnecessarili hostil  dude got haircut breezi  doctor 1tulsi cancer fat 1cup bone problm 3 litr diseas snd th 2 u  thought king hill thing  nope come onlin  also tell said happi birthday  bishan lei tot say lavend  boo time u get u suppos take shop today  u sound like manki scous boy steve like travel da bu u inmind 4 recreat di eve  fyi take quick shower epsilon like lt gt min  tuesday night r u 4 real  ye appt  got outta class gon na go gym  want sent lt gt mesag today that sorri hurt  ìï write  ha would say read anyth way u seem like 2 judgement save friday pub  valentin game send di msg ur friend 5 answer r someon realli love colour suit best  hi ask waheeda fathima leav  enjoy urself tmr  still around could use  give us back id proof lt gt rs wont allow work come home within day  ìï bot note oredi co juz rem got  ye rent expens way save  how pain dear r u smile  fun fact although would think armand would eventu build toler shit consid much smoke get fuck like 2 hit  great send account number  hellogorg how u fone charg lst nitw wen u texd hopeu ad nice wkend im sure u lookin 4ward 2 u 2mrw luv jaz  ìï send content page  night sweet sleep well see exorc emili rose may never sleep hug snog  think u think use good ni8  ca right second got ta hit peopl first  evri emot ds hav wish ds hav u smile world wit even drop tear ds lik 2 stay wit b good morn keep smile  rememb  ujhhhhhhh comput ship address sandiago parantella lane wtf poop  mm ye dear look hug  like di sweater fr mango size alreadi irrit  1 number 2 gon na massiv pain ass rather get involv possibl  anytim lor  fine  k sure consent form v  much torch 9ja  noth u dinner w us  check  done internet connect v slow send tri later first thing tomo  mathew tait edward anderson  yeah sure thing mate haunt got stuff sort im go sound anyway promot hex way dont know number joke  need lar go engin co si art today  thank honey still heard anyth leav bit longer 2 crowd tri later great advic thank hope cardiff still  im snowboard trip wonder plan get everyon togeth befor meet greet kind affair cheer  watch  see christmassi  k readi lt gt  new year plan  baaaaaaaab wake miss crave need  got messag ignor ye shop  dear mood cant drive brother drive  dad get back  tell shola pleas go colleg medicin visit academ depart tell academ secretari current situat ask transfer ask someon check sagamu thing lautech vital complet medic educ nigeria less expens much less expens unless get citizen rate new zealand  ye finish watch day live love  juz go googl n search 4 qet  mani time lose best one bcoz  good friend care close friend understand true friend stay forev beyond word beyond time gud ni8  get back home  sorri call later lt gt min  dun need use dial juz open da browser n surf  awesom plan get time like lt gt text detail wee bit  take care sleep need learn chang need get convinc wait convers convinc famili mani u role life  also didnt get na hi hi hi hi hi  ya cant display intern sub got ta extract  said anyth wrong sorri de  stupid say challeng dont think write instead respond im  yeah abl text readi meet  v skint fanci gona go meet othr spoon jst bin watchng planet earth sofa v comfey dont make hav gd night  say quit least5tim day wud take much notic nah mind gon na see want come taunton tonight u tell  get free call  littl darl far week need coffe run tomo ca believ time week alreadi  still west coast haiz ìï take forev come back  mmm fuck merri christma  alright thank advic enjoy night tri get sleep  updat face book statu frequent  saw k da  someth u ate  bank say money  aiyar dun disturb u liao thk u lot 2 aft ur cupboard come  hey r watch movi tonight prob b home earli  yar lor u noe u use dat rout  2mro come gym machan goodnight  dont think need yellow card uk travel ask someon gone lt gt buck  u look 4 da lib got stuff havent finish yet  sound great im go sleep good night  come u got noth  noth ever easi look reason take risk life love  want grasp pretti booti  got tea sure flavour  go 2 orchard lareadi reach soon u reach  dear deni word pleas  know old dom told yesterday name roger got touch last night want meet today 2 pm  come back tampa ffffuuuuuuu  2 celebr båõday els  merri christma u anni  pleas tell special stock talk  sent like  awesom minut  problem walk around oblivi go around say thing constantli go one ear go whatev want know upset listen tell go upset want surpris mad  told everyth stop dont let get dehydr  guess lt gt min  home ard wat time u reach  want mapquest someth look dogwood  aight plan come later tonight  die accident delet e msg suppos 2 put e sim archiv haiz sad  wish great day moji told offer alway speechless offer easili go great length behalf stun exam next friday keep touch sorri  thank repli today ur visa come r u still buy gucci bag sister thing easi uncl john also bill realli need think make money later sha  sorri flake last night shit serious goin roommat tonight  said look pretti wif long hair wat thk cut quit short 4 leh  callin culdnt talkbut wannatel u detail later wenwecan chat properli  hey u still gym  much better thank lol  noth smsing u n xy lor sorri lor da guy neva c u person sort know u lor u wan 2 meet xy ask 2 bring u along 4 next meet  lem know swing pick free basic time 1 semest  wa u effici gee thanx  abl sleep  meet soon princess ttyl  pick go taunton still want come  oh 4 outsid player allow play know  anyth lor  erutupalam thandiyachu  cant u tri new invent  ful song  u reckon need 2 arrang transport u ca thank  true lov n care wil nevr go unrecogn though somon often make mistak valu definitli undrstnd start miss  shop eh ger toke abt syd leh haha  stand  good weekend  miss call miss call khelat kintu opponent miss call dhort lage that rule one great phone receiv qualiti win  call get chanc plz lt 3  new deu ex game comin earli next yr  comput fri essenti part keep spare fuck idiot roommat looovvv leav thing run full lt gt  friend studi warwick plan go shop concert tmw may cancel hav seen age yeah get togeth sometim  probabl coupl hour top  lol babe thank think  man bu slow think gon na get  hope text meet smile let text give reason smile beauti day  case wake wonder forgot take care someth grandma today done parad  nvm take ur time  wat da decis  wot u 2 bitch  told hr want post chennai work  guy leav  neva grumbl sad lor hee buy tmr lor aft lunch still meetin 4 lunch tmr neva hear fr lei ìï got lot work ar  abl anyth  ìï takin linear algebra today  weekend fine excus much decor  sorri miss babe late slept hope enjoy drive lesson boytoy miss  project come  sure whenev show fuck gt  random saw old roomat campu graduat  men alway need beauti intellig care love adjust cooper wife law allow one wife  suck got plan yo valentin yo valentin  got part nottingham 3 hr 63mile good thing love man much 40mph hey ho  think one say clearli ok leav need ask go come  hi good thanku wish u  u want 2 meet 2morro  actual decid hungri left yet v  sent  co shop wif darren ju n call 2 ask wat present wan lor start guess wif n final guess darren lor  understand loss gain work school  u miss u havent 2 much bit bore holiday want 2 go bak 2 colleg sad isnt xx  hiya probabl come home weekend next  forget though love walk besid watch keep heart warm  wish thing differ wonder abl show much valu pl continu brisk walk drug without askin pleas find thing laugh love dearli  ok day make dinner tonit invit  money 4 steve mate  im late tellmiss im way  normal use drink water daili  dare ask luck sort car  parti place usf charg contribut way greatli appreci yeah got room one  urgh coach hot smell chip fat thank especi duvet predict text word  hiya last night naughti bought cloth littl readi shop tho kind time wan na meet  tri reach without success  derek done class  never lei v lazi got wat dat day send da url cant work one  never tri alon take weight tear come ur heart fall ur eye alway rememb stupid friend share bslvyl  hey mate spoke mag peopl deliv end month deliv 24th talk later  haha friend tyler liter ask could get dubsack  u fanci meetin 4 cha åð hav lil beverag txt ring meet l8r quit tire got 3 love pete x x  great safe trip dont panic surrend  u love like listen song get stop u see name belov wo get angri  sun ah thk mayb dun anythin thk book e lesson e pilat orchard mrt u noe hor  tri someth dear read someth exam  gettin rdi ship comp  hospit da return home even  piss talk someon realis u point read backward  think da wil  awak oh  good afternoon boytoy goe walk day get polic abstract still wake miss babe  much u tri get  come around lt decim gt pm otsid nw il come tht time  tell address  buy blackberri bold 2 torch buy new use let know plu say buy lt gt g wifi ipad say lt gt g  togeth thinkin  hiya how go sunni africa hope u r avin good time give big old silver back big kiss  time come tomorrow  quiteamuz thatåõscool babe  omg u know ate    directli behind abt 4 row behind  plan yet  hi engag fixd lt gt th next month know realli shock bt njan vilikkam ws al sudn  cours math one day one chapter one month finish  wow think common take back ur freak unless u chop  noooooooo pleas last thing need stress life fair  see swing bit got thing take care firsg  want wish happi new year want talk legal advic gari split person make trip ptbo hope everyth good babe love ya  finish work yet someth  right wasnt phone someon number like  ok wun b angri msg u aft come home tonight  good time nice someth bit differ weekend chang see ya soon  yo sorri shower sup  carlo pick swing usf littl bit  full heat pa appli oil pa  stuck da middl da row da right hand side da lt  laid airtel line rest  hi u decid wot 2 get 4 bday ill prob ju get voucher frm virgin sumf  j r u feel better  plan stay night prolli wo back til late  thanx 4 puttin da fone  need 8th campu atm could pick hour two  oh haha den shld went today gee nvm la kaiez dun mind goin jazz oso scare hiphop open cant catch  run manag 5 minut need oxygen might resort roller option  live next lt gt min  de ask like  glad talk  wat time finish  sorri da gone mad mani pend work  much got clean  how favourit person today r u workin hard could sleep last nite nearli rang u  ìï call dad oredi  good think could send pix would love see top bottom  nvm go wear sport shoe anyway go late leh  sorri call later meet  long fuckin showr  receiv understood n act upon  final came fix ceil  u need presnt alway bcz u cant mi love irulina neekunna prakasamanu prakasam ennal prabha mn prabha got dont mi  ju finish blow hair u finish dinner alreadi  bu love  lol knew saw dollar store  saturday sunday holiday difficult  everybodi fun even miss  got hella ga money want go grand natur adventur galileo littl bit  oh wow that gay firmwar updat help  wo move morphin  come din c yup cut hair  k k pa lunch aha  captain vijaykanth comedi captain drunken  cours guess god got hold right  hide anythi keep distanc  havent  sorri din lock keypad  plan come chennai  god creat gap btwn ur finger dat sum1 vri special fill gap hold ur plz dont ask creat much gap leg  okay go sleep later  final aftr beer cheaper petrol gover expect us drive  r e meet tmr  lol ye add spice day  prasanth ettan mother pass away last night pray famili  k work someth  messag great doctor india 1 drink appi fizz contain cancer caus age  call tell infront call  ok prob  ladi first genu second k  ye pleas swim  mum go robinson alreadi  ok set let u noe e detail later  softwar  send print out da  im reali soz imat mum 2nite 2moro  born god said anoth born  didnt get ur full miss send  probabl almost ga get cash tomorrow  forgot 2 ask card da present lei ìï want 2 write smth sign  leav hous  ìï readi call  wewa iriv 128 mb  good thing get connect bw  sri nw came  cool night lem know around  stay town  haha yeah 2 oz kind shitload  ok u take shop u get paid  alright bring see like lt gt min  pl dont play other life  eatin lunch  give one  tri g decid head  ok prob  surli ill give come review  march end readi call sure problem capit never complet far work ladi  pl give food prefer pap slowli load sugar take hour give water slowli  guy get use dumb realiz  okey dokey bit sort stuff  ye fine  like new mobil  anytim  mmmmmmm content fuck love much bare stand  yar say got error  hey anyway  wow healthi old airport rd lor cant thk anyth els b bath dog later  wif famili book tour packag  say bold torch later one torch 2bold  haha awesom might need take doin tonight  ya knw u vl ok thank enjoy wit ur famili wit 1st  huh slow tot u reach long ago liao u 2 day 4 leh  that cool princess cover face hot sticki cum  big realli scrape barrel shower social misfit  oop thk dun haf enuff go check tell  8 min go lunch  hey happen u switch ur cell whole day isnt good u care give call tomorrow  k addi amp art get home  aiyo lesson earli still sleepin haha oki u go home liao den confirm w lor  forgot tell like number section  yup anyth lor u dun wan ok  home love still awak  hello peach cake tast lush  minor shindig place later tonight interest  jason say cool pick place like hour  career tel ad u contact send free sm remov phonebook sm lt gt  reach alreadi  dont know ask brother noth problem thing told  k eng rock ash  wat time r go xin hostel  good morn dear shijutta great amp success day  oh k placement ah  possess especi first offens  nt drive even mani reason call chikku hw abt dvg tht vinobanagar violenc hw hw ru problem  bought test yesterday someth let know exact day u get 2u 2 3wk pl pl dont fret know u r worri pl relax also anyth ur past histori u need tell  pizza u want  keep see weird shit bein realis actual reason  mani happi return day wish happi birthday  u  orh tot u say still dun believ  put sign choos number pin show right  beauti life next hide thousand secret wish everi second wonder ur life gud n8  thanx u darlin im cool thanx bday drink 2 nite 2morrow take care c u  still mayb leav credit card get ga get back like told  well boy glad g wast night applebe noth  ok lor u wan go look 4 u  u wan 2 haf lunch da canteen  make life alway find time may add year life sure add life ur year gud  hey look like wrong one kappa guy number still phone want text see around  home doc gave pain med say everyth fine  140 ard ìä rest ard 180 least price 4 2 bedrm 900  love night xxx  prepar pleasur  hi technic assist us custom call email  text way cup stop work bu  when radio show  sure still avail though  watev relat u built di world thing remain atlast iz lonlin lotz n lot memori  cheer lou yeah goodnit shame u neva came c ya gailxx  got money da  ok u tell wat time u come later lor  u repeat e instruct wat e road name ur hous  quit lor dun tell wait get complac  sorri complet forgot pop em round week still  u r beauti girl ive ever seen u r babi come c common room  cant see join deni mina deni want alon time  sen told go join uncl financ cbe  yup hey one day fri ask miwa jiayin take leav go karaok  call senthil hsbc  especi sinc talk boston person statement lol woulda chang realiz said nyc say boston  inde way either  holi live christ take long  ìï thk wat eat tonight  thanx yup come back sun finish dinner go back 2 hotel time fli tog 4 exactli mth today hope haf mani mth come  opposit side drop  yup izzit still rain heavili co e mrt ca c outsid  send resum  gd luck 4 ur exam  u ask next sat make ok lor  sorri uncl keep touch  saw guy doll last night patrick swayz great  come home want u miser  dont know get messag  cool tyler take gon na buy drop place later tonight total order quarter got enough  guy car shop flirt got phone number paperwork call text nervou cours may address call boss tell know may get fire  plan manag  er hello thing quit go plan limp slowli home follow aa exhaust hang  sorri delay ye master  call u finish come n pick u  oga left phone home saw ur messag hope good great weekend  worri though understand import put place poorli thought punish face worst thing ever happen brb gon na go kill  honey pl find much sell predict nigeria mani time use import repli monday  e admin build might b slightli earlier call u reach  fyi usf swing room whenev  call lt gt min that ok  ìï home work meh  anyth valuabl 2 situat get loos  mark take forev pick prescript pain come back  ur paper  got smaller capac one quit ex  im good think    thought bout drink tap spile seven pub ga st broad st canal ok  go sleep tire travel  haha thinkin  yup give problem mayb ju leav  lol tri make day littl interest  long get repli defer admiss til next semest  word chess come persian phrase shah mean king good  po de need job aha  rat hey u ever vote next theme  hope pee burn tonit  oh rite well im best mate pete went 4 2geva longer week  yay ca wait parti togeth  make comput shut  boy made fun today ok problem sent one messag fun  one issu california okay snow manag  hmmm mayb tri e shoppin area one forgot e name hotel  awesom gon na soon later tonight  need detail onlin job  miss inshah allah  pl help tell ashley cant find number oh  increas chanc win  either way work lt gt year old hope doesnt bother  mayb find someth els instead  gain right demand tri husband see  like new hous  fine hope also  also north carolina texa atm would go gre site pay test result sent  u  ye babi need stretch open pussi  thank bomb date phone want say  hey guy know breath neck get bud anyway abl get half track usf tonight  one power weapon 2 occupi place other  nokia phone  sorri wont come drive  realli sorri lit hair fire  oh shit thought trip loooooool make much sens sofa refer link sent went trip oh babe go celebr rent  okey dokey swashbuckl stuff oh  tension face smile face wast face innoc face face face face face face lt gt face  dip cell dead come u better respond els shall come back  well know mean text  hi di yiju would happi work wif gek1510  lol oop sorri fun  wat happen cruis thing  know dat feelin pete wuld get em nuther place nuther time mayb  world happiest frnd never charact dey best understand differ  yeah open chat click friend list make list easi pie  alright tyler got minor crisi home sooner thought asap  pick  usual u call ard 10 smth  mani thing antibiot use chest abdomen gyna infect even bone infect  poor girl ca go one day lmao  6time  pl make note expos also find school anyon els vomit dog cat hous let know later  sound like could lot time spent chastiti devic boy take beat like good dog go loung nice long bath  wors use half way stop better complet  miser tell u side effect birth control massiv gut wrench cramp first 2 month sleep last night  send new number  2 half year miss friendship  oh fuck sake like tallahasse  haha first person gon na ask  taka lor wat time u wan 2 come n look 4 us  reach anoth 2  mean post wrote like mani time ritten stuff let sit feel time angri left hit send stop check phone got car said sleep bore would time clean fold laundri least make bed  come onlin today night  anyth special  solihul want anyth  good day  regret inform u nh made never actual report 2 yor local hospit 2b r sorri 4 inconveni  love holiday monday feel even go dentist hour  way tirupur  alreadi got flaki parent suppos child job support parent ride age anyway suppos support hurt unintent hurt nonetheless  took hooch walk toaday fell splat graze knee everyth stay home see tomorrow  drop em omw back  sit mu wait everyon get suit take shower  call see facebook huh  g say never answer text  common hearin r u wat r u ur day let ask u someth differ u smile today gud evng  oh yah never cancel leh haha  go 4 e normal pilat intro  ok let u noe leav hous  oh ye like tortur watch england  wan na art  hope piss rememb gone sister someth  good morn boytoy yummi lip sexi bun think crave need  match lt gt 2  free call sir  hey want anyth buy  hey babe go ever figur go new year  congratul  g want know fuck  cancel yeah babi well sound import understand darlin give ring later fone love kate x  tomarrow want got court lt decim gt come bu stand 9  ìï go home liao ask dad pick 6  omg make wed chapel frontiervil get good stuff  eatin lor goin back work soon e mountain deer show huh watch b4 liao nice  check mail varma kept copi regard allah  wrong phone phone answer one assum peopl well  anyway think secur anyth lem know want drive south chill  alreadi back home probabl  bu way calicut  hi probabl much fun get messag thought id txt u co im bore jame fart night  hi babi im sat bloodi bu mo wont home wan na somethin later call later ortxt back jess xx  lost 4 pound sinc doc visit last week woot woot gon na celebr stuf face  u come back 4 dinner rite dad ask confirm wif u  master buy bb co sale bf  ahhhh woken bad dream u tho dont like u right didnt know anyth comedi night guess im  vivek got call number  u call lunch  mean left earli check co work  want lt gt rs da  want see pretti pussi  peopl game mall iouri kaila  futur plan tomorrow result today best present enjoy futur  cme want go ho 2morow wil cme got dear didnt say time  suppos meet discuss abt trip thought xuhui told afternoon thought go lesson  hey come onlin use msn  fine hope good take care  oop shower u call hey park garag collaps univers hospit see crazi stuff like happen  aiyo u poor thing u dun wan 2 eat u bath alreadi  yar tot u knew di would happen long ago alreadi  gorgeou keep pix cum thank  jade paul didnåõt u txt u rememb barm want 2 talk 2 u txt  spend new year brother famili let plan meet next week readi spoil  u today  said okay sorri  slept thinkthi time lt gt pm danger  network job  dont let studi stress l8r  u haf 2 keep busi  rush work school rush go hungri  channel  tell coulda real valentin u never pick noth  made eta taunton plan hope still okday good see  hungri buy smth home  kate  drive read need write  look addi goe back monday suck  happi new year hope good semest  esplanad lor els  talk  hmph go head big baller  well like actual call someon punto woulda wors  nope sinc ayo travel forgotten guy  still around look pick later  someon year lt gt toyota camri like mr olayiwola mileag lt gt clean need know much sell rais dough soon land sell holla back  guess pub im im happi pig clover whatev say  ill b soon  oh come tomorrow  go fool dont cheat other ok  mobil sm ur mail regard achan  way meet mountain dont  u attend ur drive lesson mani time wk n day  uncl g check reward month  hello boytoy geeee miss today like send tm remind think love  think two still need get cash def readi 9  hey gal u wan na meet 4 dinner nìâte  babe talk think good boy miss love  great offic today  cool last littl get time soon  sad puppi nois  ye possibl dint tri pl dont tell one k  anyway holla whenev around need excus go creep peopl sarasota  happen  gon na ask lol think 7  go chase run cross street  hey inconveni si huh  ok u know got adsens  realli good see day dudett miss  want go perumbavoor  mani time told stage use laugh listen aha  hear  thank talk saturday dear cherish brother role model  pl clarifi back open return ticket prepon go back kerala  ran younger man make pretti babi togeth  ic lol play 9 door sometim yo  dunno dad said come home 2 bring us 4 lunch yup go w u lor call u reach school lor  u go doctor 4 liver get bit stylish get ur hair manag that  dont open  yeah basic time next week get away mom amp get 3  vote wherev heart guid  si lor juz watch italian job  tick tick tick could die loneli know need  lmao know well  train back northampton afraid stay skyve today ho ho around wednesday though fanci comedi club week way  goodnight da thangam realli miss u dear  hey next sun 1030 basic yoga cours bugi go pilat intro next sat tell time r free  geeeee internet realli bad today eh  think disturb da  sorri call later meet sir  havent stuck orchard dad car go 4 dinner u leh r free tonight  ok also wan 2 watch e 9 pm show  dunno lei like dun haf  brother transfer lt gt lt gt pa  call later afternoon onword mtnl servic get problem south mumbai hear listen  talk g x  hai dear friend new amp present rajitha raj ranju  differ style  gud ni8  well glad find total disagre lol  guy flash go call call madam take care oh  mark work tomorrow get work hous meet u afterward  ur problem ur heart  yeah give call got minut  babe uawak feellikw via alett thatmum gotmarri ourback åð fuckinnic selfish  amaz rearrang letter give mean dormitori dirti room astronom moon starer eye see elect result lie let recount woman hitler eleven plu two plu one amaz  aiya discuss later lar pick 4  hey happi birthday  sorri miss call pleas call back  omg one thing anoth cat worm bad day end  good morn im suffer fever dysentri abl come offic today  wont anyth de  type stuff sing  st andr virgil cream  fri ah oki lor goin 4 drivin den go shoppin tt  gokila talk aha  hi shanil rakhesh exchang uncut diamond back excel servic dino prem  month kote birthday know  realli realli broke oh amount small even lt gt  sorri mate phone didnt write love kate  ah well confus thing doesnt thought friend mayb wrong thing alreadi sort invit may come co money  aight call close  nope that fine might nap tho  news hassl get weed week andr money haughaighgtujhyguj  ding ya break fassyol blacko londn  realli need 2 kiss u miss u babi ur babi 4eva  oh got mani respons  reach sch alreadi  u definit need modul e human di sem izzit u wan 2 take modul 1st  argh fuck nobodi town  thank fill complet calm reassur  aslamalaikkum allah tohar beeen muht albi mufti mahfuuz mean  drive train  lol real told dad cancer  oop lt gt  enufcredeit ileav uni 6 bu yor hous  hi chikku send nice msg  imposs argu alway treat like sub like never releas remind necessari  work ah den 6 plu lor u workin oso rite den go orchard lor place go liao  wonder okor great month cherish guy wish well day mojibiola  cuz ibor wan na studi  wot wed nite 3 til 9  way  suck go u hair free right  still work time also tri ad zero save check lt gt  hmm dunno leh mayb bag 4 goigng dat small ju anyth except perfum smth dat keep  sday train start today  sorri grocer  nice pub near franki n benni near warner cinema  yup havent want go yoga call book  oh shut omg yesterday dream 2 kid boy piss kid boy even told mark dream chang diaper caus get owe face  yeah imagin would realli gentl unlik doc treat patient like turkey  start dont stop pray good idea anyth see help guy forward link  hi darlin im helen fone im gon na b princ 2 nite pleas come tb love kate  offic da  aiyar u poor thing give u support k jia think u  oh unintent bad time great finger train play along give fifteen min warn  come wenev u lik come also tel vikki come get free  pl call da happen  happi new year u ur famili may new year bring happi stabil tranquil ur vibrant colour life  problem renew right away dont know detail  idk sit stop shop park lot right bawl eye feel like failur everyth nobodi want feel like fail  left yet probabl gon na til dinner  like lt gt question  new year eve went parti boyfriend si hey  sir need velusami sir date birth compani bank facil detail  k k sm chat  come karnan car pleas wait till 6pm directli goto doctor  bluray player  ok r meet later  lol need cash nitro hurri come crash  send text skype later  ok leav need ask  ìï still got lesson ìï sch  dun believ leh tot told true alreadi thk muz c us tog believ  oh charg camera  got salt rub open wound like  go lunch  school n da lab stuff give call r done  aight text tonight see  u 2  water log desert geoenvironment implic  strang watch 2nd one bed sweet dream miss u  hi hope u r ok said would text u seen let gentli pleas  babe fuck love know fuck good hear voic need crave ca get enough ador ahmad  k sure rel home sm de pl  fuuuuck need stop sleepin sup  town ju take mrt later  cook rather nice salmon la  upload mine facebook  time u wrkin  oh oh den muz chang plan liao go back yan jiu  wyli tampa sarasota  ok take ur time n enjoy ur dinner  darren say dat u meet da ge den dun meet 4 dinner co later u leav xy feel awkward den u meet 4 lunch lor  like cheap happi splash wine make feel  fine difficulti phone work mine pl send anoth friend request  ugh leg hurt musta overdid mon  wot student discount u get book  come get b quit diff guess rite  babe answer ca see mayb better reboot ym got photo great  think match  know thinkin malaria relax children cant handl malaria would wors gastroenter take enough replac loss temp reduc give malaria med vomit self limit ill mean day complet stop  dai download exe file run exe instal  yesterday true true  busi  3 pa select  well that nice bad cant eat  accident brought em home box  pl need dat slowli vomit  take exam march 3  jane babe goin 2 wrk feel ill lst nite fone alreadi cover 4 chuck  5 night nt stay port step liao ex  die want u stuff  fuck juswok bed boatin dock slept wid 25 year old spinout giv u da gossip l8r  alex nichol middl school turn deal  mean u could keep ur word  nope still market  realis busi guy tri bother get exam outta way tri car gr8 day  hey project start aha da  ok cool see ya  uworld site buy qbank buy self assess also  yeah still give ride  jay want work first 4 sound  gud chikku tke sleep well gud nyt  hmm think lor  cours teas know simpli must see keep post prey  thank temal wonder thank great week  thank princess want see nice juici booti  eaten day sit stare juici pizza ca eat med ruin life  u come n search tat  k leav soon littl 9  yeah work fine start last week stuff dull easi guy fun  studi alon without anyon help cant need studi  pleas tell car key purs  didnt get anyth da  ok sweet dream  well big surpris  1 cbe 2 chennai  help u swoop pick u wherev ur bird r meet u want  anyon call treadmil say buy make sure work found ad craigslist sell lt gt  absolut love south park recent start watch offic  see film  pl speak wont ask anyth friendship  gud care  hi darlin kate u doin somethin tonight im go pub call swan someth parent one drink phone u  anyth lar go home 4 dinner    u fix teeth take care  u wan 2 come dinner tonight  u u 2 u b move flat co need arrang pick lamp etc take care hello carolin  late  hi hope ur day good back walk tabl book half eight let know ur come  oh yeah clearli fault  dunno leh cant rememb mayb lor wat time r meet tmr  best msg hard person u know one step foward make u fall amp one step back ruin ur good night  vikki come around lt time gt  princess  gone get info bt dont know  yeah probabl  still pretti weak today bad day  hey forget mine possess properti mmm  excel thought misundrstud frnd knw u hate bt day wen u knw truth u hate urself gn  hey congrat 2u2 id luv 2 ive 2 go home  dear call  xy tri smth u eat alreadi havent  donno gene someth  alex say ok ok  u come funer home  darl sister school resum minimum wait period reappli take care  hand phone chat wit u  well good morn mr how london treatin ya treacl  ca make tonight  lt gt buck bank fee fix better call bank find  tell quit long co finish film yet  pl ask macho much budget bb bold 2 co saw new one lt gt dollar  miss call mumha beendrop red wine theplac adress  ill 3 min look  leav  come back thursday yay gon na ok get money cheer oh yeah everyth alright how school call work  jolli good way give u ticket sat eve speak x  yeah think  go tirunelvali week see uncl alreadi spend amount take dress want give feb 1  got ur favorit oyster n got favorit sashimi ok lar dun say alreadi wait ur stomach start rumbl  sister go earn da  ju finish watch tv u  k fyi back parent place south tampa might need deal somewher els  good morn love go sleep wish great day full feel better opportun last thought babe love  kothi print marandratha  havent got da topic yet rite  ok problem yup go sch 4 rem correctli  thank keep mind  aah bless arm  dear sir salam pleasur meet today tea pleas send contact number save regard  gal n boy walk park hold ur hand u think would run away jst wana c feel walk heaven  make happi  wish wonder week  sweet heart  sir wait letter  dude im longer pisc im aquariu  x cours 2yr messag messeng lik r send  think steyn sure get one wicket  neither sterm voic studi fine sure thing resolv tho anyway fab hol  garbag bag egg jam bread hannaford wheat chex  pride almost lt gt year old takin money kid suppos deal stuff grownup stuff tell  sound better even im costum im sure time finish tomorrow txt end  birthday feb lt gt da  wan na gym  like would jerk  u awak snow  cours make stink  go open room thanksgiv without upcharg  guy plan come  wat  sir trip bu last week anoth audit next wednesday think might drive time  thought put back box  home  one interest may busi plan  yup paragon havent decid whether 2 cut yet hee  good morn princess great day  guai ìï shd haf seen naughti ìï free today go jog  aiyo co sm neva repli wait 4 repli lar tot havent finish ur lab wat  live love also laugh win tooo difficult  tell someth that okay  hmm shall bring bottl wine keep us amus joke still bring bottl red white see tomorrow  ur face test 1 2 3 4 5 6 7 8 9 lt gt select number tell ur face astrolog wait quick repli  hey iouri gave number wyli ryan friend  yep get program slack  insid fill know leav  think mentor 100 percent sure  tri figur suppos see coupl differ peopl week said get togeth set date  hi mom might back later lt gt  lol oh got friend dog  problem u frm wat matter  k head min see  want leav bare stay sane fight constantli help  somebodi set websit play hold em use eve onlin spacebuck  sunni california weather cool  make squeez lt gt buck dad  good day teeth pain maintain stuff  babe hope shit night sleep fell asleep knacker iåõm dread work tonight thou upto tonight x  friend help us problem give stupid suggest land us anoth problem help us forgt previou problem  gentl babi soon take lt gt inch deep insid tight pussi  much fight good nite  nt joke serious told  watch ajith film ah  ooooooh forgot tell u get yovil phone  done hand know mega shop asda count celebr that  dont know exactli could ask chechi  dunno lei shd b drive lor co go sch 1 hr oni  want custom offic discount oh  necessarili respect  hi hope good day better night  appar bff carli quick  hard true much show amp express love someon much hurt leav get seper even  babe think got ur brolli left english wil bring 2mrw 4 u luv franxx  hi babe thank come even though didnt go well want bed hope see soon love kiss xxx  gd got free ice cream oso wan  pl give prometazin syrup 5ml lt gt min later feed  mani day sinc  dear angri busi dear  yup msg tat yiju tot group mate co meet today mah askin leav earlier wat mah co mayb haf walk v far  pub  first time everyth  daddi shu shu look 4 u u wan 2 tell u singapor wat  ask u meet da ge tmr nite  gr8 handl victoria island traffic plu album due  nite nite pocay wocay luv u n e thing 4eva promis ring u 2morrowxxxx  east coast  get chicken broth want ramen unless know  slave want take 2 3 pictur today bright light cell phone bright light  nope forgot show next week  realli master  bruce amp fowler mom car ca park long stori  dont know oh hope month  hi elain today meet confirm  ok knw 2  u horribl gal u knew dat go wif yest n u still come n ask  oh yeah diet flew window  didnt complet gist oh  er yeah b sorri tell sit come wen u  make time tonight whenev cool text whenev around  pay attent  thanx lot 4 ur help  gon na way specif  jesu armand realli tri tell everybodi find  wif buy tix lar  mode men left  slow use biola fne  youdo later sar  hey book 2 lesson sun liao  thank gener date brotha  way make sure u get train worc foreg street shrub hill fun night x  thought get watch co that kind thing u get4an18th love much  good morn repair shop reason hour  fine got enough bud last night least  back good journey let know need receipt shall tell like pendent  take away money worri  aight pick open tonight  sac need carri  sing hu think also import find someon femal know place well prefer citizen also smart help navig even thing like choos phone plan requir guidanc doubt ask especi girl  hello wat talk email address  except there chick huge boob  im wonder right  wish beauti day moment reveal even thing keep smile enjoy  hear loud scream lt gt minut caus gyno shove thing belong  ok thk got u wan 2 come wat  u goin 2nite  treasur everi moment spend togeth  shall bring us bottl wine keep us amus joke bring one anyway  thought slide enough  well obvious peopl cool colleg life went home  ok lor reach messag  mummi boy good bad posit neg mummi made wait hmmmm  dhoni luck win big win  ye princess want pleas everi night wish command  probabl lt gt  realli hope work doesnt get stress gr8 day  seen back holbi  shall call dear food  li hai bore da lectur repeat last week stuff wast time  pick variou point go 2 yeovil motor project 4 3 hour u take home 12 2 max easi  also fuck famili go rhode island wherev fuck leav alon week new bong gt  ofcours also upload song  oh thank alreadi bought 2 egg  u studi sch go home anyway b go 2 sch later  think rule tough peopl  cool shall go see go tip anyway home got someth drop later let go town tonight mayb mum take us  good afternoon love goe day sleep hope well boytoy think  ye trust u buy new stuff asap tri  wake gt  get step 2 outta way congrat  love one law make happi person love way friendship one law never make ur friend feel alon aliv gud night  apo mokka player  perhap much easi give account identif tomorrow uni  wait msg lt gt min  told tell stupid hear wont tell anyth dad call brother spoken  god love limit god grace measur god power boundari may u god endless bless alway ur life gud ni8  want insid everi night  machan go gym tomorrow wil come late goodnight  lol mad first woke gave  reassur crazi world  make dinner  ye pleas leav lt gt lt gt leav  oh oki lor go sat  great role model give much realli wish day miracl god reason everyth must say wish knew dont look sinc young still great day  ya referin mei ex wat ah waitin 4 u treat somebodi shld b rich liao gd den u dun work frm tmr onward  mile smile r made frm letter u know smile ur face keep happi even though mile away keep good nyt  way put skip right outsid front hous see hous pull  pl send compani name saibaba colani  dont want hear anyth  big chic common declar  that cool want pleas  go join tomorrow  want tell bad feel basic time text late need drug  total disappoint text craziest shit got  effect irrit ignor  one  think tantrum finish yeah point  compliment away system side  happen adventur  hey chief give bell get need talk royal visit 1st june  ok anoth number  aiyah ok wat long got improv alreadi wat  ca believ attach see everi day know best get babe go teach class midnight  yeah ju rite  armand say get ass epsilon  u still havent got urself jacket ah  take derek amp taylor walmart back time done leav mous desk text priscilla readi  hi durban still number  ic lotta childporn car  tri weekend v  know wot peopl wear shirt jumper hat belt know r cribb  cool time think get  wen get spiritu deep great  safe trip nigeria wish happi soon compani share moment  well keep mind got enough ga one round trip bar sudden influx cash  yeh indian nice tho kane bit shud go 4 drink sometim soon mite hav 2 go 2 da work 4 laugh soon love pete x x  ye u text pshew miss much  meant calcul lt gt unit lt gt school realli expens start practic accent import decid 4year dental school nmde exam  next lt gt hour imma flip shit  anyth lor juz us lor  get dump heap mom decid come low bore  ok lor soni ericsson salesman ask shuhui say quit gd 2 use consid  ard 6 like dat lor  wait least wednesday see get  huh lei  b go esplanad fr home  piti mood suggest  guy bitch act like interest buy someth els next week gave us free  rofl true name'"
      ]
     },
     "execution_count": 81,
     "metadata": {},
     "output_type": "execute_result"
    }
   ],
   "source": [
    "df[df['target']==0]['transformed_text'].str.cat(sep=\"  \")"
   ]
  },
  {
   "cell_type": "code",
   "execution_count": 83,
   "metadata": {},
   "outputs": [
    {
     "data": {
      "text/plain": [
       "['free entri 2 wkli comp win fa cup final tkt 21st may text fa 87121 receiv entri question std txt rate c appli 08452810075over18',\n",
       " 'freemsg hey darl 3 week word back like fun still tb ok xxx std chg send rcv',\n",
       " 'winner valu network custom select receivea prize reward claim call claim code kl341 valid 12 hour',\n",
       " 'mobil 11 month u r entitl updat latest colour mobil camera free call mobil updat co free 08002986030',\n",
       " 'six chanc win cash 100 pound txt csh11 send cost 6day tsandc appli repli hl 4 info',\n",
       " 'urgent 1 week free membership prize jackpot txt word claim 81010 c lccltd pobox 4403ldnw1a7rw18',\n",
       " 'xxxmobilemovieclub use credit click wap link next txt messag click http',\n",
       " 'england v macedonia dont miss news txt ur nation team 87077 eg england 87077 tri wale scotland poboxox36504w45wq',\n",
       " 'thank subscript rington uk mobil charg pleas confirm repli ye repli charg',\n",
       " '07732584351 rodger burn msg tri call repli sm free nokia mobil free camcord pleas call 08000930705 deliveri tomorrow']"
      ]
     },
     "execution_count": 83,
     "metadata": {},
     "output_type": "execute_result"
    }
   ],
   "source": [
    "# we can pick top 30 words from ham and spam\n",
    "df[df['target']==1]['transformed_text'].tolist() [:10]"
   ]
  },
  {
   "cell_type": "code",
   "execution_count": 84,
   "metadata": {},
   "outputs": [],
   "source": [
    "spam_corpus=[]\n",
    "for msg in df[df['target']==1]['transformed_text'].tolist():\n",
    "    for word in msg.split():\n",
    "        spam_corpus.append(word)"
   ]
  },
  {
   "cell_type": "code",
   "execution_count": 85,
   "metadata": {},
   "outputs": [
    {
     "data": {
      "text/plain": [
       "9883"
      ]
     },
     "execution_count": 85,
     "metadata": {},
     "output_type": "execute_result"
    }
   ],
   "source": [
    "len(spam_corpus)"
   ]
  },
  {
   "cell_type": "code",
   "execution_count": 86,
   "metadata": {},
   "outputs": [
    {
     "data": {
      "text/plain": [
       "[('call', 320),\n",
       " ('free', 189),\n",
       " ('2', 155),\n",
       " ('txt', 141),\n",
       " ('text', 122),\n",
       " ('u', 119),\n",
       " ('ur', 119),\n",
       " ('mobil', 114),\n",
       " ('stop', 104),\n",
       " ('repli', 103),\n",
       " ('claim', 98),\n",
       " ('prize', 82),\n",
       " ('4', 76),\n",
       " ('get', 74),\n",
       " ('new', 64),\n",
       " ('servic', 64),\n",
       " ('tone', 63),\n",
       " ('send', 60),\n",
       " ('urgent', 57),\n",
       " ('nokia', 57),\n",
       " ('contact', 56),\n",
       " ('award', 55),\n",
       " ('phone', 52),\n",
       " ('cash', 51),\n",
       " ('pleas', 50),\n",
       " ('week', 49),\n",
       " ('win', 48),\n",
       " ('c', 45),\n",
       " ('collect', 45),\n",
       " ('min', 45)]"
      ]
     },
     "execution_count": 86,
     "metadata": {},
     "output_type": "execute_result"
    }
   ],
   "source": [
    "Counter(spam_corpus).most_common(30)"
   ]
  },
  {
   "cell_type": "code",
   "execution_count": 87,
   "metadata": {},
   "outputs": [
    {
     "data": {
      "image/png": "[encoded data removed]",
      "text/plain": [
       "<Figure size 432x288 with 1 Axes>"
      ]
     },
     "metadata": {},
     "output_type": "display_data"
    }
   ],
   "source": [
    "sns.barplot(pd.DataFrame(Counter(spam_corpus).most_common(30))[0],pd.DataFrame(Counter(spam_corpus).most_common(30))[1])\n",
    "plt.xticks(rotation='vertical')\n",
    "plt.show()"
   ]
  },
  {
   "cell_type": "code",
   "execution_count": 88,
   "metadata": {},
   "outputs": [
    {
     "name": "stdout",
     "output_type": "stream",
     "text": [
      "34771\n"
     ]
    },
    {
     "data": {
      "image/png": "[encoded data removed]",
      "text/plain": [
       "<Figure size 432x288 with 1 Axes>"
      ]
     },
     "metadata": {},
     "output_type": "display_data"
    }
   ],
   "source": [
    "ham_corpus=[]\n",
    "for msg in df[df['target']==0]['transformed_text'].tolist():\n",
    "    for word in msg.split():\n",
    "        ham_corpus.append(word)\n",
    "print(len(ham_corpus))\n",
    "\n",
    "sns.barplot(pd.DataFrame(Counter(ham_corpus).most_common(30))[0],pd.DataFrame(Counter(ham_corpus).most_common(30))[1])\n",
    "plt.xticks(rotation='vertical')\n",
    "plt.show()"
   ]
  },
  {
   "cell_type": "markdown",
   "metadata": {},
   "source": [
    "---------------------"
   ]
  },
  {
   "cell_type": "markdown",
   "metadata": {},
   "source": [
    "### Data Preparation ::"
   ]
  },
  {
   "cell_type": "code",
   "execution_count": 118,
   "metadata": {},
   "outputs": [],
   "source": [
    "df1=df.drop(columns=['text','num_characters','num_words','num_sentences']).copy()"
   ]
  },
  {
   "cell_type": "code",
   "execution_count": 119,
   "metadata": {},
   "outputs": [
    {
     "data": {
      "text/html": [
       "<div>\n",
       "<style scoped>\n",
       "    .dataframe tbody tr th:only-of-type {\n",
       "        vertical-align: middle;\n",
       "    }\n",
       "\n",
       "    .dataframe tbody tr th {\n",
       "        vertical-align: top;\n",
       "    }\n",
       "\n",
       "    .dataframe thead th {\n",
       "        text-align: right;\n",
       "    }\n",
       "</style>\n",
       "<table border=\"1\" class=\"dataframe\">\n",
       "  <thead>\n",
       "    <tr style=\"text-align: right;\">\n",
       "      <th></th>\n",
       "      <th>target</th>\n",
       "      <th>transformed_text</th>\n",
       "    </tr>\n",
       "  </thead>\n",
       "  <tbody>\n",
       "    <tr>\n",
       "      <th>0</th>\n",
       "      <td>0</td>\n",
       "      <td>go jurong point avail bugi n great world la e ...</td>\n",
       "    </tr>\n",
       "    <tr>\n",
       "      <th>1</th>\n",
       "      <td>0</td>\n",
       "      <td>ok lar joke wif u oni</td>\n",
       "    </tr>\n",
       "    <tr>\n",
       "      <th>2</th>\n",
       "      <td>1</td>\n",
       "      <td>free entri 2 wkli comp win fa cup final tkt 21...</td>\n",
       "    </tr>\n",
       "    <tr>\n",
       "      <th>3</th>\n",
       "      <td>0</td>\n",
       "      <td>u dun say earli hor u c alreadi say</td>\n",
       "    </tr>\n",
       "    <tr>\n",
       "      <th>4</th>\n",
       "      <td>0</td>\n",
       "      <td>nah think goe usf live around though</td>\n",
       "    </tr>\n",
       "  </tbody>\n",
       "</table>\n",
       "</div>"
      ],
      "text/plain": [
       "   target                                   transformed_text\n",
       "0       0  go jurong point avail bugi n great world la e ...\n",
       "1       0                              ok lar joke wif u oni\n",
       "2       1  free entri 2 wkli comp win fa cup final tkt 21...\n",
       "3       0                u dun say earli hor u c alreadi say\n",
       "4       0               nah think goe usf live around though"
      ]
     },
     "execution_count": 119,
     "metadata": {},
     "output_type": "execute_result"
    }
   ],
   "source": [
    "df1.head()"
   ]
  },
  {
   "cell_type": "code",
   "execution_count": 120,
   "metadata": {},
   "outputs": [],
   "source": [
    "y=df1['target'].values"
   ]
  },
  {
   "cell_type": "code",
   "execution_count": 121,
   "metadata": {},
   "outputs": [],
   "source": [
    "x_train,test_df,y_train,y_test=train_test_split(df1,y,test_size=0.2,random_state=42, stratify=y)\n",
    "train_df,cv_df,y_train,y_cv=train_test_split(x_train,y_train,test_size=0.2,random_state=42, stratify=y_train)"
   ]
  },
  {
   "cell_type": "code",
   "execution_count": 125,
   "metadata": {},
   "outputs": [
    {
     "name": "stdout",
     "output_type": "stream",
     "text": [
      "Number of data points in train data: 3308\n",
      "Number of data points in test data: 1034\n",
      "Number of data points in cross validation data: 827\n"
     ]
    }
   ],
   "source": [
    "print('Number of data points in train data:', train_df.shape[0])\n",
    "print('Number of data points in test data:', test_df.shape[0])\n",
    "print('Number of data points in cross validation data:', cv_df.shape[0])"
   ]
  },
  {
   "cell_type": "code",
   "execution_count": 124,
   "metadata": {},
   "outputs": [
    {
     "data": {
      "image/png": "[encoded data removed]",
      "text/plain": [
       "<Figure size 432x288 with 1 Axes>"
      ]
     },
     "metadata": {},
     "output_type": "display_data"
    },
    {
     "name": "stdout",
     "output_type": "stream",
     "text": [
      "Number of data points in class 1 : 2890 ( 87.364 %)\n",
      "Number of data points in class 2 : 418 ( 12.636 %)\n"
     ]
    },
    {
     "data": {
      "image/png": "[encoded data removed]",
      "text/plain": [
       "<Figure size 432x288 with 1 Axes>"
      ]
     },
     "metadata": {},
     "output_type": "display_data"
    },
    {
     "name": "stdout",
     "output_type": "stream",
     "text": [
      "Number of data points in class 1 : 903 ( 87.331 %)\n",
      "Number of data points in class 2 : 131 ( 12.669 %)\n"
     ]
    },
    {
     "data": {
      "image/png": "[encoded data removed]",
      "text/plain": [
       "<Figure size 432x288 with 1 Axes>"
      ]
     },
     "metadata": {},
     "output_type": "display_data"
    },
    {
     "name": "stdout",
     "output_type": "stream",
     "text": [
      "Number of data points in class 1 : 723 ( 87.424 %)\n",
      "Number of data points in class 2 : 104 ( 12.576 %)\n"
     ]
    }
   ],
   "source": [
    "# Having a check of distribution of y_i's across Train, Test and Cross Validation \n",
    "\n",
    "train_class=train_df['target'].value_counts().sort_index()\n",
    "train_class.plot(kind='bar')\n",
    "plt.xlabel('Class')\n",
    "plt.ylabel('Data points per Class')\n",
    "plt.title('Distribution of yi in train data')\n",
    "plt.grid()\n",
    "plt.show()\n",
    "sorted_y = np.argsort(-train_class.values)\n",
    "for i in sorted_y:\n",
    "    print('Number of data points in class', i+1, ':',train_class.values[i], '(', np.round((train_class.values[i]/train_df.shape[0]*100), 3), '%)')\n",
    "\n",
    "\n",
    "test_class=test_df['target'].value_counts().sort_index()\n",
    "test_class.plot(kind='bar')\n",
    "plt.xlabel('Class')\n",
    "plt.ylabel('Data points per Class')\n",
    "plt.title('Distribution of yi in test data')\n",
    "plt.grid()\n",
    "plt.show()\n",
    "sorted_y = np.argsort(-test_class.values)\n",
    "for i in sorted_y:\n",
    "    print('Number of data points in class', i+1, ':',test_class.values[i], '(', np.round((test_class.values[i]/test_df.shape[0]*100), 3), '%)')\n",
    "\n",
    "    \n",
    "cv_class=cv_df['target'].value_counts().sort_index()\n",
    "cv_class.plot(kind='bar')\n",
    "plt.xlabel('Class')\n",
    "plt.ylabel('Data points per Class')\n",
    "plt.title('Distribution of yi in test data')\n",
    "plt.grid()\n",
    "plt.show()\n",
    "sorted_y = np.argsort(-cv_class.values)\n",
    "for i in sorted_y:\n",
    "    print('Number of data points in class', i+1, ':',cv_class.values[i], '(', np.round((cv_class.values[i]/cv_df.shape[0]*100), 3), '%)')\n",
    "\n",
    "    "
   ]
  },
  {
   "cell_type": "markdown",
   "metadata": {},
   "source": [
    "##### - Good even distribution among train, test and CV. So we can proceed for Modeling"
   ]
  },
  {
   "cell_type": "markdown",
   "metadata": {},
   "source": [
    "### MODEL BUILDING ::\n",
    "\n",
    "- Using Naive bayes which is a baseline model for text classification"
   ]
  },
  {
   "cell_type": "code",
   "execution_count": 194,
   "metadata": {},
   "outputs": [],
   "source": [
    "# final splitting\n",
    "tf=TfidfVectorizer(max_features=3000)\n",
    "\n",
    "y=df1['target'].values\n",
    "x=tf.fit_transform(df1['transformed_text']).tocsr()\n",
    "\n",
    "x_train,test_df,y_train,y_test=train_test_split(x,y,test_size=0.2,random_state=42, stratify=y)\n",
    "train_df,cv_df,y_train,y_cv=train_test_split(x_train,y_train,test_size=0.2,random_state=42, stratify=y_train)"
   ]
  },
  {
   "cell_type": "code",
   "execution_count": 195,
   "metadata": {},
   "outputs": [
    {
     "data": {
      "text/plain": [
       "(3308, 3000)"
      ]
     },
     "execution_count": 195,
     "metadata": {},
     "output_type": "execute_result"
    }
   ],
   "source": [
    "train_df.shape"
   ]
  },
  {
   "cell_type": "markdown",
   "metadata": {},
   "source": [
    "##### Multinomial Naive bayes"
   ]
  },
  {
   "cell_type": "code",
   "execution_count": 196,
   "metadata": {},
   "outputs": [
    {
     "name": "stdout",
     "output_type": "stream",
     "text": [
      "for alpha = 0.0001\n",
      "F1_Score  0.86\n",
      "for alpha = 0.001\n",
      "F1_Score  0.88\n",
      "for alpha = 0.01\n",
      "F1_Score  0.89\n",
      "for alpha = 0.1\n",
      "F1_Score  0.91\n",
      "for alpha = 1\n",
      "F1_Score  0.78\n",
      "for alpha = 10\n",
      "F1_Score  0.0\n"
     ]
    },
    {
     "data": {
      "image/png": "[encoded data removed]",
      "text/plain": [
       "<Figure size 432x288 with 1 Axes>"
      ]
     },
     "metadata": {},
     "output_type": "display_data"
    }
   ],
   "source": [
    "alpha = [10 ** x for x in range(-4, 2)]\n",
    "score=[]\n",
    "for i in alpha:\n",
    "    print(\"for alpha =\", i)\n",
    "    clf=MultinomialNB(alpha=i)\n",
    "    clf.fit(train_df,y_train)\n",
    "    pred_y=clf.predict(cv_df)\n",
    "    score.append(f1_score(y_cv,pred_y))\n",
    "    print(\"F1_Score \",round(f1_score(y_cv,pred_y),2))\n",
    "    \n",
    "plt.plot(alpha, score,c='r')\n",
    "for i in range(len(alpha)):\n",
    "    plt.annotate((alpha[i],np.round(score[i],3)), (alpha[i],score[i]))\n",
    "plt.xlabel(\"Alpha i's\")\n",
    "plt.ylabel(\"Accuracy measure\")\n",
    "plt.grid()\n",
    "plt.show()"
   ]
  },
  {
   "cell_type": "code",
   "execution_count": 197,
   "metadata": {},
   "outputs": [
    {
     "name": "stdout",
     "output_type": "stream",
     "text": [
      "F1_score  91.0 %\n",
      "precision  95.0 %\n"
     ]
    }
   ],
   "source": [
    "# applying the optimization\n",
    "\n",
    "best_alpha = np.argmax(score)\n",
    "clf=MultinomialNB(alpha=alpha[best_alpha])\n",
    "clf.fit(train_df,y_train)  \n",
    "\n",
    "pred_y=clf.predict(test_df)   # unseen data\n",
    "\n",
    "print(\"F1_score \", round(f1_score(y_test,pred_y),2)*100,'%')\n",
    "print(\"precision \",round(precision_score(y_test,pred_y),2)*100,'%')"
   ]
  },
  {
   "cell_type": "code",
   "execution_count": null,
   "metadata": {},
   "outputs": [],
   "source": []
  },
  {
   "cell_type": "markdown",
   "metadata": {},
   "source": [
    "- Having check at predictions"
   ]
  },
  {
   "cell_type": "code",
   "execution_count": 198,
   "metadata": {},
   "outputs": [
    {
     "name": "stdout",
     "output_type": "stream",
     "text": [
      "Predicted Class : 0\n",
      "Predicted Class Probabilities: [[0.9918 0.0082]]\n",
      "Actual Class : 0\n"
     ]
    }
   ],
   "source": [
    "test_index = 1\n",
    "\n",
    "predicted_cls = clf.predict(test_df[test_index])\n",
    "print(\"Predicted Class :\", predicted_cls[0])\n",
    "print(\"Predicted Class Probabilities:\", np.round(clf.predict_proba(test_df[test_index]),4))\n",
    "print(\"Actual Class :\", y_test[test_index])"
   ]
  },
  {
   "cell_type": "code",
   "execution_count": 199,
   "metadata": {},
   "outputs": [
    {
     "name": "stdout",
     "output_type": "stream",
     "text": [
      "Predicted Class : 1\n",
      "Predicted Class Probabilities: [[0. 1.]]\n",
      "Actual Class : 1\n"
     ]
    }
   ],
   "source": [
    "test_index = 1031\n",
    "\n",
    "predicted_cls = clf.predict(test_df[test_index])\n",
    "print(\"Predicted Class :\", predicted_cls[0])\n",
    "print(\"Predicted Class Probabilities:\", np.round(clf.predict_proba(test_df[test_index]),4))\n",
    "print(\"Actual Class :\", y_test[test_index])"
   ]
  },
  {
   "cell_type": "code",
   "execution_count": null,
   "metadata": {},
   "outputs": [],
   "source": []
  },
  {
   "cell_type": "markdown",
   "metadata": {},
   "source": [
    "##### Bernouli Naive Bayes ::"
   ]
  },
  {
   "cell_type": "code",
   "execution_count": 200,
   "metadata": {},
   "outputs": [
    {
     "name": "stdout",
     "output_type": "stream",
     "text": [
      "for alpha = 0.0001\n",
      "F1_Score  0.89\n",
      "for alpha = 0.001\n",
      "F1_Score  0.9\n",
      "for alpha = 0.01\n",
      "F1_Score  0.92\n",
      "for alpha = 0.1\n",
      "F1_Score  0.94\n",
      "for alpha = 1\n",
      "F1_Score  0.87\n",
      "for alpha = 10\n",
      "F1_Score  0.0\n"
     ]
    },
    {
     "data": {
      "image/png": "[encoded data removed]",
      "text/plain": [
       "<Figure size 432x288 with 1 Axes>"
      ]
     },
     "metadata": {},
     "output_type": "display_data"
    }
   ],
   "source": [
    "alpha = [10 ** x for x in range(-4, 2)]\n",
    "score=[]\n",
    "for i in alpha:\n",
    "    print(\"for alpha =\", i)\n",
    "    clf=BernoulliNB(alpha=i)\n",
    "    clf.fit(train_df,y_train)\n",
    "    pred_y=clf.predict(cv_df)\n",
    "    score.append(f1_score(y_cv,pred_y))\n",
    "    print(\"F1_Score \",round(f1_score(y_cv,pred_y),2))\n",
    "    \n",
    "plt.plot(alpha, score,c='r')\n",
    "for i in range(len(alpha)):\n",
    "    plt.annotate((alpha[i],np.round(score[i],3)), (alpha[i],score[i]))\n",
    "plt.xlabel(\"Alpha i's\")\n",
    "plt.ylabel(\"Accuracy measure\")\n",
    "plt.grid()\n",
    "plt.show()"
   ]
  },
  {
   "cell_type": "code",
   "execution_count": 201,
   "metadata": {},
   "outputs": [
    {
     "name": "stdout",
     "output_type": "stream",
     "text": [
      "F1_score  93.0 %\n",
      "precision  98.0 %\n"
     ]
    }
   ],
   "source": [
    "# applying the optimization\n",
    "\n",
    "best_alpha = np.argmax(score)\n",
    "clf=BernoulliNB(alpha=alpha[best_alpha])\n",
    "clf.fit(train_df,y_train)  \n",
    "\n",
    "pred_y=clf.predict(test_df)   # unseen data\n",
    "\n",
    "print(\"F1_score \", round(f1_score(y_test,pred_y),2)*100,'%')\n",
    "print(\"precision \",round(precision_score(y_test,pred_y),2)*100,'%')"
   ]
  },
  {
   "cell_type": "markdown",
   "metadata": {},
   "source": [
    "- Bernoulli performing better than multinomial\n"
   ]
  },
  {
   "cell_type": "markdown",
   "metadata": {},
   "source": [
    "##### Logistic Regression"
   ]
  },
  {
   "cell_type": "code",
   "execution_count": 208,
   "metadata": {},
   "outputs": [
    {
     "name": "stdout",
     "output_type": "stream",
     "text": [
      "for alpha = 1e-06\n",
      "f1 score : 0.8795811518324608\n",
      "for alpha = 1e-05\n",
      "f1 score : 0.875\n",
      "for alpha = 0.0001\n",
      "f1 score : 0.7745664739884394\n",
      "for alpha = 0.001\n",
      "f1 score : 0.37209302325581395\n",
      "for alpha = 0.01\n",
      "f1 score : 0.0\n",
      "for alpha = 0.1\n",
      "f1 score : 0.0\n",
      "for alpha = 1\n",
      "f1 score : 0.0\n",
      "for alpha = 10\n",
      "f1 score : 0.0\n",
      "for alpha = 100\n",
      "f1 score : 0.0\n"
     ]
    },
    {
     "data": {
      "image/png": "[encoded data removed]",
      "text/plain": [
       "<Figure size 432x288 with 1 Axes>"
      ]
     },
     "metadata": {},
     "output_type": "display_data"
    }
   ],
   "source": [
    "alpha = [10 ** x for x in range(-6, 3)]\n",
    "scores = []\n",
    "for i in alpha:\n",
    "    print(\"for alpha =\", i)\n",
    "    clf = SGDClassifier( alpha=i, penalty='l2', loss='log', random_state=42)   \n",
    "    clf.fit(train_df,y_train)\n",
    "    pred_y= clf.predict(cv_df)\n",
    "    scores.append(f1_score(y_cv, pred_y))\n",
    "    print(\"f1 score :\",f1_score(y_cv, pred_y))\n",
    "    \n",
    "\n",
    "plt.plot(alpha, scores,c='g')\n",
    "for i in range(len(alpha)):\n",
    "    plt.annotate((alpha[i],np.round(scores[i],3)), (alpha[i],scores[i]))\n",
    "plt.xlabel(\"Alpha i's\")\n",
    "plt.ylabel(\"Accuracy measure\")\n",
    "plt.grid()\n",
    "plt.show()"
   ]
  },
  {
   "cell_type": "code",
   "execution_count": 211,
   "metadata": {},
   "outputs": [
    {
     "name": "stdout",
     "output_type": "stream",
     "text": [
      "F1_score  84.0 %\n"
     ]
    }
   ],
   "source": [
    "best_alpha = np.argmax(score)\n",
    "clf = SGDClassifier( alpha=alpha[best_alpha], penalty='l2', loss='log', random_state=42)\n",
    "clf.fit(train_df,y_train)\n",
    "sig_clf = CalibratedClassifierCV(clf, method=\"sigmoid\")\n",
    "sig_clf.fit(train_df,y_train)\n",
    "pred_y=sig_clf.predict(test_df)   # unseen data\n",
    "\n",
    "print(\"F1_score \", round(f1_score(y_test,pred_y),2)*100,'%')\n"
   ]
  },
  {
   "cell_type": "code",
   "execution_count": null,
   "metadata": {},
   "outputs": [],
   "source": []
  },
  {
   "cell_type": "markdown",
   "metadata": {},
   "source": [
    "### Conclusion :\n",
    "- using Bernoulli NB as a base model.\n",
    "- can alter max features and have a try with CountVectorizer to improve accuracy"
   ]
  }
 ],
 "metadata": {
  "kernelspec": {
   "display_name": "Python 3",
   "language": "python",
   "name": "python3"
  },
  "language_info": {
   "codemirror_mode": {
    "name": "ipython",
    "version": 3
   },
   "file_extension": ".py",
   "mimetype": "text/x-python",
   "name": "python",
   "nbconvert_exporter": "python",
   "pygments_lexer": "ipython3",
   "version": "3.6.5"
  }
 },
 "nbformat": 4,
 "nbformat_minor": 2
}
